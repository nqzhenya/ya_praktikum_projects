{
 "cells": [
  {
   "cell_type": "markdown",
   "metadata": {},
   "source": [
    "<font color='blue' size=5><b>Комментарий ревьюера</b></font>\n",
    "\n",
    "<font color='blue'>Привет, Женя! Меня зовут Павел Григорьев, и я буду проверять этот проект.<br>Моя основная цель - не указать на совершённые тобой ошибки, а поделиться своим опытом и помочь тебе совершенствоваться как профессионалу.<br>Спасибо за проделанную работу! Предлагаю общаться на «ты».</font>\n",
    "<details>\n",
    "\t<summary><u>Инструкция по организационным моментам (кликабельно)</u></summary>\n",
    "<font color='blue'>Я буду использовать различные цвета, чтобы было удобнее воспринимать мои комментарии:</font>\n",
    "\n",
    "\n",
    "---\n",
    "\n",
    "\n",
    "<font color='blue'>синий текст - просто текст комментария</font>\n",
    "\n",
    "<font color='green'>✔️ и зеленый текст - все отлично</font>\n",
    "\n",
    "<font color='orange'>⚠️ и оранжевый текст - сделано все правильно, однако есть рекомендации, на что стоит обратить внимание</font>\n",
    "\n",
    "<font color='red'>❌ и красный текст - есть недочеты</font>\n",
    "\n",
    "\n",
    "</details>    \n",
    "    </br>\n",
    "<font color='blue'>Пожалуйста, не удаляй мои комментарии в случае возврата работы, так будет проще разобраться, какие были недочеты, а также сразу увидеть исправленное. </font>\n",
    "\n",
    "Ответы на мои комментарии лучше тоже помечать.\n",
    "Например: <font color='purple'><b>Комментарий студента</b></font>\n",
    "\n",
    "<font color='blue'><b>Давай смотреть, что получилось!</b></font>"
   ]
  },
  {
   "cell_type": "markdown",
   "metadata": {},
   "source": [
    "<font color='blue' size=3><b>Комментарий ревьюера 2</b></font>\n",
    "\n",
    "<font color='blue'>Привет еще раз. Спасибо, за исправления. Оформление комментариев по работе сохраняется. Только обозначим, что это вторая итерация.</font>"
   ]
  },
  {
   "cell_type": "markdown",
   "metadata": {
    "toc": true
   },
   "source": [
    "<h1>Содержание<span class=\"tocSkip\"></span></h1>\n",
    "<div class=\"toc\"><ul class=\"toc-item\"><li><span><a href=\"#Подготовка\" data-toc-modified-id=\"Подготовка-1\"><span class=\"toc-item-num\">1&nbsp;&nbsp;</span>Подготовка</a></span></li><li><span><a href=\"#Анализ\" data-toc-modified-id=\"Анализ-2\"><span class=\"toc-item-num\">2&nbsp;&nbsp;</span>Анализ</a></span></li><li><span><a href=\"#Обучение\" data-toc-modified-id=\"Обучение-3\"><span class=\"toc-item-num\">3&nbsp;&nbsp;</span>Обучение</a></span></li><li><span><a href=\"#Тестирование\" data-toc-modified-id=\"Тестирование-4\"><span class=\"toc-item-num\">4&nbsp;&nbsp;</span>Тестирование</a></span></li><li><span><a href=\"#Чек-лист-проверки\" data-toc-modified-id=\"Чек-лист-проверки-5\"><span class=\"toc-item-num\">5&nbsp;&nbsp;</span>Чек-лист проверки</a></span></li></ul></div>"
   ]
  },
  {
   "cell_type": "markdown",
   "metadata": {},
   "source": [
    "#  Прогнозирование заказов такси"
   ]
  },
  {
   "cell_type": "markdown",
   "metadata": {},
   "source": [
    "Компания «Чётенькое такси» собрала исторические данные о заказах такси в аэропортах. Чтобы привлекать больше водителей в период пиковой нагрузки, нужно спрогнозировать количество заказов такси на следующий час. Постройте модель для такого предсказания.\n",
    "\n",
    "Значение метрики *RMSE* на тестовой выборке должно быть не больше 48.\n",
    "\n",
    "Вам нужно:\n",
    "\n",
    "1. Загрузить данные и выполнить их ресемплирование по одному часу.\n",
    "2. Проанализировать данные.\n",
    "3. Обучить разные модели с различными гиперпараметрами. Сделать тестовую выборку размером 10% от исходных данных.\n",
    "4. Проверить данные на тестовой выборке и сделать выводы.\n",
    "\n",
    "\n",
    "Данные лежат в файле `taxi.csv`. Количество заказов находится в столбце `num_orders` (от англ. *number of orders*, «число заказов»)."
   ]
  },
  {
   "cell_type": "code",
   "execution_count": 1,
   "metadata": {},
   "outputs": [],
   "source": [
    "import pandas as pd\n",
    "import numpy as np\n",
    "\n",
    "from statsmodels.tsa.seasonal import seasonal_decompose\n",
    "\n",
    "from sklearn.model_selection import train_test_split, cross_val_score\n",
    "from sklearn.linear_model import LinearRegression\n",
    "from sklearn.ensemble import RandomForestRegressor\n",
    "from sklearn.metrics import mean_squared_error"
   ]
  },
  {
   "cell_type": "markdown",
   "metadata": {},
   "source": [
    "<font color='blue'><b>Комментарий ревьюера: </b></font> ✔️\\\n",
    "<font color='green'> Хорошее оформление импортов! \\\n",
    "Импорты собраны в одной ячейке, разделены на функциональные группы пустой строкой.</font>"
   ]
  },
  {
   "cell_type": "markdown",
   "metadata": {},
   "source": [
    "## Подготовка"
   ]
  },
  {
   "cell_type": "markdown",
   "metadata": {},
   "source": [
    "Открываем файл, проверяем информацию:"
   ]
  },
  {
   "cell_type": "code",
   "execution_count": 2,
   "metadata": {},
   "outputs": [],
   "source": [
    "data = pd.read_csv('/datasets/taxi.csv', index_col=[0], parse_dates=[0])"
   ]
  },
  {
   "cell_type": "markdown",
   "metadata": {},
   "source": [
    "<font color='blue'><b>Комментарий ревьюера: </b></font> ✔️\\\n",
    "<font color='green'>Здорово, что время сразу в индексе!</font>"
   ]
  },
  {
   "cell_type": "code",
   "execution_count": 3,
   "metadata": {},
   "outputs": [
    {
     "name": "stdout",
     "output_type": "stream",
     "text": [
      "<class 'pandas.core.frame.DataFrame'>\n",
      "DatetimeIndex: 26496 entries, 2018-03-01 00:00:00 to 2018-08-31 23:50:00\n",
      "Data columns (total 1 columns):\n",
      " #   Column      Non-Null Count  Dtype\n",
      "---  ------      --------------  -----\n",
      " 0   num_orders  26496 non-null  int64\n",
      "dtypes: int64(1)\n",
      "memory usage: 414.0 KB\n"
     ]
    }
   ],
   "source": [
    "data.info()"
   ]
  },
  {
   "cell_type": "markdown",
   "metadata": {},
   "source": [
    "Выполняем ресемплирование по часу:"
   ]
  },
  {
   "cell_type": "code",
   "execution_count": 4,
   "metadata": {},
   "outputs": [],
   "source": [
    "data = data.resample('1H').sum()"
   ]
  },
  {
   "cell_type": "markdown",
   "metadata": {},
   "source": [
    "<font color='blue'><b>Комментарий ревьюера: </b></font> ⚠️\\\n",
    "<font color='darkorange'>Здесь предпологается ресемплирование по сумме. Порог метрики в 48 RMSE выставлен с учётом этого предположения.</font>"
   ]
  },
  {
   "cell_type": "markdown",
   "metadata": {},
   "source": [
    "<font color='blue'><b>Комментарий ревьюера 2: </b></font> ✔️\\\n",
    "<font color='green'> Ресемплирование по часу выполнено верно. Супер, что значения просуммированы, это проще интерпретируется, чем использование других агрегационных функций.</font>"
   ]
  },
  {
   "cell_type": "code",
   "execution_count": 5,
   "metadata": {},
   "outputs": [
    {
     "data": {
      "text/html": [
       "<div>\n",
       "<style scoped>\n",
       "    .dataframe tbody tr th:only-of-type {\n",
       "        vertical-align: middle;\n",
       "    }\n",
       "\n",
       "    .dataframe tbody tr th {\n",
       "        vertical-align: top;\n",
       "    }\n",
       "\n",
       "    .dataframe thead th {\n",
       "        text-align: right;\n",
       "    }\n",
       "</style>\n",
       "<table border=\"1\" class=\"dataframe\">\n",
       "  <thead>\n",
       "    <tr style=\"text-align: right;\">\n",
       "      <th></th>\n",
       "      <th>num_orders</th>\n",
       "    </tr>\n",
       "    <tr>\n",
       "      <th>datetime</th>\n",
       "      <th></th>\n",
       "    </tr>\n",
       "  </thead>\n",
       "  <tbody>\n",
       "    <tr>\n",
       "      <th>2018-03-01 00:00:00</th>\n",
       "      <td>124</td>\n",
       "    </tr>\n",
       "    <tr>\n",
       "      <th>2018-03-01 01:00:00</th>\n",
       "      <td>85</td>\n",
       "    </tr>\n",
       "    <tr>\n",
       "      <th>2018-03-01 02:00:00</th>\n",
       "      <td>71</td>\n",
       "    </tr>\n",
       "    <tr>\n",
       "      <th>2018-03-01 03:00:00</th>\n",
       "      <td>66</td>\n",
       "    </tr>\n",
       "    <tr>\n",
       "      <th>2018-03-01 04:00:00</th>\n",
       "      <td>43</td>\n",
       "    </tr>\n",
       "    <tr>\n",
       "      <th>2018-03-01 05:00:00</th>\n",
       "      <td>6</td>\n",
       "    </tr>\n",
       "    <tr>\n",
       "      <th>2018-03-01 06:00:00</th>\n",
       "      <td>12</td>\n",
       "    </tr>\n",
       "    <tr>\n",
       "      <th>2018-03-01 07:00:00</th>\n",
       "      <td>15</td>\n",
       "    </tr>\n",
       "    <tr>\n",
       "      <th>2018-03-01 08:00:00</th>\n",
       "      <td>34</td>\n",
       "    </tr>\n",
       "    <tr>\n",
       "      <th>2018-03-01 09:00:00</th>\n",
       "      <td>69</td>\n",
       "    </tr>\n",
       "  </tbody>\n",
       "</table>\n",
       "</div>"
      ],
      "text/plain": [
       "                     num_orders\n",
       "datetime                       \n",
       "2018-03-01 00:00:00         124\n",
       "2018-03-01 01:00:00          85\n",
       "2018-03-01 02:00:00          71\n",
       "2018-03-01 03:00:00          66\n",
       "2018-03-01 04:00:00          43\n",
       "2018-03-01 05:00:00           6\n",
       "2018-03-01 06:00:00          12\n",
       "2018-03-01 07:00:00          15\n",
       "2018-03-01 08:00:00          34\n",
       "2018-03-01 09:00:00          69"
      ]
     },
     "execution_count": 5,
     "metadata": {},
     "output_type": "execute_result"
    }
   ],
   "source": [
    "data.head(10)"
   ]
  },
  {
   "cell_type": "code",
   "execution_count": 6,
   "metadata": {},
   "outputs": [
    {
     "data": {
      "text/plain": [
       "<AxesSubplot:xlabel='datetime'>"
      ]
     },
     "execution_count": 6,
     "metadata": {},
     "output_type": "execute_result"
    },
    {
     "data": {
      "image/png": "[encoded data removed]",
      "text/plain": [
       "<Figure size 432x288 with 1 Axes>"
      ]
     },
     "metadata": {
      "needs_background": "light"
     },
     "output_type": "display_data"
    }
   ],
   "source": [
    "data.plot()"
   ]
  },
  {
   "cell_type": "markdown",
   "metadata": {},
   "source": [
    "<font color='blue'><b>Комментарий ревьюера: </b></font> ✔️\\\n",
    "<font color='green'> Есть график временного ряда! </font>"
   ]
  },
  {
   "cell_type": "code",
   "execution_count": 7,
   "metadata": {},
   "outputs": [
    {
     "data": {
      "text/html": [
       "<div>\n",
       "<style scoped>\n",
       "    .dataframe tbody tr th:only-of-type {\n",
       "        vertical-align: middle;\n",
       "    }\n",
       "\n",
       "    .dataframe tbody tr th {\n",
       "        vertical-align: top;\n",
       "    }\n",
       "\n",
       "    .dataframe thead th {\n",
       "        text-align: right;\n",
       "    }\n",
       "</style>\n",
       "<table border=\"1\" class=\"dataframe\">\n",
       "  <thead>\n",
       "    <tr style=\"text-align: right;\">\n",
       "      <th></th>\n",
       "      <th>num_orders</th>\n",
       "    </tr>\n",
       "  </thead>\n",
       "  <tbody>\n",
       "    <tr>\n",
       "      <th>count</th>\n",
       "      <td>4416.000000</td>\n",
       "    </tr>\n",
       "    <tr>\n",
       "      <th>mean</th>\n",
       "      <td>84.422781</td>\n",
       "    </tr>\n",
       "    <tr>\n",
       "      <th>std</th>\n",
       "      <td>45.023853</td>\n",
       "    </tr>\n",
       "    <tr>\n",
       "      <th>min</th>\n",
       "      <td>0.000000</td>\n",
       "    </tr>\n",
       "    <tr>\n",
       "      <th>25%</th>\n",
       "      <td>54.000000</td>\n",
       "    </tr>\n",
       "    <tr>\n",
       "      <th>50%</th>\n",
       "      <td>78.000000</td>\n",
       "    </tr>\n",
       "    <tr>\n",
       "      <th>75%</th>\n",
       "      <td>107.000000</td>\n",
       "    </tr>\n",
       "    <tr>\n",
       "      <th>max</th>\n",
       "      <td>462.000000</td>\n",
       "    </tr>\n",
       "  </tbody>\n",
       "</table>\n",
       "</div>"
      ],
      "text/plain": [
       "        num_orders\n",
       "count  4416.000000\n",
       "mean     84.422781\n",
       "std      45.023853\n",
       "min       0.000000\n",
       "25%      54.000000\n",
       "50%      78.000000\n",
       "75%     107.000000\n",
       "max     462.000000"
      ]
     },
     "execution_count": 7,
     "metadata": {},
     "output_type": "execute_result"
    }
   ],
   "source": [
    "data.describe()"
   ]
  },
  {
   "cell_type": "markdown",
   "metadata": {},
   "source": [
    "Для обучения моделей нужно будет создать дополнительные признаки: календарные (день недели, час, день и месяц, так как данные за один год), отстающие значения и скользящее среднее"
   ]
  },
  {
   "cell_type": "markdown",
   "metadata": {},
   "source": [
    "<font color='blue'><b>Комментарий ревьюера: </b></font> ✔️\\\n",
    "<font color='green'>Данные загружены корректно, первичный осмотр проведен.</font>"
   ]
  },
  {
   "cell_type": "markdown",
   "metadata": {},
   "source": [
    "## Анализ"
   ]
  },
  {
   "cell_type": "markdown",
   "metadata": {},
   "source": [
    "Создаем календарные признаки:"
   ]
  },
  {
   "cell_type": "code",
   "execution_count": 8,
   "metadata": {},
   "outputs": [],
   "source": [
    "data['hour'] = data.index.hour\n",
    "data['month'] = data.index.month\n",
    "data['day'] = data.index.day\n",
    "data['day_of_week'] = data.index.dayofweek"
   ]
  },
  {
   "cell_type": "markdown",
   "metadata": {},
   "source": [
    "<font color='blue'><b>Комментарий ревьюера: </b></font> ❌\\\n",
    "<font color='red'><s>На мой взгляд: не все признаки подходят, чисто логически. Выскажу свою позицию:<br>\n",
    "\n",
    "<font color='red'>1) Признак месяц: НЕТ, не подходит, у нас в истории всего один март, май... И данных меньше чем за год. Да и горизонт прогноза - часы. Поэтому сезонность времени года будет просто в тренде уже заложена.</font><br>\n",
    "<font color='darkorange'>2) Признак день: НЕТ, также не подходит, у нас нет сезонности внутри месяца, будет просто последовательность чисел.</s><br></font>\n",
    "<font color='green'>3) Признак день недели: ДА, т.к. у нас есть недельная сезонность.<br>\n",
    "4) Признак час: ДА, т.к. есть часовая (суточная) сезонность.<br>\n",
    "\n",
    "<font color='red'>Как ты думаешь?</font>"
   ]
  },
  {
   "cell_type": "markdown",
   "metadata": {},
   "source": [
    "<font color='purple'><b>Согласен, исправил</b></font>"
   ]
  },
  {
   "cell_type": "markdown",
   "metadata": {},
   "source": [
    "Посмотрим на общий тренд по месяцам:"
   ]
  },
  {
   "cell_type": "code",
   "execution_count": 9,
   "metadata": {},
   "outputs": [
    {
     "data": {
      "text/plain": [
       "<AxesSubplot:xlabel='month'>"
      ]
     },
     "execution_count": 9,
     "metadata": {},
     "output_type": "execute_result"
    },
    {
     "data": {
      "image/png": "[encoded data removed]",
      "text/plain": [
       "<Figure size 432x288 with 1 Axes>"
      ]
     },
     "metadata": {
      "needs_background": "light"
     },
     "output_type": "display_data"
    }
   ],
   "source": [
    "data.groupby('month')['num_orders'].mean().plot()"
   ]
  },
  {
   "cell_type": "markdown",
   "metadata": {},
   "source": [
    "Число заказов растет"
   ]
  },
  {
   "cell_type": "markdown",
   "metadata": {},
   "source": [
    "Посмотрим как меняется число заказов в течение месяца:"
   ]
  },
  {
   "cell_type": "code",
   "execution_count": 10,
   "metadata": {},
   "outputs": [],
   "source": [
    "months = pd.DataFrame(\n",
    "    np.polyval(\n",
    "        np.polyfit(data.query('month == 3').groupby('day')['num_orders'].mean().index,\n",
    "                   data.query('month == 3').groupby('day')['num_orders'].mean().values, 1\n",
    "                  ),\n",
    "        data.query('month == 3').groupby('day')['num_orders'].mean().index),\n",
    "    columns = [3]\n",
    "    )"
   ]
  },
  {
   "cell_type": "code",
   "execution_count": 11,
   "metadata": {},
   "outputs": [],
   "source": [
    "for i in range(4, 9):\n",
    "    months = months.join(\n",
    "        pd.DataFrame(\n",
    "            np.polyval(\n",
    "                np.polyfit(data.query('month == @i').groupby('day')['num_orders'].mean().index,\n",
    "                           data.query('month == @i').groupby('day')['num_orders'].mean().values, 1\n",
    "                          ),\n",
    "                data.query('month == @i').groupby('day')['num_orders'].mean().index),\n",
    "            columns = [i]\n",
    "        )\n",
    "    )"
   ]
  },
  {
   "cell_type": "code",
   "execution_count": 12,
   "metadata": {},
   "outputs": [
    {
     "data": {
      "text/plain": [
       "<AxesSubplot:>"
      ]
     },
     "execution_count": 12,
     "metadata": {},
     "output_type": "execute_result"
    },
    {
     "data": {
      "image/png": "[encoded data removed]",
      "text/plain": [
       "<Figure size 432x288 with 1 Axes>"
      ]
     },
     "metadata": {
      "needs_background": "light"
     },
     "output_type": "display_data"
    },
    {
     "data": {
      "image/png": "[encoded data removed]",
      "text/plain": [
       "<Figure size 432x288 with 1 Axes>"
      ]
     },
     "metadata": {
      "needs_background": "light"
     },
     "output_type": "display_data"
    }
   ],
   "source": [
    "for i in range(3, 9):\n",
    "    data.query('month == @i').groupby('day')['num_orders'].mean().plot()\n",
    "\n",
    "months.plot()"
   ]
  },
  {
   "cell_type": "markdown",
   "metadata": {},
   "source": [
    "Число заказов в течение месяца также увеличивается"
   ]
  },
  {
   "cell_type": "markdown",
   "metadata": {},
   "source": [
    "Зависимость числа заказов от дня недели:"
   ]
  },
  {
   "cell_type": "code",
   "execution_count": 13,
   "metadata": {
    "scrolled": true
   },
   "outputs": [
    {
     "data": {
      "image/png": "[encoded data removed]",
      "text/plain": [
       "<Figure size 432x288 with 1 Axes>"
      ]
     },
     "metadata": {
      "needs_background": "light"
     },
     "output_type": "display_data"
    }
   ],
   "source": [
    "for i in range(3, 9):\n",
    "    data.query('month == @i').groupby('day_of_week')['num_orders'].mean().plot()"
   ]
  },
  {
   "cell_type": "markdown",
   "metadata": {},
   "source": [
    "Создаем признак \"Скользящее среднее\" для нахождения общего тренда. Будем искать скользящее среднее за неделю, так как среднее количество заказов в неделю меняется не сильно"
   ]
  },
  {
   "cell_type": "code",
   "execution_count": 14,
   "metadata": {},
   "outputs": [],
   "source": [
    "data['rolling_mean'] = data['num_orders'].shift().rolling(168).mean()\n",
    "data['rolling_std'] = data['num_orders'].shift().rolling(168).std()"
   ]
  },
  {
   "cell_type": "markdown",
   "metadata": {},
   "source": [
    "<font color='blue'><b>Комментарий ревьюера: </b></font> \\\n",
    "<font color='green'>\n",
    "5) Признак lag: ДА, это параметр авторегрессии - учёт влияния вчерашних событий на сегодняшние.</font>"
   ]
  },
  {
   "cell_type": "code",
   "execution_count": 15,
   "metadata": {},
   "outputs": [
    {
     "data": {
      "text/plain": [
       "<AxesSubplot:xlabel='datetime'>"
      ]
     },
     "execution_count": 15,
     "metadata": {},
     "output_type": "execute_result"
    },
    {
     "data": {
      "image/png": "[encoded data removed]",
      "text/plain": [
       "<Figure size 432x288 with 1 Axes>"
      ]
     },
     "metadata": {
      "needs_background": "light"
     },
     "output_type": "display_data"
    }
   ],
   "source": [
    "data[['num_orders', 'rolling_mean', 'rolling_std']].plot()"
   ]
  },
  {
   "cell_type": "markdown",
   "metadata": {},
   "source": [
    "Сезонная составляющая за день:"
   ]
  },
  {
   "cell_type": "code",
   "execution_count": 16,
   "metadata": {},
   "outputs": [],
   "source": [
    "decomposed = seasonal_decompose(data['num_orders'])"
   ]
  },
  {
   "cell_type": "code",
   "execution_count": 17,
   "metadata": {},
   "outputs": [
    {
     "data": {
      "text/plain": [
       "<AxesSubplot:xlabel='datetime'>"
      ]
     },
     "execution_count": 17,
     "metadata": {},
     "output_type": "execute_result"
    },
    {
     "data": {
      "image/png": "[encoded data removed]",
      "text/plain": [
       "<Figure size 432x288 with 1 Axes>"
      ]
     },
     "metadata": {
      "needs_background": "light"
     },
     "output_type": "display_data"
    }
   ],
   "source": [
    "decomposed.seasonal['2018-03-01':'2018-03-01'].plot()"
   ]
  },
  {
   "cell_type": "markdown",
   "metadata": {},
   "source": [
    "Создаем признаки с отстающими значениями:"
   ]
  },
  {
   "cell_type": "markdown",
   "metadata": {},
   "source": [
    "<font color='blue'><b>Комментарий ревьюера: </b></font> ✔️\\\n",
    "<font color='green'>Здорово, что сезонность рассмотренна на уменьшеноом временном интервале.</font>"
   ]
  },
  {
   "cell_type": "markdown",
   "metadata": {},
   "source": [
    "<font color='blue'><b>Комментарий ревьюера: </b></font> ⚠️\\\n",
    "<font color='darkorange'> Если ресемлировать ряд по дню и вывести интервал около месяца, то можно увидеть сезонность внутри недели.</font>"
   ]
  },
  {
   "cell_type": "code",
   "execution_count": 18,
   "metadata": {},
   "outputs": [],
   "source": [
    "def lags(data, max_lag):\n",
    "    for lag in range(1, max_lag + 1):\n",
    "        data['lag_{}'.format(lag)] = data['num_orders'].shift(lag)"
   ]
  },
  {
   "cell_type": "markdown",
   "metadata": {},
   "source": [
    "<font color='blue'><b>Комментарий ревьюера: </b></font> \\\n",
    "<font color='green'>6) Признак rolling: ДА, это аналог тренда. Чем больше окно сглаживания, тем ровнее линия тренда.</font>"
   ]
  },
  {
   "cell_type": "code",
   "execution_count": 19,
   "metadata": {},
   "outputs": [],
   "source": [
    "lags(data, 48)"
   ]
  },
  {
   "cell_type": "markdown",
   "metadata": {},
   "source": [
    "Удаляем строки с пропущенными значениями и ненужные для обучения признаки"
   ]
  },
  {
   "cell_type": "code",
   "execution_count": 20,
   "metadata": {},
   "outputs": [],
   "source": [
    "data.dropna(inplace=True)"
   ]
  },
  {
   "cell_type": "code",
   "execution_count": 21,
   "metadata": {},
   "outputs": [],
   "source": [
    "data = data.drop(['rolling_std', 'month', 'day'], axis=1)"
   ]
  },
  {
   "cell_type": "markdown",
   "metadata": {},
   "source": [
    "<font color='blue'><b>Комментарий ревьюера 2: </b></font> ✔️\\\n",
    "<font color='green'>👍</font>"
   ]
  },
  {
   "cell_type": "markdown",
   "metadata": {},
   "source": [
    "## Обучение"
   ]
  },
  {
   "cell_type": "markdown",
   "metadata": {},
   "source": [
    "Создаем обучающую и тестовую выборки:"
   ]
  },
  {
   "cell_type": "code",
   "execution_count": 22,
   "metadata": {},
   "outputs": [],
   "source": [
    "train, test = train_test_split(data, shuffle=False, test_size=0.1)"
   ]
  },
  {
   "cell_type": "code",
   "execution_count": 23,
   "metadata": {},
   "outputs": [],
   "source": [
    "train, valid = train_test_split(train, shuffle=False, test_size=0.2)"
   ]
  },
  {
   "cell_type": "markdown",
   "metadata": {},
   "source": [
    "<font color='blue'><b>Комментарий ревьюера: </b></font> ✔️\\\n",
    "<font color='green'>Верно, что запрещаешь перемешивание отчётов.</font>"
   ]
  },
  {
   "cell_type": "code",
   "execution_count": 25,
   "metadata": {},
   "outputs": [],
   "source": [
    "train_features = train.drop(['num_orders'], axis=1)\n",
    "train_target = train['num_orders']\n",
    "valid_features = valid.drop(['num_orders'], axis=1)\n",
    "valid_target = valid['num_orders']\n",
    "test_features = test.drop(['num_orders'], axis=1)\n",
    "test_target = test['num_orders']"
   ]
  },
  {
   "cell_type": "markdown",
   "metadata": {},
   "source": [
    "Обучаем модель линейной регрессии и находим значение RMSE на обучающей выборке:"
   ]
  },
  {
   "cell_type": "code",
   "execution_count": 26,
   "metadata": {},
   "outputs": [],
   "source": [
    "model_lr = LinearRegression()"
   ]
  },
  {
   "cell_type": "code",
   "execution_count": 27,
   "metadata": {},
   "outputs": [
    {
     "data": {
      "text/plain": [
       "LinearRegression()"
      ]
     },
     "execution_count": 27,
     "metadata": {},
     "output_type": "execute_result"
    }
   ],
   "source": [
    "model_lr.fit(train_features, train_target)"
   ]
  },
  {
   "cell_type": "code",
   "execution_count": 28,
   "metadata": {},
   "outputs": [
    {
     "data": {
      "text/plain": [
       "30.631196677274456"
      ]
     },
     "execution_count": 28,
     "metadata": {},
     "output_type": "execute_result"
    }
   ],
   "source": [
    "mean_squared_error(valid_target, model_lr.predict(valid_features), squared=False)"
   ]
  },
  {
   "cell_type": "markdown",
   "metadata": {},
   "source": [
    "<font color='blue'><b>Комментарий ревьюера: </b></font> ❌\\\n",
    "<font color='red'><s> Оценку модели следует проводить либо на валидационных данных, либо кроссвалидацией. predict(train) не покажет способность модели работать с новыми данными, на которых модель не обучалась.</s></font>"
   ]
  },
  {
   "cell_type": "markdown",
   "metadata": {},
   "source": [
    "<font color='blue'><b>Комментарий ревьюера 2: </b></font> ✔️\\\n",
    "<font color='green'>Отлично, что используешь валидационную выборку для оценки моделей.</font>"
   ]
  },
  {
   "cell_type": "markdown",
   "metadata": {},
   "source": [
    "Также обучим модель RandomForestRegressor:"
   ]
  },
  {
   "cell_type": "code",
   "execution_count": 253,
   "metadata": {},
   "outputs": [
    {
     "name": "stdout",
     "output_type": "stream",
     "text": [
      "CPU times: user 2min 57s, sys: 255 ms, total: 2min 58s\n",
      "Wall time: 3min 1s\n"
     ]
    }
   ],
   "source": [
    "%%time\n",
    "n_est = []\n",
    "dep = []\n",
    "results = []\n",
    "for est in range(1, 102, 10):\n",
    "    for depth in range(1, 51, 10):\n",
    "        model = RandomForestRegressor(n_estimators=est, max_depth=depth, random_state=111)\n",
    "        model.fit(train_features, train_target)\n",
    "        predictions = model.predict(valid_features)\n",
    "        result = mean_squared_error(valid_target, predictions, squared=False)\n",
    "        dep.append(depth)\n",
    "        n_est.append(est)\n",
    "        results.append(result)\n",
    "        print(est, '\\r', end='')"
   ]
  },
  {
   "cell_type": "markdown",
   "metadata": {},
   "source": [
    "<font color='blue'><b>Комментарий ревьюера: </b></font> ❌\\\n",
    "<font color='red'><s> Для подбора параметров, так же нужна либо кроссвалидация, либо отдельная валидационная выборка.</s></font>"
   ]
  },
  {
   "cell_type": "code",
   "execution_count": 254,
   "metadata": {},
   "outputs": [
    {
     "data": {
      "text/html": [
       "<div>\n",
       "<style scoped>\n",
       "    .dataframe tbody tr th:only-of-type {\n",
       "        vertical-align: middle;\n",
       "    }\n",
       "\n",
       "    .dataframe tbody tr th {\n",
       "        vertical-align: top;\n",
       "    }\n",
       "\n",
       "    .dataframe thead th {\n",
       "        text-align: right;\n",
       "    }\n",
       "</style>\n",
       "<table border=\"1\" class=\"dataframe\">\n",
       "  <thead>\n",
       "    <tr style=\"text-align: right;\">\n",
       "      <th></th>\n",
       "      <th>n_estimators</th>\n",
       "      <th>max_depth</th>\n",
       "      <th>results</th>\n",
       "    </tr>\n",
       "  </thead>\n",
       "  <tbody>\n",
       "    <tr>\n",
       "      <th>0</th>\n",
       "      <td>1</td>\n",
       "      <td>1</td>\n",
       "      <td>44.601265</td>\n",
       "    </tr>\n",
       "    <tr>\n",
       "      <th>1</th>\n",
       "      <td>1</td>\n",
       "      <td>11</td>\n",
       "      <td>39.800924</td>\n",
       "    </tr>\n",
       "    <tr>\n",
       "      <th>2</th>\n",
       "      <td>1</td>\n",
       "      <td>21</td>\n",
       "      <td>40.298229</td>\n",
       "    </tr>\n",
       "    <tr>\n",
       "      <th>3</th>\n",
       "      <td>1</td>\n",
       "      <td>31</td>\n",
       "      <td>42.256809</td>\n",
       "    </tr>\n",
       "    <tr>\n",
       "      <th>4</th>\n",
       "      <td>1</td>\n",
       "      <td>41</td>\n",
       "      <td>42.256809</td>\n",
       "    </tr>\n",
       "    <tr>\n",
       "      <th>5</th>\n",
       "      <td>11</td>\n",
       "      <td>1</td>\n",
       "      <td>46.858349</td>\n",
       "    </tr>\n",
       "    <tr>\n",
       "      <th>6</th>\n",
       "      <td>11</td>\n",
       "      <td>11</td>\n",
       "      <td>32.346471</td>\n",
       "    </tr>\n",
       "    <tr>\n",
       "      <th>7</th>\n",
       "      <td>11</td>\n",
       "      <td>21</td>\n",
       "      <td>32.378563</td>\n",
       "    </tr>\n",
       "    <tr>\n",
       "      <th>8</th>\n",
       "      <td>11</td>\n",
       "      <td>31</td>\n",
       "      <td>32.748548</td>\n",
       "    </tr>\n",
       "    <tr>\n",
       "      <th>9</th>\n",
       "      <td>11</td>\n",
       "      <td>41</td>\n",
       "      <td>32.748548</td>\n",
       "    </tr>\n",
       "    <tr>\n",
       "      <th>10</th>\n",
       "      <td>21</td>\n",
       "      <td>1</td>\n",
       "      <td>46.869720</td>\n",
       "    </tr>\n",
       "    <tr>\n",
       "      <th>11</th>\n",
       "      <td>21</td>\n",
       "      <td>11</td>\n",
       "      <td>31.802255</td>\n",
       "    </tr>\n",
       "    <tr>\n",
       "      <th>12</th>\n",
       "      <td>21</td>\n",
       "      <td>21</td>\n",
       "      <td>31.868677</td>\n",
       "    </tr>\n",
       "    <tr>\n",
       "      <th>13</th>\n",
       "      <td>21</td>\n",
       "      <td>31</td>\n",
       "      <td>32.113197</td>\n",
       "    </tr>\n",
       "    <tr>\n",
       "      <th>14</th>\n",
       "      <td>21</td>\n",
       "      <td>41</td>\n",
       "      <td>32.113197</td>\n",
       "    </tr>\n",
       "    <tr>\n",
       "      <th>15</th>\n",
       "      <td>31</td>\n",
       "      <td>1</td>\n",
       "      <td>47.242168</td>\n",
       "    </tr>\n",
       "    <tr>\n",
       "      <th>16</th>\n",
       "      <td>31</td>\n",
       "      <td>11</td>\n",
       "      <td>31.788314</td>\n",
       "    </tr>\n",
       "    <tr>\n",
       "      <th>17</th>\n",
       "      <td>31</td>\n",
       "      <td>21</td>\n",
       "      <td>31.997473</td>\n",
       "    </tr>\n",
       "    <tr>\n",
       "      <th>18</th>\n",
       "      <td>31</td>\n",
       "      <td>31</td>\n",
       "      <td>31.881972</td>\n",
       "    </tr>\n",
       "    <tr>\n",
       "      <th>19</th>\n",
       "      <td>31</td>\n",
       "      <td>41</td>\n",
       "      <td>31.914551</td>\n",
       "    </tr>\n",
       "    <tr>\n",
       "      <th>20</th>\n",
       "      <td>41</td>\n",
       "      <td>1</td>\n",
       "      <td>47.126522</td>\n",
       "    </tr>\n",
       "    <tr>\n",
       "      <th>21</th>\n",
       "      <td>41</td>\n",
       "      <td>11</td>\n",
       "      <td>31.589863</td>\n",
       "    </tr>\n",
       "    <tr>\n",
       "      <th>22</th>\n",
       "      <td>41</td>\n",
       "      <td>21</td>\n",
       "      <td>31.714824</td>\n",
       "    </tr>\n",
       "    <tr>\n",
       "      <th>23</th>\n",
       "      <td>41</td>\n",
       "      <td>31</td>\n",
       "      <td>31.596287</td>\n",
       "    </tr>\n",
       "    <tr>\n",
       "      <th>24</th>\n",
       "      <td>41</td>\n",
       "      <td>41</td>\n",
       "      <td>31.622044</td>\n",
       "    </tr>\n",
       "    <tr>\n",
       "      <th>25</th>\n",
       "      <td>51</td>\n",
       "      <td>1</td>\n",
       "      <td>47.116681</td>\n",
       "    </tr>\n",
       "    <tr>\n",
       "      <th>26</th>\n",
       "      <td>51</td>\n",
       "      <td>11</td>\n",
       "      <td>31.706459</td>\n",
       "    </tr>\n",
       "    <tr>\n",
       "      <th>27</th>\n",
       "      <td>51</td>\n",
       "      <td>21</td>\n",
       "      <td>31.753181</td>\n",
       "    </tr>\n",
       "    <tr>\n",
       "      <th>28</th>\n",
       "      <td>51</td>\n",
       "      <td>31</td>\n",
       "      <td>31.636109</td>\n",
       "    </tr>\n",
       "    <tr>\n",
       "      <th>29</th>\n",
       "      <td>51</td>\n",
       "      <td>41</td>\n",
       "      <td>31.657407</td>\n",
       "    </tr>\n",
       "    <tr>\n",
       "      <th>30</th>\n",
       "      <td>61</td>\n",
       "      <td>1</td>\n",
       "      <td>47.310739</td>\n",
       "    </tr>\n",
       "    <tr>\n",
       "      <th>31</th>\n",
       "      <td>61</td>\n",
       "      <td>11</td>\n",
       "      <td>31.764619</td>\n",
       "    </tr>\n",
       "    <tr>\n",
       "      <th>32</th>\n",
       "      <td>61</td>\n",
       "      <td>21</td>\n",
       "      <td>31.821591</td>\n",
       "    </tr>\n",
       "    <tr>\n",
       "      <th>33</th>\n",
       "      <td>61</td>\n",
       "      <td>31</td>\n",
       "      <td>31.657883</td>\n",
       "    </tr>\n",
       "    <tr>\n",
       "      <th>34</th>\n",
       "      <td>61</td>\n",
       "      <td>41</td>\n",
       "      <td>31.675118</td>\n",
       "    </tr>\n",
       "    <tr>\n",
       "      <th>35</th>\n",
       "      <td>71</td>\n",
       "      <td>1</td>\n",
       "      <td>47.222499</td>\n",
       "    </tr>\n",
       "    <tr>\n",
       "      <th>36</th>\n",
       "      <td>71</td>\n",
       "      <td>11</td>\n",
       "      <td>31.881399</td>\n",
       "    </tr>\n",
       "    <tr>\n",
       "      <th>37</th>\n",
       "      <td>71</td>\n",
       "      <td>21</td>\n",
       "      <td>31.875524</td>\n",
       "    </tr>\n",
       "    <tr>\n",
       "      <th>38</th>\n",
       "      <td>71</td>\n",
       "      <td>31</td>\n",
       "      <td>31.764386</td>\n",
       "    </tr>\n",
       "    <tr>\n",
       "      <th>39</th>\n",
       "      <td>71</td>\n",
       "      <td>41</td>\n",
       "      <td>31.779389</td>\n",
       "    </tr>\n",
       "    <tr>\n",
       "      <th>40</th>\n",
       "      <td>81</td>\n",
       "      <td>1</td>\n",
       "      <td>47.267511</td>\n",
       "    </tr>\n",
       "    <tr>\n",
       "      <th>41</th>\n",
       "      <td>81</td>\n",
       "      <td>11</td>\n",
       "      <td>31.838295</td>\n",
       "    </tr>\n",
       "    <tr>\n",
       "      <th>42</th>\n",
       "      <td>81</td>\n",
       "      <td>21</td>\n",
       "      <td>31.847819</td>\n",
       "    </tr>\n",
       "    <tr>\n",
       "      <th>43</th>\n",
       "      <td>81</td>\n",
       "      <td>31</td>\n",
       "      <td>31.718312</td>\n",
       "    </tr>\n",
       "    <tr>\n",
       "      <th>44</th>\n",
       "      <td>81</td>\n",
       "      <td>41</td>\n",
       "      <td>31.731436</td>\n",
       "    </tr>\n",
       "    <tr>\n",
       "      <th>45</th>\n",
       "      <td>91</td>\n",
       "      <td>1</td>\n",
       "      <td>47.251593</td>\n",
       "    </tr>\n",
       "    <tr>\n",
       "      <th>46</th>\n",
       "      <td>91</td>\n",
       "      <td>11</td>\n",
       "      <td>31.938845</td>\n",
       "    </tr>\n",
       "    <tr>\n",
       "      <th>47</th>\n",
       "      <td>91</td>\n",
       "      <td>21</td>\n",
       "      <td>31.902525</td>\n",
       "    </tr>\n",
       "    <tr>\n",
       "      <th>48</th>\n",
       "      <td>91</td>\n",
       "      <td>31</td>\n",
       "      <td>31.734842</td>\n",
       "    </tr>\n",
       "    <tr>\n",
       "      <th>49</th>\n",
       "      <td>91</td>\n",
       "      <td>41</td>\n",
       "      <td>31.746542</td>\n",
       "    </tr>\n",
       "    <tr>\n",
       "      <th>50</th>\n",
       "      <td>101</td>\n",
       "      <td>1</td>\n",
       "      <td>47.257973</td>\n",
       "    </tr>\n",
       "    <tr>\n",
       "      <th>51</th>\n",
       "      <td>101</td>\n",
       "      <td>11</td>\n",
       "      <td>31.889331</td>\n",
       "    </tr>\n",
       "    <tr>\n",
       "      <th>52</th>\n",
       "      <td>101</td>\n",
       "      <td>21</td>\n",
       "      <td>31.896338</td>\n",
       "    </tr>\n",
       "    <tr>\n",
       "      <th>53</th>\n",
       "      <td>101</td>\n",
       "      <td>31</td>\n",
       "      <td>31.716327</td>\n",
       "    </tr>\n",
       "    <tr>\n",
       "      <th>54</th>\n",
       "      <td>101</td>\n",
       "      <td>41</td>\n",
       "      <td>31.727403</td>\n",
       "    </tr>\n",
       "  </tbody>\n",
       "</table>\n",
       "</div>"
      ],
      "text/plain": [
       "    n_estimators  max_depth    results\n",
       "0              1          1  44.601265\n",
       "1              1         11  39.800924\n",
       "2              1         21  40.298229\n",
       "3              1         31  42.256809\n",
       "4              1         41  42.256809\n",
       "5             11          1  46.858349\n",
       "6             11         11  32.346471\n",
       "7             11         21  32.378563\n",
       "8             11         31  32.748548\n",
       "9             11         41  32.748548\n",
       "10            21          1  46.869720\n",
       "11            21         11  31.802255\n",
       "12            21         21  31.868677\n",
       "13            21         31  32.113197\n",
       "14            21         41  32.113197\n",
       "15            31          1  47.242168\n",
       "16            31         11  31.788314\n",
       "17            31         21  31.997473\n",
       "18            31         31  31.881972\n",
       "19            31         41  31.914551\n",
       "20            41          1  47.126522\n",
       "21            41         11  31.589863\n",
       "22            41         21  31.714824\n",
       "23            41         31  31.596287\n",
       "24            41         41  31.622044\n",
       "25            51          1  47.116681\n",
       "26            51         11  31.706459\n",
       "27            51         21  31.753181\n",
       "28            51         31  31.636109\n",
       "29            51         41  31.657407\n",
       "30            61          1  47.310739\n",
       "31            61         11  31.764619\n",
       "32            61         21  31.821591\n",
       "33            61         31  31.657883\n",
       "34            61         41  31.675118\n",
       "35            71          1  47.222499\n",
       "36            71         11  31.881399\n",
       "37            71         21  31.875524\n",
       "38            71         31  31.764386\n",
       "39            71         41  31.779389\n",
       "40            81          1  47.267511\n",
       "41            81         11  31.838295\n",
       "42            81         21  31.847819\n",
       "43            81         31  31.718312\n",
       "44            81         41  31.731436\n",
       "45            91          1  47.251593\n",
       "46            91         11  31.938845\n",
       "47            91         21  31.902525\n",
       "48            91         31  31.734842\n",
       "49            91         41  31.746542\n",
       "50           101          1  47.257973\n",
       "51           101         11  31.889331\n",
       "52           101         21  31.896338\n",
       "53           101         31  31.716327\n",
       "54           101         41  31.727403"
      ]
     },
     "execution_count": 254,
     "metadata": {},
     "output_type": "execute_result"
    }
   ],
   "source": [
    "res = pd.DataFrame(dep, n_est).reset_index()\n",
    "res.columns = ['n_estimators', 'max_depth']\n",
    "res['results'] = results\n",
    "res"
   ]
  },
  {
   "cell_type": "code",
   "execution_count": 255,
   "metadata": {},
   "outputs": [
    {
     "data": {
      "text/plain": [
       "<AxesSubplot:xlabel='n_estimators'>"
      ]
     },
     "execution_count": 255,
     "metadata": {},
     "output_type": "execute_result"
    },
    {
     "data": {
      "image/png": "[encoded data removed]",
      "text/plain": [
       "<Figure size 432x288 with 1 Axes>"
      ]
     },
     "metadata": {
      "needs_background": "light"
     },
     "output_type": "display_data"
    }
   ],
   "source": [
    "res[res['max_depth'] == 31].plot(kind='line', x='n_estimators', y='results')"
   ]
  },
  {
   "cell_type": "code",
   "execution_count": 388,
   "metadata": {},
   "outputs": [
    {
     "data": {
      "text/plain": [
       "RandomForestRegressor(max_depth=11, n_estimators=40, random_state=111)"
      ]
     },
     "execution_count": 388,
     "metadata": {},
     "output_type": "execute_result"
    }
   ],
   "source": [
    "model_rfr = RandomForestRegressor(n_estimators=40, max_depth=11, random_state=111)\n",
    "model_rfr.fit(train_features, train_target)"
   ]
  },
  {
   "cell_type": "markdown",
   "metadata": {},
   "source": [
    "## Тестирование"
   ]
  },
  {
   "cell_type": "markdown",
   "metadata": {},
   "source": [
    "Проведем тестирование моделей:"
   ]
  },
  {
   "cell_type": "code",
   "execution_count": 389,
   "metadata": {},
   "outputs": [],
   "source": [
    "pred_lr = model_lr.predict(test_features)\n",
    "pred_rfr = model_rfr.predict(test_features)"
   ]
  },
  {
   "cell_type": "code",
   "execution_count": 390,
   "metadata": {},
   "outputs": [],
   "source": [
    "lr = pd.DataFrame(test_target).reset_index().join(pd.DataFrame(pred_lr))\n",
    "lr.set_index(lr['datetime'], inplace=True)\n",
    "lr = lr.drop(['datetime'], axis=1)\n",
    "lr.columns = ['target', 'predictions']"
   ]
  },
  {
   "cell_type": "code",
   "execution_count": 391,
   "metadata": {},
   "outputs": [],
   "source": [
    "rfr = pd.DataFrame(test_target).reset_index().join(pd.DataFrame(pred_rfr))\n",
    "rfr.set_index(rfr['datetime'], inplace=True)\n",
    "rfr = rfr.drop(['datetime'], axis=1)\n",
    "rfr.columns = ['target', 'predictions']"
   ]
  },
  {
   "cell_type": "markdown",
   "metadata": {},
   "source": [
    "Графики целевых и предсказанных значений для всего тестового периода:"
   ]
  },
  {
   "cell_type": "code",
   "execution_count": 392,
   "metadata": {
    "scrolled": true
   },
   "outputs": [
    {
     "data": {
      "text/plain": [
       "<AxesSubplot:xlabel='datetime'>"
      ]
     },
     "execution_count": 392,
     "metadata": {},
     "output_type": "execute_result"
    },
    {
     "data": {
      "image/png": "[encoded data removed]",
      "text/plain": [
       "<Figure size 432x288 with 1 Axes>"
      ]
     },
     "metadata": {
      "needs_background": "light"
     },
     "output_type": "display_data"
    },
    {
     "data": {
      "image/png": "[encoded data removed]",
      "text/plain": [
       "<Figure size 432x288 with 1 Axes>"
      ]
     },
     "metadata": {
      "needs_background": "light"
     },
     "output_type": "display_data"
    }
   ],
   "source": [
    "lr.plot()\n",
    "rfr.plot()"
   ]
  },
  {
   "cell_type": "markdown",
   "metadata": {},
   "source": [
    "Графики целевых и предсказанных значений для одного дня:"
   ]
  },
  {
   "cell_type": "code",
   "execution_count": 393,
   "metadata": {},
   "outputs": [
    {
     "data": {
      "text/plain": [
       "<AxesSubplot:xlabel='datetime'>"
      ]
     },
     "execution_count": 393,
     "metadata": {},
     "output_type": "execute_result"
    },
    {
     "data": {
      "image/png": "[encoded data removed]",
      "text/plain": [
       "<Figure size 432x288 with 1 Axes>"
      ]
     },
     "metadata": {
      "needs_background": "light"
     },
     "output_type": "display_data"
    },
    {
     "data": {
      "image/png": "[encoded data removed]",
      "text/plain": [
       "<Figure size 432x288 with 1 Axes>"
      ]
     },
     "metadata": {
      "needs_background": "light"
     },
     "output_type": "display_data"
    }
   ],
   "source": [
    "lr.loc['2018-08-31'].plot()\n",
    "rfr.loc['2018-08-31'].plot()"
   ]
  },
  {
   "cell_type": "markdown",
   "metadata": {},
   "source": [
    "<font color='blue'><b>Комментарий ревьюера: </b></font> ✔️\\\n",
    "<font color='green'>Здорово, что выводишь графики прогноза и реальных данных! Это один из важнейших инструментов анализа результатов моделирования временных рядов, чтобы увидеть где основные не \"попадалки\" модели.\\\n",
    "Лучше выбрать масштаб, скажем, несколько дней, чтобы увидеть можо было и сравнить каждый час.</font>"
   ]
  },
  {
   "cell_type": "markdown",
   "metadata": {},
   "source": [
    "RMSE модели LinearRegression:"
   ]
  },
  {
   "cell_type": "code",
   "execution_count": 394,
   "metadata": {},
   "outputs": [
    {
     "data": {
      "text/plain": [
       "44.79000901456024"
      ]
     },
     "execution_count": 394,
     "metadata": {},
     "output_type": "execute_result"
    }
   ],
   "source": [
    "mean_squared_error(test_target, pred_lr, squared=False)"
   ]
  },
  {
   "cell_type": "markdown",
   "metadata": {},
   "source": [
    "RMSE модели RandomForestRegressor:"
   ]
  },
  {
   "cell_type": "code",
   "execution_count": 395,
   "metadata": {
    "scrolled": true
   },
   "outputs": [
    {
     "data": {
      "text/plain": [
       "53.58373377586998"
      ]
     },
     "execution_count": 395,
     "metadata": {},
     "output_type": "execute_result"
    }
   ],
   "source": [
    "mean_squared_error(test_target, pred_rfr, squared=False)"
   ]
  },
  {
   "cell_type": "markdown",
   "metadata": {},
   "source": [
    "<font color='blue'><b>Комментарий ревьюера: </b></font> ✔️\\\n",
    "<font color='green'>Тестирование проведено верно.</font>"
   ]
  },
  {
   "cell_type": "markdown",
   "metadata": {},
   "source": [
    "Были обучены и протестированы модели для предсказания количества заказов такси в час. RMSE лучшей модели составила 42,13."
   ]
  },
  {
   "cell_type": "markdown",
   "metadata": {},
   "source": [
    "<font color='blue'><b>Комментарий ревьюера: </b></font> ✔️\\\n",
    "<font color='green'>Очень приятно видеть вывод в конце проекта! В выводах можно приводить полученные ранее значения. Также можно расписать все, что было сделано в ходе проведения работы.</font>"
   ]
  },
  {
   "cell_type": "markdown",
   "metadata": {},
   "source": [
    "<font color='blue'><b>Итоговый комментарий ревьюера</b></font>\\\n",
    "<font color='green'> Женя, хороший проект получился!\n",
    "Большое спасибо за проделанную работу. Видно, что приложено много усилий.\n",
    "</font>\n",
    "\n",
    "<font color='blue'>Что нужно исправить:</font>\n",
    "<ul><font color='red'>Не используй признак \"месяц\" на данных меньше года.</font></ul>\n",
    "<ul><font color='red'>Если используешь предикт для сравнения моделей выдели для этого отдельную выборку, или оценивай кроссвалидацией.</font></ul>\n",
    "\n",
    "<font color='blue'>Что можно сделать лучше:</font>\n",
    "<font color='orange'>В работе я оставил несколько советов. Буду рад, если ты учтешь их.</font></ul>\n",
    "\n",
    "<font color='blue'><b>Жду новую версию проекта :)</b></font>"
   ]
  },
  {
   "cell_type": "markdown",
   "metadata": {},
   "source": [
    "<font color='blue'><b>Итоговый комментарий ревьюера 2</b></font>\\\n",
    "<font color='green'>  Женя, проект принят! \\\n",
    "Все этапы пройдены. Все рекомендации учтены.\\\n",
    "Надеюсь, тебе понравился процесс выполнения и результат.</font> \\\n",
    "<font color='blue'><b>Спасибо, удачи в освоении профессии!</b></font>"
   ]
  },
  {
   "cell_type": "markdown",
   "metadata": {},
   "source": [
    "<font color='green'>Дополнительные материалы:\\\n",
    "Е.Рябенко - Прогнозирование временных рядов https://www.youtube.com/watch?v=u433nrxdf5k \\\n",
    "Б.Б. Демешев - временные ряды https://disk.yandex.ru/i/LiDHB-B3A6Lz5A \\\n",
    "Канторович - Анализ временных рядов https://yadi.sk/i/IOkUOS3hTXf3gg \\\n",
    "\n",
    "Базовое применение ARIMA - https://colab.research.google.com/drive/17RnG91Eq8JBKyxToNzvCvjibfxum-oPj?usp=sharing \\\n",
    "Prophet модель от известной компании https://facebook.github.io/prophet/ \\\n",
    "https://facebook.github.io/prophet/docs/quick_start.html#python-api \\\n",
    "https://nbviewer.jupyter.org/github/miptgirl/habra_materials/blob/master/prophet/habra_data.ipynb \\\n",
    "Или [Предсказываем будущее с помощью библиотеки Facebook Prophet](https://habr.com/ru/company/ods/blog/323730/)\n",
    "</font> "
   ]
  },
  {
   "cell_type": "markdown",
   "metadata": {},
   "source": [
    "## Чек-лист проверки"
   ]
  },
  {
   "cell_type": "markdown",
   "metadata": {},
   "source": [
    "- [x]  Jupyter Notebook открыт\n",
    "- [x]  Весь код выполняется без ошибок\n",
    "- [x]  Ячейки с кодом расположены в порядке исполнения\n",
    "- [x]  Данные загружены и подготовлены\n",
    "- [x]  Данные проанализированы\n",
    "- [x]  Модель обучена, гиперпараметры подобраны\n",
    "- [x]  Качество моделей проверено, выводы сделаны\n",
    "- [x]  Значение *RMSE* на тестовой выборке не больше 48"
   ]
  }
 ],
 "metadata": {
  "ExecuteTimeLog": [
   {
    "duration": 436,
    "start_time": "2023-03-16T12:16:01.185Z"
   },
   {
    "duration": 111,
    "start_time": "2023-03-16T12:16:27.201Z"
   },
   {
    "duration": 170,
    "start_time": "2023-03-16T12:16:45.310Z"
   },
   {
    "duration": 16,
    "start_time": "2023-03-16T12:16:48.364Z"
   },
   {
    "duration": 13,
    "start_time": "2023-03-16T12:16:55.732Z"
   },
   {
    "duration": 8,
    "start_time": "2023-03-16T12:17:01.849Z"
   },
   {
    "duration": 7,
    "start_time": "2023-03-16T12:17:09.234Z"
   },
   {
    "duration": 570,
    "start_time": "2023-03-16T12:25:07.745Z"
   },
   {
    "duration": 117,
    "start_time": "2023-03-16T12:25:17.914Z"
   },
   {
    "duration": 17,
    "start_time": "2023-03-16T12:25:59.585Z"
   },
   {
    "duration": 9,
    "start_time": "2023-03-16T12:26:13.917Z"
   },
   {
    "duration": 9,
    "start_time": "2023-03-16T12:27:15.452Z"
   },
   {
    "duration": 11,
    "start_time": "2023-03-16T12:27:22.214Z"
   },
   {
    "duration": 8,
    "start_time": "2023-03-16T12:28:05.732Z"
   },
   {
    "duration": 23,
    "start_time": "2023-03-16T12:29:43.646Z"
   },
   {
    "duration": 47,
    "start_time": "2023-03-16T12:34:03.489Z"
   },
   {
    "duration": 10,
    "start_time": "2023-03-16T12:34:04.383Z"
   },
   {
    "duration": 47,
    "start_time": "2023-03-16T12:34:08.714Z"
   },
   {
    "duration": 15,
    "start_time": "2023-03-16T12:34:09.612Z"
   },
   {
    "duration": 45,
    "start_time": "2023-03-16T12:34:13.714Z"
   },
   {
    "duration": 11,
    "start_time": "2023-03-16T12:34:14.440Z"
   },
   {
    "duration": 48,
    "start_time": "2023-03-16T12:34:53.129Z"
   },
   {
    "duration": 10,
    "start_time": "2023-03-16T12:34:53.901Z"
   },
   {
    "duration": 7,
    "start_time": "2023-03-16T12:34:55.721Z"
   },
   {
    "duration": 1237,
    "start_time": "2023-03-16T12:34:58.845Z"
   },
   {
    "duration": 8,
    "start_time": "2023-03-16T12:35:07.533Z"
   },
   {
    "duration": 14,
    "start_time": "2023-03-16T12:35:10.453Z"
   },
   {
    "duration": 5,
    "start_time": "2023-03-16T12:47:40.342Z"
   },
   {
    "duration": 159,
    "start_time": "2023-03-16T12:48:17.162Z"
   },
   {
    "duration": 662,
    "start_time": "2023-03-16T12:50:32.234Z"
   },
   {
    "duration": 5,
    "start_time": "2023-03-16T12:51:33.607Z"
   },
   {
    "duration": 686,
    "start_time": "2023-03-16T12:51:40.529Z"
   },
   {
    "duration": 7,
    "start_time": "2023-03-16T12:51:55.914Z"
   },
   {
    "duration": 791,
    "start_time": "2023-03-16T12:51:56.953Z"
   },
   {
    "duration": 6,
    "start_time": "2023-03-16T12:52:03.128Z"
   },
   {
    "duration": 778,
    "start_time": "2023-03-16T12:52:04.133Z"
   },
   {
    "duration": 5,
    "start_time": "2023-03-16T12:52:21.706Z"
   },
   {
    "duration": 778,
    "start_time": "2023-03-16T12:52:23.358Z"
   },
   {
    "duration": 6,
    "start_time": "2023-03-16T12:52:32.405Z"
   },
   {
    "duration": 684,
    "start_time": "2023-03-16T12:52:33.506Z"
   },
   {
    "duration": 459,
    "start_time": "2023-03-16T12:54:04.219Z"
   },
   {
    "duration": 43,
    "start_time": "2023-03-16T12:54:23.428Z"
   },
   {
    "duration": 12,
    "start_time": "2023-03-16T12:54:45.752Z"
   },
   {
    "duration": 16,
    "start_time": "2023-03-16T12:55:18.725Z"
   },
   {
    "duration": 11,
    "start_time": "2023-03-16T12:55:39.152Z"
   },
   {
    "duration": 55,
    "start_time": "2023-03-16T12:55:55.397Z"
   },
   {
    "duration": 11,
    "start_time": "2023-03-16T12:55:56.049Z"
   },
   {
    "duration": 7,
    "start_time": "2023-03-16T12:55:56.314Z"
   },
   {
    "duration": 8,
    "start_time": "2023-03-16T12:55:56.774Z"
   },
   {
    "duration": 14,
    "start_time": "2023-03-16T12:55:57.102Z"
   },
   {
    "duration": 722,
    "start_time": "2023-03-16T12:55:57.744Z"
   },
   {
    "duration": 5,
    "start_time": "2023-03-16T12:55:58.468Z"
   },
   {
    "duration": 700,
    "start_time": "2023-03-16T12:55:58.926Z"
   },
   {
    "duration": 10,
    "start_time": "2023-03-16T12:56:00.052Z"
   },
   {
    "duration": 15,
    "start_time": "2023-03-16T12:56:16.632Z"
   },
   {
    "duration": 810,
    "start_time": "2023-03-16T12:56:17.952Z"
   },
   {
    "duration": 7,
    "start_time": "2023-03-16T12:56:28.233Z"
   },
   {
    "duration": 263,
    "start_time": "2023-03-16T12:56:29.102Z"
   },
   {
    "duration": 6,
    "start_time": "2023-03-16T12:56:34.948Z"
   },
   {
    "duration": 5,
    "start_time": "2023-03-16T12:56:40.675Z"
   },
   {
    "duration": 272,
    "start_time": "2023-03-16T12:56:41.573Z"
   },
   {
    "duration": 12,
    "start_time": "2023-03-16T12:56:55.211Z"
   },
   {
    "duration": 11,
    "start_time": "2023-03-16T12:56:59.794Z"
   },
   {
    "duration": 1031,
    "start_time": "2023-03-16T12:57:30.534Z"
   },
   {
    "duration": 285,
    "start_time": "2023-03-16T12:58:20.248Z"
   },
   {
    "duration": 12,
    "start_time": "2023-03-16T12:59:02.006Z"
   },
   {
    "duration": 188,
    "start_time": "2023-03-16T12:59:15.102Z"
   },
   {
    "duration": 154,
    "start_time": "2023-03-16T12:59:41.132Z"
   },
   {
    "duration": 158,
    "start_time": "2023-03-16T13:03:28.149Z"
   },
   {
    "duration": 146,
    "start_time": "2023-03-16T13:03:41.093Z"
   },
   {
    "duration": 214,
    "start_time": "2023-03-16T13:03:57.325Z"
   },
   {
    "duration": 144,
    "start_time": "2023-03-16T13:10:57.562Z"
   },
   {
    "duration": 3,
    "start_time": "2023-03-16T13:46:12.141Z"
   },
   {
    "duration": 49,
    "start_time": "2023-03-16T13:46:12.940Z"
   },
   {
    "duration": 12,
    "start_time": "2023-03-16T13:46:13.348Z"
   },
   {
    "duration": 7,
    "start_time": "2023-03-16T13:46:13.927Z"
   },
   {
    "duration": 7,
    "start_time": "2023-03-16T13:46:14.725Z"
   },
   {
    "duration": 252,
    "start_time": "2023-03-16T13:46:15.401Z"
   },
   {
    "duration": 62,
    "start_time": "2023-03-16T13:46:40.205Z"
   },
   {
    "duration": 10,
    "start_time": "2023-03-16T13:46:40.584Z"
   },
   {
    "duration": 7,
    "start_time": "2023-03-16T13:46:41.109Z"
   },
   {
    "duration": 9,
    "start_time": "2023-03-16T13:46:41.783Z"
   },
   {
    "duration": 232,
    "start_time": "2023-03-16T13:46:43.517Z"
   },
   {
    "duration": 7,
    "start_time": "2023-03-16T13:47:14.086Z"
   },
   {
    "duration": 12,
    "start_time": "2023-03-16T13:47:18.885Z"
   },
   {
    "duration": 5,
    "start_time": "2023-03-16T13:50:11.484Z"
   },
   {
    "duration": 260,
    "start_time": "2023-03-16T13:50:17.373Z"
   },
   {
    "duration": 14,
    "start_time": "2023-03-16T13:51:08.792Z"
   },
   {
    "duration": 6,
    "start_time": "2023-03-16T13:51:35.472Z"
   },
   {
    "duration": 262,
    "start_time": "2023-03-16T13:51:35.924Z"
   },
   {
    "duration": 12,
    "start_time": "2023-03-16T13:51:39.380Z"
   },
   {
    "duration": 6,
    "start_time": "2023-03-16T13:51:46.420Z"
   },
   {
    "duration": 399,
    "start_time": "2023-03-16T13:51:46.828Z"
   },
   {
    "duration": 5,
    "start_time": "2023-03-16T13:51:58.916Z"
   },
   {
    "duration": 274,
    "start_time": "2023-03-16T13:51:59.356Z"
   },
   {
    "duration": 10,
    "start_time": "2023-03-16T13:52:10.316Z"
   },
   {
    "duration": 259,
    "start_time": "2023-03-16T13:52:10.686Z"
   },
   {
    "duration": 5,
    "start_time": "2023-03-16T13:52:15.917Z"
   },
   {
    "duration": 272,
    "start_time": "2023-03-16T13:52:16.283Z"
   },
   {
    "duration": 9,
    "start_time": "2023-03-16T13:53:18.004Z"
   },
   {
    "duration": 1201,
    "start_time": "2023-03-16T13:53:33.580Z"
   },
   {
    "duration": 0,
    "start_time": "2023-03-16T13:53:34.783Z"
   },
   {
    "duration": 7,
    "start_time": "2023-03-16T13:54:29.429Z"
   },
   {
    "duration": 291,
    "start_time": "2023-03-16T13:54:30.124Z"
   },
   {
    "duration": 8,
    "start_time": "2023-03-16T13:54:55.701Z"
   },
   {
    "duration": 306,
    "start_time": "2023-03-16T13:54:56.348Z"
   },
   {
    "duration": 14,
    "start_time": "2023-03-16T13:56:53.764Z"
   },
   {
    "duration": 3,
    "start_time": "2023-03-16T13:57:30.276Z"
   },
   {
    "duration": 50,
    "start_time": "2023-03-16T13:57:30.644Z"
   },
   {
    "duration": 11,
    "start_time": "2023-03-16T13:57:30.828Z"
   },
   {
    "duration": 7,
    "start_time": "2023-03-16T13:57:31.124Z"
   },
   {
    "duration": 8,
    "start_time": "2023-03-16T13:57:31.363Z"
   },
   {
    "duration": 234,
    "start_time": "2023-03-16T13:57:31.548Z"
   },
   {
    "duration": 13,
    "start_time": "2023-03-16T13:57:31.785Z"
   },
   {
    "duration": 7,
    "start_time": "2023-03-16T14:01:15.214Z"
   },
   {
    "duration": 368,
    "start_time": "2023-03-16T14:01:17.002Z"
   },
   {
    "duration": 8,
    "start_time": "2023-03-16T14:02:25.818Z"
   },
   {
    "duration": 6,
    "start_time": "2023-03-16T14:03:01.409Z"
   },
   {
    "duration": 7,
    "start_time": "2023-03-16T14:03:07.874Z"
   },
   {
    "duration": 123,
    "start_time": "2023-03-16T14:03:13.446Z"
   },
   {
    "duration": 121,
    "start_time": "2023-03-16T14:03:54.405Z"
   },
   {
    "duration": 123,
    "start_time": "2023-03-16T14:04:06.210Z"
   },
   {
    "duration": 130,
    "start_time": "2023-03-16T14:04:24.379Z"
   },
   {
    "duration": 136,
    "start_time": "2023-03-16T14:04:35.181Z"
   },
   {
    "duration": 124,
    "start_time": "2023-03-16T14:05:17.406Z"
   },
   {
    "duration": 116,
    "start_time": "2023-03-16T14:05:25.985Z"
   },
   {
    "duration": 129,
    "start_time": "2023-03-16T14:05:56.244Z"
   },
   {
    "duration": 127,
    "start_time": "2023-03-16T14:06:00.917Z"
   },
   {
    "duration": 136,
    "start_time": "2023-03-16T14:06:27.371Z"
   },
   {
    "duration": 176,
    "start_time": "2023-03-16T14:06:47.917Z"
   },
   {
    "duration": 247,
    "start_time": "2023-03-16T14:06:58.388Z"
   },
   {
    "duration": 196,
    "start_time": "2023-03-16T14:07:22.924Z"
   },
   {
    "duration": 129,
    "start_time": "2023-03-16T14:08:37.017Z"
   },
   {
    "duration": 173,
    "start_time": "2023-03-16T14:09:09.646Z"
   },
   {
    "duration": 5,
    "start_time": "2023-03-16T14:10:11.994Z"
   },
   {
    "duration": 570,
    "start_time": "2023-03-16T14:10:13.029Z"
   },
   {
    "duration": 288,
    "start_time": "2023-03-16T14:11:15.660Z"
   },
   {
    "duration": 95,
    "start_time": "2023-03-16T14:12:40.646Z"
   },
   {
    "duration": 71,
    "start_time": "2023-03-16T14:12:43.781Z"
   },
   {
    "duration": 71,
    "start_time": "2023-03-16T14:12:55.205Z"
   },
   {
    "duration": 3,
    "start_time": "2023-03-16T14:13:04.685Z"
   },
   {
    "duration": 1292,
    "start_time": "2023-03-16T14:13:20.356Z"
   },
   {
    "duration": 3,
    "start_time": "2023-03-16T14:13:33.748Z"
   },
   {
    "duration": 9,
    "start_time": "2023-03-16T14:13:34.310Z"
   },
   {
    "duration": 20,
    "start_time": "2023-03-16T14:13:37.684Z"
   },
   {
    "duration": 10,
    "start_time": "2023-03-16T14:17:57.908Z"
   },
   {
    "duration": 8,
    "start_time": "2023-03-16T14:18:09.348Z"
   },
   {
    "duration": 4,
    "start_time": "2023-03-16T14:18:12.948Z"
   },
   {
    "duration": 911,
    "start_time": "2023-03-16T14:18:26.445Z"
   },
   {
    "duration": 238,
    "start_time": "2023-03-16T14:18:49.388Z"
   },
   {
    "duration": 10,
    "start_time": "2023-03-16T14:19:39.549Z"
   },
   {
    "duration": 9,
    "start_time": "2023-03-16T14:19:41.964Z"
   },
   {
    "duration": 185,
    "start_time": "2023-03-16T14:20:14.469Z"
   },
   {
    "duration": 177,
    "start_time": "2023-03-16T14:20:19.078Z"
   },
   {
    "duration": 192,
    "start_time": "2023-03-16T14:20:33.824Z"
   },
   {
    "duration": 161,
    "start_time": "2023-03-16T14:20:45.125Z"
   },
   {
    "duration": 154,
    "start_time": "2023-03-16T14:21:01.484Z"
   },
   {
    "duration": 156,
    "start_time": "2023-03-16T14:21:04.780Z"
   },
   {
    "duration": 212,
    "start_time": "2023-03-16T14:21:16.964Z"
   },
   {
    "duration": 6,
    "start_time": "2023-03-16T14:22:22.277Z"
   },
   {
    "duration": 21,
    "start_time": "2023-03-16T14:22:22.748Z"
   },
   {
    "duration": 47,
    "start_time": "2023-03-16T14:23:35.235Z"
   },
   {
    "duration": 11,
    "start_time": "2023-03-16T14:23:35.564Z"
   },
   {
    "duration": 6,
    "start_time": "2023-03-16T14:23:35.780Z"
   },
   {
    "duration": 8,
    "start_time": "2023-03-16T14:23:36.060Z"
   },
   {
    "duration": 239,
    "start_time": "2023-03-16T14:23:36.348Z"
   },
   {
    "duration": 12,
    "start_time": "2023-03-16T14:23:36.628Z"
   },
   {
    "duration": 7,
    "start_time": "2023-03-16T14:23:37.388Z"
   },
   {
    "duration": 147,
    "start_time": "2023-03-16T14:23:39.524Z"
   },
   {
    "duration": 163,
    "start_time": "2023-03-16T14:23:39.924Z"
   },
   {
    "duration": 183,
    "start_time": "2023-03-16T14:23:40.444Z"
   },
   {
    "duration": 6,
    "start_time": "2023-03-16T14:24:14.381Z"
   },
   {
    "duration": 277,
    "start_time": "2023-03-16T14:24:15.084Z"
   },
   {
    "duration": 8,
    "start_time": "2023-03-16T14:24:33.124Z"
   },
   {
    "duration": 155,
    "start_time": "2023-03-16T14:24:33.524Z"
   },
   {
    "duration": 203,
    "start_time": "2023-03-16T14:24:33.936Z"
   },
   {
    "duration": 4,
    "start_time": "2023-03-16T14:24:35.149Z"
   },
   {
    "duration": 9,
    "start_time": "2023-03-16T14:24:35.685Z"
   },
   {
    "duration": 27,
    "start_time": "2023-03-16T14:24:36.124Z"
   },
   {
    "duration": 7,
    "start_time": "2023-03-16T14:26:11.726Z"
   },
   {
    "duration": 309,
    "start_time": "2023-03-16T14:26:12.325Z"
   },
   {
    "duration": 4,
    "start_time": "2023-03-16T14:26:30.005Z"
   },
   {
    "duration": 7,
    "start_time": "2023-03-16T14:26:30.229Z"
   },
   {
    "duration": 19,
    "start_time": "2023-03-16T14:26:30.540Z"
   },
   {
    "duration": 5,
    "start_time": "2023-03-16T14:26:47.203Z"
   },
   {
    "duration": 19,
    "start_time": "2023-03-16T14:26:52.885Z"
   },
   {
    "duration": 328,
    "start_time": "2023-03-16T14:28:00.324Z"
   },
   {
    "duration": 5,
    "start_time": "2023-03-16T14:28:15.965Z"
   },
   {
    "duration": 5,
    "start_time": "2023-03-16T14:28:58.702Z"
   },
   {
    "duration": 3,
    "start_time": "2023-03-16T14:29:04.158Z"
   },
   {
    "duration": 10,
    "start_time": "2023-03-16T14:29:14.564Z"
   },
   {
    "duration": 14,
    "start_time": "2023-03-16T14:29:25.585Z"
   },
   {
    "duration": 3,
    "start_time": "2023-03-16T14:29:56.515Z"
   },
   {
    "duration": 12,
    "start_time": "2023-03-16T14:30:17.886Z"
   },
   {
    "duration": 8,
    "start_time": "2023-03-16T14:30:31.788Z"
   },
   {
    "duration": 8,
    "start_time": "2023-03-16T14:30:58.685Z"
   },
   {
    "duration": 10,
    "start_time": "2023-03-16T14:31:06.117Z"
   },
   {
    "duration": 8,
    "start_time": "2023-03-16T14:31:06.688Z"
   },
   {
    "duration": 10,
    "start_time": "2023-03-16T14:31:30.388Z"
   },
   {
    "duration": 22,
    "start_time": "2023-03-16T14:31:56.487Z"
   },
   {
    "duration": 12,
    "start_time": "2023-03-16T14:32:05.445Z"
   },
   {
    "duration": 80,
    "start_time": "2023-03-16T14:33:00.646Z"
   },
   {
    "duration": 18,
    "start_time": "2023-03-16T14:33:03.943Z"
   },
   {
    "duration": 11,
    "start_time": "2023-03-16T14:33:18.148Z"
   },
   {
    "duration": 14,
    "start_time": "2023-03-16T14:33:27.249Z"
   },
   {
    "duration": 6,
    "start_time": "2023-03-16T14:33:34.949Z"
   },
   {
    "duration": 7,
    "start_time": "2023-03-16T14:33:49.927Z"
   },
   {
    "duration": 9,
    "start_time": "2023-03-16T14:34:15.885Z"
   },
   {
    "duration": 11,
    "start_time": "2023-03-16T14:34:26.925Z"
   },
   {
    "duration": 16,
    "start_time": "2023-03-16T14:34:35.046Z"
   },
   {
    "duration": 17,
    "start_time": "2023-03-16T14:34:59.683Z"
   },
   {
    "duration": 17,
    "start_time": "2023-03-16T14:35:06.244Z"
   },
   {
    "duration": 15,
    "start_time": "2023-03-16T14:35:37.988Z"
   },
   {
    "duration": 157,
    "start_time": "2023-03-16T14:35:46.629Z"
   },
   {
    "duration": 163,
    "start_time": "2023-03-16T14:35:59.757Z"
   },
   {
    "duration": 276,
    "start_time": "2023-03-16T14:36:13.810Z"
   },
   {
    "duration": 245,
    "start_time": "2023-03-16T14:36:20.777Z"
   },
   {
    "duration": 7,
    "start_time": "2023-03-16T14:36:40.601Z"
   },
   {
    "duration": 6,
    "start_time": "2023-03-16T14:36:41.238Z"
   },
   {
    "duration": 28,
    "start_time": "2023-03-16T14:39:14.036Z"
   },
   {
    "duration": 5,
    "start_time": "2023-03-16T14:41:37.429Z"
   },
   {
    "duration": 16,
    "start_time": "2023-03-16T14:41:38.743Z"
   },
   {
    "duration": 11,
    "start_time": "2023-03-16T14:41:39.373Z"
   },
   {
    "duration": 2,
    "start_time": "2023-03-16T14:41:43.542Z"
   },
   {
    "duration": 7,
    "start_time": "2023-03-16T14:41:44.000Z"
   },
   {
    "duration": 12,
    "start_time": "2023-03-16T14:41:44.518Z"
   },
   {
    "duration": 2,
    "start_time": "2023-03-16T14:41:56.503Z"
   },
   {
    "duration": 8,
    "start_time": "2023-03-16T14:41:56.904Z"
   },
   {
    "duration": 8,
    "start_time": "2023-03-16T14:41:57.275Z"
   },
   {
    "duration": 3,
    "start_time": "2023-03-16T14:42:03.846Z"
   },
   {
    "duration": 9,
    "start_time": "2023-03-16T14:42:04.169Z"
   },
   {
    "duration": 8,
    "start_time": "2023-03-16T14:42:04.639Z"
   },
   {
    "duration": 3,
    "start_time": "2023-03-16T14:42:17.417Z"
   },
   {
    "duration": 8,
    "start_time": "2023-03-16T14:42:17.865Z"
   },
   {
    "duration": 7,
    "start_time": "2023-03-16T14:42:18.324Z"
   },
   {
    "duration": 3,
    "start_time": "2023-03-16T14:42:23.511Z"
   },
   {
    "duration": 16,
    "start_time": "2023-03-16T14:42:23.918Z"
   },
   {
    "duration": 8,
    "start_time": "2023-03-16T14:42:25.221Z"
   },
   {
    "duration": 9,
    "start_time": "2023-03-16T14:42:41.934Z"
   },
   {
    "duration": 6,
    "start_time": "2023-03-16T14:42:42.758Z"
   },
   {
    "duration": 6,
    "start_time": "2023-03-16T14:43:51.262Z"
   },
   {
    "duration": 8,
    "start_time": "2023-03-16T14:43:51.519Z"
   },
   {
    "duration": 2,
    "start_time": "2023-03-16T14:43:51.807Z"
   },
   {
    "duration": 9,
    "start_time": "2023-03-16T14:43:52.246Z"
   },
   {
    "duration": 9,
    "start_time": "2023-03-16T14:43:52.646Z"
   },
   {
    "duration": 5,
    "start_time": "2023-03-16T14:45:18.542Z"
   },
   {
    "duration": 5,
    "start_time": "2023-03-16T14:45:19.009Z"
   },
   {
    "duration": 30,
    "start_time": "2023-03-16T14:45:19.422Z"
   },
   {
    "duration": 9,
    "start_time": "2023-03-16T14:45:20.083Z"
   },
   {
    "duration": 2,
    "start_time": "2023-03-16T14:45:26.301Z"
   },
   {
    "duration": 8,
    "start_time": "2023-03-16T14:45:26.882Z"
   },
   {
    "duration": 12,
    "start_time": "2023-03-16T14:45:27.584Z"
   },
   {
    "duration": 44601,
    "start_time": "2023-03-16T14:46:45.840Z"
   },
   {
    "duration": 13,
    "start_time": "2023-03-16T14:47:50.264Z"
   },
   {
    "duration": 9,
    "start_time": "2023-03-16T14:48:02.518Z"
   },
   {
    "duration": 16,
    "start_time": "2023-03-16T14:48:09.365Z"
   },
   {
    "duration": 6,
    "start_time": "2023-03-16T14:48:14.343Z"
   },
   {
    "duration": 20,
    "start_time": "2023-03-16T14:48:18.943Z"
   },
   {
    "duration": 9,
    "start_time": "2023-03-16T14:49:07.446Z"
   },
   {
    "duration": 143,
    "start_time": "2023-03-16T14:49:13.985Z"
   },
   {
    "duration": 4,
    "start_time": "2023-03-16T14:50:20.327Z"
   },
   {
    "duration": 12,
    "start_time": "2023-03-16T14:51:49.593Z"
   },
   {
    "duration": 5,
    "start_time": "2023-03-16T14:51:54.662Z"
   },
   {
    "duration": 6,
    "start_time": "2023-03-16T14:51:55.001Z"
   },
   {
    "duration": 2,
    "start_time": "2023-03-16T14:51:55.262Z"
   },
   {
    "duration": 7,
    "start_time": "2023-03-16T14:51:55.886Z"
   },
   {
    "duration": 13,
    "start_time": "2023-03-16T14:51:56.083Z"
   },
   {
    "duration": 129,
    "start_time": "2023-03-16T14:52:02.485Z"
   },
   {
    "duration": 3,
    "start_time": "2023-03-16T14:52:03.076Z"
   },
   {
    "duration": 13,
    "start_time": "2023-03-16T14:52:04.248Z"
   },
   {
    "duration": 1639,
    "start_time": "2023-03-16T14:52:29.567Z"
   },
   {
    "duration": 18,
    "start_time": "2023-03-16T14:52:32.502Z"
   },
   {
    "duration": 5,
    "start_time": "2023-03-16T14:53:02.958Z"
   },
   {
    "duration": 5,
    "start_time": "2023-03-16T14:53:11.758Z"
   },
   {
    "duration": 1629,
    "start_time": "2023-03-16T14:53:25.773Z"
   },
   {
    "duration": 17,
    "start_time": "2023-03-16T14:53:30.311Z"
   },
   {
    "duration": 5,
    "start_time": "2023-03-16T14:53:32.582Z"
   },
   {
    "duration": 1622,
    "start_time": "2023-03-16T14:53:37.583Z"
   },
   {
    "duration": 18,
    "start_time": "2023-03-16T14:53:40.158Z"
   },
   {
    "duration": 4,
    "start_time": "2023-03-16T14:53:40.583Z"
   },
   {
    "duration": 4,
    "start_time": "2023-03-16T14:53:41.166Z"
   },
   {
    "duration": 7,
    "start_time": "2023-03-16T14:54:01.180Z"
   },
   {
    "duration": 6,
    "start_time": "2023-03-16T14:54:08.222Z"
   },
   {
    "duration": 12,
    "start_time": "2023-03-16T14:54:35.901Z"
   },
   {
    "duration": 14,
    "start_time": "2023-03-16T14:54:44.282Z"
   },
   {
    "duration": 13,
    "start_time": "2023-03-16T14:54:56.542Z"
   },
   {
    "duration": 15,
    "start_time": "2023-03-16T14:55:00.807Z"
   },
   {
    "duration": 159,
    "start_time": "2023-03-16T14:55:33.325Z"
   },
   {
    "duration": 15,
    "start_time": "2023-03-16T14:55:53.100Z"
   },
   {
    "duration": 220,
    "start_time": "2023-03-16T14:56:21.925Z"
   },
   {
    "duration": 428,
    "start_time": "2023-03-16T14:56:34.029Z"
   },
   {
    "duration": 5,
    "start_time": "2023-03-16T14:57:01.704Z"
   },
   {
    "duration": 396,
    "start_time": "2023-03-16T14:57:11.741Z"
   },
   {
    "duration": 159,
    "start_time": "2023-03-16T14:57:28.884Z"
   },
   {
    "duration": 14,
    "start_time": "2023-03-16T14:57:40.647Z"
   },
   {
    "duration": 1188,
    "start_time": "2023-03-16T14:58:31.470Z"
   },
   {
    "duration": 0,
    "start_time": "2023-03-16T14:58:32.659Z"
   },
   {
    "duration": 1208,
    "start_time": "2023-03-16T14:58:37.165Z"
   },
   {
    "duration": 5,
    "start_time": "2023-03-16T14:58:46.909Z"
   },
   {
    "duration": 12,
    "start_time": "2023-03-16T14:58:49.080Z"
   },
   {
    "duration": 13,
    "start_time": "2023-03-16T14:58:55.341Z"
   },
   {
    "duration": 6,
    "start_time": "2023-03-16T14:59:05.910Z"
   },
   {
    "duration": 309,
    "start_time": "2023-03-16T14:59:10.286Z"
   },
   {
    "duration": 14,
    "start_time": "2023-03-16T14:59:15.117Z"
   },
   {
    "duration": 19,
    "start_time": "2023-03-16T14:59:22.189Z"
   },
   {
    "duration": 6,
    "start_time": "2023-03-16T14:59:22.758Z"
   },
   {
    "duration": 14,
    "start_time": "2023-03-16T14:59:23.485Z"
   },
   {
    "duration": 16,
    "start_time": "2023-03-16T14:59:38.949Z"
   },
   {
    "duration": 13,
    "start_time": "2023-03-16T14:59:39.845Z"
   },
   {
    "duration": 6,
    "start_time": "2023-03-16T14:59:50.685Z"
   },
   {
    "duration": 12,
    "start_time": "2023-03-16T14:59:52.046Z"
   },
   {
    "duration": 7,
    "start_time": "2023-03-16T15:00:15.403Z"
   },
   {
    "duration": 10,
    "start_time": "2023-03-16T15:00:18.549Z"
   },
   {
    "duration": 225,
    "start_time": "2023-03-16T15:00:22.303Z"
   },
   {
    "duration": 24,
    "start_time": "2023-03-16T15:01:10.237Z"
   },
   {
    "duration": 10,
    "start_time": "2023-03-16T15:01:10.645Z"
   },
   {
    "duration": 12,
    "start_time": "2023-03-16T15:01:11.141Z"
   },
   {
    "duration": 552,
    "start_time": "2023-03-16T15:01:12.925Z"
   },
   {
    "duration": 220,
    "start_time": "2023-03-16T15:01:21.749Z"
   },
   {
    "duration": 6,
    "start_time": "2023-03-16T15:01:40.989Z"
   },
   {
    "duration": 5,
    "start_time": "2023-03-16T15:01:41.645Z"
   },
   {
    "duration": 1191,
    "start_time": "2023-03-17T07:47:04.937Z"
   },
   {
    "duration": 5,
    "start_time": "2023-03-17T18:47:06.565Z"
   },
   {
    "duration": 3,
    "start_time": "2023-03-17T18:47:12.325Z"
   },
   {
    "duration": 120,
    "start_time": "2023-03-17T18:48:15.872Z"
   },
   {
    "duration": 17,
    "start_time": "2023-03-17T18:48:16.037Z"
   },
   {
    "duration": 3,
    "start_time": "2023-03-17T18:48:20.494Z"
   },
   {
    "duration": 168,
    "start_time": "2023-03-17T18:48:21.765Z"
   },
   {
    "duration": 11,
    "start_time": "2023-03-17T18:48:22.125Z"
   },
   {
    "duration": 10,
    "start_time": "2023-03-17T18:48:23.277Z"
   },
   {
    "duration": 14,
    "start_time": "2023-03-17T18:48:24.086Z"
   },
   {
    "duration": 8,
    "start_time": "2023-03-17T18:52:56.569Z"
   },
   {
    "duration": 6,
    "start_time": "2023-03-17T18:53:16.654Z"
   },
   {
    "duration": 3,
    "start_time": "2023-03-17T18:53:20.632Z"
   },
   {
    "duration": 16,
    "start_time": "2023-03-17T18:53:22.957Z"
   },
   {
    "duration": 8,
    "start_time": "2023-03-17T18:53:33.319Z"
   },
   {
    "duration": 20,
    "start_time": "2023-03-17T18:53:35.313Z"
   },
   {
    "duration": 5,
    "start_time": "2023-03-17T18:53:39.632Z"
   },
   {
    "duration": 5,
    "start_time": "2023-03-17T18:53:41.194Z"
   },
   {
    "duration": 4,
    "start_time": "2023-03-17T18:53:42.494Z"
   },
   {
    "duration": 23,
    "start_time": "2023-03-17T18:53:43.256Z"
   },
   {
    "duration": 6,
    "start_time": "2023-03-17T18:53:52.911Z"
   },
   {
    "duration": 22,
    "start_time": "2023-03-17T18:53:53.593Z"
   },
   {
    "duration": 4,
    "start_time": "2023-03-17T18:53:54.910Z"
   },
   {
    "duration": 5,
    "start_time": "2023-03-17T18:53:55.369Z"
   },
   {
    "duration": 3,
    "start_time": "2023-03-17T18:53:55.769Z"
   },
   {
    "duration": 11,
    "start_time": "2023-03-17T18:53:56.104Z"
   },
   {
    "duration": 8,
    "start_time": "2023-03-17T18:53:57.254Z"
   },
   {
    "duration": 1769,
    "start_time": "2023-03-17T18:54:10.962Z"
   },
   {
    "duration": 22,
    "start_time": "2023-03-17T18:54:15.637Z"
   },
   {
    "duration": 7,
    "start_time": "2023-03-17T18:54:16.313Z"
   },
   {
    "duration": 6,
    "start_time": "2023-03-17T18:54:17.093Z"
   },
   {
    "duration": 714,
    "start_time": "2023-03-17T18:54:17.807Z"
   },
   {
    "duration": 227,
    "start_time": "2023-03-17T18:54:20.085Z"
   },
   {
    "duration": 5,
    "start_time": "2023-03-17T18:54:21.254Z"
   },
   {
    "duration": 5,
    "start_time": "2023-03-17T18:54:22.033Z"
   },
   {
    "duration": 1442,
    "start_time": "2023-03-17T19:15:59.640Z"
   },
   {
    "duration": 51,
    "start_time": "2023-03-17T19:16:01.084Z"
   },
   {
    "duration": 26,
    "start_time": "2023-03-17T19:16:01.137Z"
   },
   {
    "duration": 10,
    "start_time": "2023-03-17T19:16:01.793Z"
   },
   {
    "duration": 21,
    "start_time": "2023-03-17T19:16:02.072Z"
   },
   {
    "duration": 552,
    "start_time": "2023-03-17T19:16:02.393Z"
   },
   {
    "duration": 22,
    "start_time": "2023-03-17T19:16:02.946Z"
   },
   {
    "duration": 8,
    "start_time": "2023-03-17T19:16:04.402Z"
   },
   {
    "duration": 126,
    "start_time": "2023-03-17T19:16:08.203Z"
   },
   {
    "duration": 3,
    "start_time": "2023-03-17T19:19:32.993Z"
   },
   {
    "duration": 147,
    "start_time": "2023-03-17T19:22:48.385Z"
   },
   {
    "duration": 10,
    "start_time": "2023-03-17T19:22:56.197Z"
   },
   {
    "duration": 101,
    "start_time": "2023-03-17T19:23:20.766Z"
   },
   {
    "duration": 13,
    "start_time": "2023-03-17T19:25:52.333Z"
   },
   {
    "duration": 9,
    "start_time": "2023-03-17T19:25:57.564Z"
   },
   {
    "duration": 16,
    "start_time": "2023-03-17T19:26:08.038Z"
   },
   {
    "duration": 13,
    "start_time": "2023-03-17T19:26:25.917Z"
   },
   {
    "duration": 11,
    "start_time": "2023-03-17T19:26:45.525Z"
   },
   {
    "duration": 16,
    "start_time": "2023-03-17T19:26:50.677Z"
   },
   {
    "duration": 18,
    "start_time": "2023-03-17T19:27:12.259Z"
   },
   {
    "duration": 19,
    "start_time": "2023-03-17T19:27:22.247Z"
   },
   {
    "duration": 30,
    "start_time": "2023-03-17T19:27:28.432Z"
   },
   {
    "duration": 15,
    "start_time": "2023-03-17T19:27:51.205Z"
   },
   {
    "duration": 16,
    "start_time": "2023-03-17T19:28:09.713Z"
   },
   {
    "duration": 191,
    "start_time": "2023-03-17T19:28:15.232Z"
   },
   {
    "duration": 162,
    "start_time": "2023-03-17T19:29:44.210Z"
   },
   {
    "duration": 1058,
    "start_time": "2023-03-17T19:30:02.573Z"
   },
   {
    "duration": 17,
    "start_time": "2023-03-17T19:32:38.681Z"
   },
   {
    "duration": 14,
    "start_time": "2023-03-17T19:32:50.073Z"
   },
   {
    "duration": 91,
    "start_time": "2023-03-17T19:33:41.727Z"
   },
   {
    "duration": 25,
    "start_time": "2023-03-17T19:33:54.273Z"
   },
   {
    "duration": 9,
    "start_time": "2023-03-17T19:34:11.198Z"
   },
   {
    "duration": 12,
    "start_time": "2023-03-17T19:34:29.687Z"
   },
   {
    "duration": 10,
    "start_time": "2023-03-17T19:34:34.965Z"
   },
   {
    "duration": 23,
    "start_time": "2023-03-17T19:34:52.281Z"
   },
   {
    "duration": 27,
    "start_time": "2023-03-17T19:35:23.120Z"
   },
   {
    "duration": 79,
    "start_time": "2023-03-17T19:35:47.767Z"
   },
   {
    "duration": 25,
    "start_time": "2023-03-17T19:35:54.567Z"
   },
   {
    "duration": 25,
    "start_time": "2023-03-17T19:36:04.882Z"
   },
   {
    "duration": 21,
    "start_time": "2023-03-17T19:36:30.352Z"
   },
   {
    "duration": 28,
    "start_time": "2023-03-17T19:37:13.865Z"
   },
   {
    "duration": 57,
    "start_time": "2023-03-17T19:37:46.400Z"
   },
   {
    "duration": 157,
    "start_time": "2023-03-17T19:37:57.185Z"
   },
   {
    "duration": 8,
    "start_time": "2023-03-17T19:38:10.111Z"
   },
   {
    "duration": 44,
    "start_time": "2023-03-17T19:38:17.092Z"
   },
   {
    "duration": 165,
    "start_time": "2023-03-17T19:38:18.114Z"
   },
   {
    "duration": 26,
    "start_time": "2023-03-17T19:38:29.082Z"
   },
   {
    "duration": 55,
    "start_time": "2023-03-17T19:38:30.112Z"
   },
   {
    "duration": 190,
    "start_time": "2023-03-17T19:38:31.516Z"
   },
   {
    "duration": 42,
    "start_time": "2023-03-17T19:38:54.474Z"
   },
   {
    "duration": 151,
    "start_time": "2023-03-17T19:38:55.076Z"
   },
   {
    "duration": 8,
    "start_time": "2023-03-17T19:39:05.875Z"
   },
   {
    "duration": 44,
    "start_time": "2023-03-17T19:39:31.053Z"
   },
   {
    "duration": 11,
    "start_time": "2023-03-17T19:39:31.480Z"
   },
   {
    "duration": 210,
    "start_time": "2023-03-17T19:39:36.907Z"
   },
   {
    "duration": 45,
    "start_time": "2023-03-17T19:39:47.948Z"
   },
   {
    "duration": 8,
    "start_time": "2023-03-17T19:39:51.232Z"
   },
   {
    "duration": 52,
    "start_time": "2023-03-17T19:40:01.357Z"
   },
   {
    "duration": 9,
    "start_time": "2023-03-17T19:40:27.225Z"
   },
   {
    "duration": 186,
    "start_time": "2023-03-17T19:40:27.794Z"
   },
   {
    "duration": 42,
    "start_time": "2023-03-17T19:41:58.558Z"
   },
   {
    "duration": 13,
    "start_time": "2023-03-17T19:41:59.147Z"
   },
   {
    "duration": 40,
    "start_time": "2023-03-17T19:42:23.693Z"
   },
   {
    "duration": 8,
    "start_time": "2023-03-17T19:42:24.284Z"
   },
   {
    "duration": 63,
    "start_time": "2023-03-17T19:42:38.593Z"
   },
   {
    "duration": 8,
    "start_time": "2023-03-17T19:42:39.184Z"
   },
   {
    "duration": 58,
    "start_time": "2023-03-17T19:43:00.766Z"
   },
   {
    "duration": 68,
    "start_time": "2023-03-17T19:43:51.493Z"
   },
   {
    "duration": 22,
    "start_time": "2023-03-17T19:44:14.394Z"
   },
   {
    "duration": 20,
    "start_time": "2023-03-17T19:44:23.481Z"
   },
   {
    "duration": 64,
    "start_time": "2023-03-17T19:44:38.238Z"
   },
   {
    "duration": 25,
    "start_time": "2023-03-17T19:44:39.332Z"
   },
   {
    "duration": 195,
    "start_time": "2023-03-17T19:44:58.186Z"
   },
   {
    "duration": 14,
    "start_time": "2023-03-17T19:46:07.332Z"
   },
   {
    "duration": 43,
    "start_time": "2023-03-17T19:46:07.875Z"
   },
   {
    "duration": 233,
    "start_time": "2023-03-17T19:46:08.557Z"
   },
   {
    "duration": 300,
    "start_time": "2023-03-17T19:46:57.071Z"
   },
   {
    "duration": 382,
    "start_time": "2023-03-17T19:47:09.974Z"
   },
   {
    "duration": 304,
    "start_time": "2023-03-17T19:48:17.811Z"
   },
   {
    "duration": 230,
    "start_time": "2023-03-17T19:48:27.472Z"
   },
   {
    "duration": 5,
    "start_time": "2023-03-17T19:49:10.454Z"
   },
   {
    "duration": 13,
    "start_time": "2023-03-17T19:49:10.875Z"
   },
   {
    "duration": 6,
    "start_time": "2023-03-17T19:49:21.826Z"
   },
   {
    "duration": 303,
    "start_time": "2023-03-17T19:49:22.584Z"
   },
   {
    "duration": 6,
    "start_time": "2023-03-17T19:49:23.993Z"
   },
   {
    "duration": 162,
    "start_time": "2023-03-17T19:49:24.208Z"
   },
   {
    "duration": 204,
    "start_time": "2023-03-17T19:49:24.557Z"
   },
   {
    "duration": 3,
    "start_time": "2023-03-17T19:49:25.665Z"
   },
   {
    "duration": 8,
    "start_time": "2023-03-17T19:49:26.224Z"
   },
   {
    "duration": 7,
    "start_time": "2023-03-17T19:49:26.513Z"
   },
   {
    "duration": 4,
    "start_time": "2023-03-17T19:49:50.794Z"
   },
   {
    "duration": 4,
    "start_time": "2023-03-17T19:49:52.972Z"
   },
   {
    "duration": 5,
    "start_time": "2023-03-17T19:49:53.566Z"
   },
   {
    "duration": 3,
    "start_time": "2023-03-17T19:49:54.064Z"
   },
   {
    "duration": 11,
    "start_time": "2023-03-17T19:49:54.477Z"
   },
   {
    "duration": 13,
    "start_time": "2023-03-17T19:49:55.315Z"
   },
   {
    "duration": 47414,
    "start_time": "2023-03-17T19:49:57.965Z"
   },
   {
    "duration": 19,
    "start_time": "2023-03-17T19:50:45.382Z"
   },
   {
    "duration": 185,
    "start_time": "2023-03-17T19:50:45.403Z"
   },
   {
    "duration": 1615,
    "start_time": "2023-03-17T19:50:45.590Z"
   },
   {
    "duration": 19,
    "start_time": "2023-03-17T19:50:47.206Z"
   },
   {
    "duration": 26,
    "start_time": "2023-03-17T19:50:47.227Z"
   },
   {
    "duration": 8,
    "start_time": "2023-03-17T19:50:47.257Z"
   },
   {
    "duration": 248,
    "start_time": "2023-03-17T19:50:47.267Z"
   },
   {
    "duration": 256,
    "start_time": "2023-03-17T19:50:47.517Z"
   },
   {
    "duration": 5,
    "start_time": "2023-03-17T19:50:47.775Z"
   },
   {
    "duration": 8,
    "start_time": "2023-03-17T19:50:47.782Z"
   },
   {
    "duration": 10,
    "start_time": "2023-03-17T19:57:56.052Z"
   },
   {
    "duration": 316,
    "start_time": "2023-03-17T19:57:56.397Z"
   },
   {
    "duration": 8,
    "start_time": "2023-03-17T19:57:58.681Z"
   },
   {
    "duration": 132,
    "start_time": "2023-03-17T19:57:59.446Z"
   },
   {
    "duration": 1192,
    "start_time": "2023-03-17T19:58:21.962Z"
   },
   {
    "duration": 60,
    "start_time": "2023-03-17T19:58:23.160Z"
   },
   {
    "duration": 12,
    "start_time": "2023-03-17T19:58:24.126Z"
   },
   {
    "duration": 9,
    "start_time": "2023-03-17T19:58:24.686Z"
   },
   {
    "duration": 19,
    "start_time": "2023-03-17T19:58:24.951Z"
   },
   {
    "duration": 570,
    "start_time": "2023-03-17T19:58:25.328Z"
   },
   {
    "duration": 13,
    "start_time": "2023-03-17T19:58:25.900Z"
   },
   {
    "duration": 8,
    "start_time": "2023-03-17T19:58:27.823Z"
   },
   {
    "duration": 165,
    "start_time": "2023-03-17T19:58:28.930Z"
   },
   {
    "duration": 24,
    "start_time": "2023-03-17T19:58:30.427Z"
   },
   {
    "duration": 46,
    "start_time": "2023-03-17T19:58:30.985Z"
   },
   {
    "duration": 402,
    "start_time": "2023-03-17T19:58:31.438Z"
   },
   {
    "duration": 278,
    "start_time": "2023-03-17T19:58:33.077Z"
   },
   {
    "duration": 8,
    "start_time": "2023-03-17T19:58:34.930Z"
   },
   {
    "duration": 323,
    "start_time": "2023-03-17T19:58:35.562Z"
   },
   {
    "duration": 7,
    "start_time": "2023-03-17T19:58:36.353Z"
   },
   {
    "duration": 184,
    "start_time": "2023-03-17T19:58:37.526Z"
   },
   {
    "duration": 73,
    "start_time": "2023-03-17T20:01:58.759Z"
   },
   {
    "duration": 120,
    "start_time": "2023-03-17T20:03:10.810Z"
   },
   {
    "duration": 18,
    "start_time": "2023-03-17T20:03:19.934Z"
   },
   {
    "duration": 5,
    "start_time": "2023-03-17T20:03:25.718Z"
   },
   {
    "duration": 6,
    "start_time": "2023-03-17T20:03:26.085Z"
   },
   {
    "duration": 5,
    "start_time": "2023-03-17T20:03:26.910Z"
   },
   {
    "duration": 31,
    "start_time": "2023-03-17T20:03:27.519Z"
   },
   {
    "duration": 3,
    "start_time": "2023-03-17T20:03:33.078Z"
   },
   {
    "duration": 9,
    "start_time": "2023-03-17T20:03:33.439Z"
   },
   {
    "duration": 8,
    "start_time": "2023-03-17T20:03:33.714Z"
   },
   {
    "duration": 4,
    "start_time": "2023-03-17T20:03:33.993Z"
   },
   {
    "duration": 5,
    "start_time": "2023-03-17T20:03:34.878Z"
   },
   {
    "duration": 6,
    "start_time": "2023-03-17T20:03:35.184Z"
   },
   {
    "duration": 3,
    "start_time": "2023-03-17T20:03:36.022Z"
   },
   {
    "duration": 10,
    "start_time": "2023-03-17T20:03:36.558Z"
   },
   {
    "duration": 11,
    "start_time": "2023-03-17T20:03:37.165Z"
   },
   {
    "duration": 1619,
    "start_time": "2023-03-17T20:03:42.665Z"
   },
   {
    "duration": 19,
    "start_time": "2023-03-17T20:03:44.993Z"
   },
   {
    "duration": 9,
    "start_time": "2023-03-17T20:03:45.558Z"
   },
   {
    "duration": 9,
    "start_time": "2023-03-17T20:03:46.055Z"
   },
   {
    "duration": 514,
    "start_time": "2023-03-17T20:03:47.286Z"
   },
   {
    "duration": 16,
    "start_time": "2023-03-17T20:04:39.960Z"
   },
   {
    "duration": 16,
    "start_time": "2023-03-17T20:04:58.664Z"
   },
   {
    "duration": 10,
    "start_time": "2023-03-17T20:05:09.266Z"
   },
   {
    "duration": 30,
    "start_time": "2023-03-17T20:05:19.434Z"
   },
   {
    "duration": 6,
    "start_time": "2023-03-17T20:05:33.407Z"
   },
   {
    "duration": 6,
    "start_time": "2023-03-17T20:05:33.810Z"
   },
   {
    "duration": 3,
    "start_time": "2023-03-17T20:05:34.654Z"
   },
   {
    "duration": 10,
    "start_time": "2023-03-17T20:05:34.793Z"
   },
   {
    "duration": 23,
    "start_time": "2023-03-17T20:05:35.057Z"
   },
   {
    "duration": 1638,
    "start_time": "2023-03-17T20:05:39.687Z"
   },
   {
    "duration": 32,
    "start_time": "2023-03-17T20:05:41.328Z"
   },
   {
    "duration": 8,
    "start_time": "2023-03-17T20:05:41.362Z"
   },
   {
    "duration": 20,
    "start_time": "2023-03-17T20:05:41.385Z"
   },
   {
    "duration": 4,
    "start_time": "2023-03-17T20:05:53.967Z"
   },
   {
    "duration": 47,
    "start_time": "2023-03-17T20:05:54.478Z"
   },
   {
    "duration": 10,
    "start_time": "2023-03-17T20:05:54.712Z"
   },
   {
    "duration": 8,
    "start_time": "2023-03-17T20:05:55.333Z"
   },
   {
    "duration": 8,
    "start_time": "2023-03-17T20:05:55.494Z"
   },
   {
    "duration": 247,
    "start_time": "2023-03-17T20:05:55.665Z"
   },
   {
    "duration": 14,
    "start_time": "2023-03-17T20:05:55.957Z"
   },
   {
    "duration": 10,
    "start_time": "2023-03-17T20:05:57.011Z"
   },
   {
    "duration": 124,
    "start_time": "2023-03-17T20:05:57.393Z"
   },
   {
    "duration": 15,
    "start_time": "2023-03-17T20:05:58.024Z"
   },
   {
    "duration": 47,
    "start_time": "2023-03-17T20:05:58.162Z"
   },
   {
    "duration": 474,
    "start_time": "2023-03-17T20:05:58.313Z"
   },
   {
    "duration": 204,
    "start_time": "2023-03-17T20:05:59.265Z"
   },
   {
    "duration": 9,
    "start_time": "2023-03-17T20:05:59.800Z"
   },
   {
    "duration": 312,
    "start_time": "2023-03-17T20:06:00.058Z"
   },
   {
    "duration": 9,
    "start_time": "2023-03-17T20:06:00.433Z"
   },
   {
    "duration": 163,
    "start_time": "2023-03-17T20:06:00.926Z"
   },
   {
    "duration": 3,
    "start_time": "2023-03-17T20:06:01.273Z"
   },
   {
    "duration": 9,
    "start_time": "2023-03-17T20:06:01.481Z"
   },
   {
    "duration": 8,
    "start_time": "2023-03-17T20:06:01.726Z"
   },
   {
    "duration": 5,
    "start_time": "2023-03-17T20:06:02.009Z"
   },
   {
    "duration": 6,
    "start_time": "2023-03-17T20:06:02.809Z"
   },
   {
    "duration": 7,
    "start_time": "2023-03-17T20:06:03.207Z"
   },
   {
    "duration": 3,
    "start_time": "2023-03-17T20:06:03.909Z"
   },
   {
    "duration": 9,
    "start_time": "2023-03-17T20:06:04.166Z"
   },
   {
    "duration": 25,
    "start_time": "2023-03-17T20:06:04.607Z"
   },
   {
    "duration": 1661,
    "start_time": "2023-03-17T20:06:10.366Z"
   },
   {
    "duration": 33,
    "start_time": "2023-03-17T20:06:12.029Z"
   },
   {
    "duration": 9,
    "start_time": "2023-03-17T20:06:12.065Z"
   },
   {
    "duration": 24,
    "start_time": "2023-03-17T20:06:12.077Z"
   },
   {
    "duration": 10,
    "start_time": "2023-03-17T20:06:23.306Z"
   },
   {
    "duration": 480,
    "start_time": "2023-03-17T20:06:24.638Z"
   },
   {
    "duration": 5,
    "start_time": "2023-03-17T20:06:26.519Z"
   },
   {
    "duration": 5,
    "start_time": "2023-03-17T20:06:27.358Z"
   },
   {
    "duration": 124,
    "start_time": "2023-03-19T07:22:48.230Z"
   },
   {
    "duration": 16,
    "start_time": "2023-03-19T07:29:27.173Z"
   },
   {
    "duration": 76,
    "start_time": "2023-03-19T08:21:55.046Z"
   },
   {
    "duration": 1122,
    "start_time": "2023-03-19T08:21:59.908Z"
   },
   {
    "duration": 141,
    "start_time": "2023-03-19T08:22:01.032Z"
   },
   {
    "duration": 12,
    "start_time": "2023-03-19T08:22:01.841Z"
   },
   {
    "duration": 10,
    "start_time": "2023-03-19T08:22:03.210Z"
   },
   {
    "duration": 12,
    "start_time": "2023-03-19T08:22:04.112Z"
   },
   {
    "duration": 770,
    "start_time": "2023-03-19T08:22:04.768Z"
   },
   {
    "duration": 16,
    "start_time": "2023-03-19T08:22:06.022Z"
   },
   {
    "duration": 13,
    "start_time": "2023-03-19T08:22:09.615Z"
   },
   {
    "duration": 157,
    "start_time": "2023-03-19T08:22:13.107Z"
   },
   {
    "duration": 10,
    "start_time": "2023-03-19T08:22:29.126Z"
   },
   {
    "duration": 121,
    "start_time": "2023-03-19T08:22:30.457Z"
   },
   {
    "duration": 18,
    "start_time": "2023-03-19T08:22:32.008Z"
   },
   {
    "duration": 42,
    "start_time": "2023-03-19T08:22:32.504Z"
   },
   {
    "duration": 420,
    "start_time": "2023-03-19T08:22:32.757Z"
   },
   {
    "duration": 180,
    "start_time": "2023-03-19T08:22:33.848Z"
   },
   {
    "duration": 6,
    "start_time": "2023-03-19T08:22:34.367Z"
   },
   {
    "duration": 378,
    "start_time": "2023-03-19T08:22:35.223Z"
   },
   {
    "duration": 7,
    "start_time": "2023-03-19T08:22:37.311Z"
   },
   {
    "duration": 166,
    "start_time": "2023-03-19T08:22:38.413Z"
   },
   {
    "duration": 4,
    "start_time": "2023-03-19T08:23:38.608Z"
   },
   {
    "duration": 59,
    "start_time": "2023-03-19T08:23:40.319Z"
   },
   {
    "duration": 22,
    "start_time": "2023-03-19T08:23:41.368Z"
   },
   {
    "duration": 10,
    "start_time": "2023-03-19T08:23:42.710Z"
   },
   {
    "duration": 9,
    "start_time": "2023-03-19T08:23:43.738Z"
   },
   {
    "duration": 219,
    "start_time": "2023-03-19T08:23:44.325Z"
   },
   {
    "duration": 12,
    "start_time": "2023-03-19T08:23:45.826Z"
   },
   {
    "duration": 8,
    "start_time": "2023-03-19T08:24:09.649Z"
   },
   {
    "duration": 171,
    "start_time": "2023-03-19T08:24:09.660Z"
   },
   {
    "duration": 16,
    "start_time": "2023-03-19T08:24:11.461Z"
   },
   {
    "duration": 62,
    "start_time": "2023-03-19T08:24:12.231Z"
   },
   {
    "duration": 358,
    "start_time": "2023-03-19T08:24:12.663Z"
   },
   {
    "duration": 252,
    "start_time": "2023-03-19T08:24:14.321Z"
   },
   {
    "duration": 7,
    "start_time": "2023-03-19T08:24:15.730Z"
   },
   {
    "duration": 316,
    "start_time": "2023-03-19T08:24:16.925Z"
   },
   {
    "duration": 6,
    "start_time": "2023-03-19T08:24:18.451Z"
   },
   {
    "duration": 178,
    "start_time": "2023-03-19T08:24:19.051Z"
   },
   {
    "duration": 4,
    "start_time": "2023-03-19T08:24:50.572Z"
   },
   {
    "duration": 11,
    "start_time": "2023-03-19T08:25:01.734Z"
   },
   {
    "duration": 9,
    "start_time": "2023-03-19T08:25:02.363Z"
   },
   {
    "duration": 4,
    "start_time": "2023-03-19T08:25:03.146Z"
   },
   {
    "duration": 9,
    "start_time": "2023-03-19T08:25:05.166Z"
   },
   {
    "duration": 7,
    "start_time": "2023-03-19T08:25:12.045Z"
   },
   {
    "duration": 14,
    "start_time": "2023-03-19T08:25:13.236Z"
   },
   {
    "duration": 12,
    "start_time": "2023-03-19T08:25:13.438Z"
   },
   {
    "duration": 23,
    "start_time": "2023-03-19T08:25:14.934Z"
   },
   {
    "duration": 4,
    "start_time": "2023-03-19T08:26:21.322Z"
   },
   {
    "duration": 582,
    "start_time": "2023-03-19T08:29:06.073Z"
   },
   {
    "duration": 472,
    "start_time": "2023-03-19T08:29:18.827Z"
   },
   {
    "duration": 388,
    "start_time": "2023-03-19T08:29:33.733Z"
   },
   {
    "duration": 91,
    "start_time": "2023-03-19T08:32:57.005Z"
   },
   {
    "duration": 118,
    "start_time": "2023-03-19T08:33:11.599Z"
   },
   {
    "duration": 25,
    "start_time": "2023-03-19T08:33:15.400Z"
   },
   {
    "duration": 347,
    "start_time": "2023-03-19T08:33:25.171Z"
   },
   {
    "duration": 16,
    "start_time": "2023-03-19T08:33:39.057Z"
   },
   {
    "duration": 35,
    "start_time": "2023-03-19T08:33:56.594Z"
   },
   {
    "duration": 403,
    "start_time": "2023-03-19T08:34:35.738Z"
   },
   {
    "duration": 109,
    "start_time": "2023-03-19T08:34:45.835Z"
   },
   {
    "duration": 438,
    "start_time": "2023-03-19T08:34:48.302Z"
   },
   {
    "duration": 481,
    "start_time": "2023-03-19T08:34:53.067Z"
   },
   {
    "duration": 12,
    "start_time": "2023-03-19T08:36:08.522Z"
   },
   {
    "duration": 11,
    "start_time": "2023-03-19T08:36:08.885Z"
   },
   {
    "duration": 12,
    "start_time": "2023-03-19T08:36:09.836Z"
   },
   {
    "duration": 327,
    "start_time": "2023-03-19T08:36:10.553Z"
   },
   {
    "duration": 3,
    "start_time": "2023-03-19T08:38:59.043Z"
   },
   {
    "duration": 2,
    "start_time": "2023-03-19T08:39:19.947Z"
   },
   {
    "duration": 21,
    "start_time": "2023-03-19T08:39:20.415Z"
   },
   {
    "duration": 9,
    "start_time": "2023-03-19T08:39:21.335Z"
   },
   {
    "duration": 504,
    "start_time": "2023-03-19T08:39:22.296Z"
   },
   {
    "duration": 3,
    "start_time": "2023-03-19T08:39:42.038Z"
   },
   {
    "duration": 8,
    "start_time": "2023-03-19T08:39:43.342Z"
   },
   {
    "duration": 9,
    "start_time": "2023-03-19T08:39:44.244Z"
   },
   {
    "duration": 354,
    "start_time": "2023-03-19T08:39:44.743Z"
   },
   {
    "duration": 159,
    "start_time": "2023-03-19T08:39:59.663Z"
   },
   {
    "duration": 531,
    "start_time": "2023-03-19T08:40:22.594Z"
   },
   {
    "duration": 9,
    "start_time": "2023-03-19T08:43:41.747Z"
   },
   {
    "duration": 632,
    "start_time": "2023-03-19T08:47:10.217Z"
   },
   {
    "duration": 23,
    "start_time": "2023-03-19T08:47:16.516Z"
   },
   {
    "duration": 289,
    "start_time": "2023-03-19T08:47:21.416Z"
   },
   {
    "duration": 10,
    "start_time": "2023-03-19T08:51:35.827Z"
   },
   {
    "duration": 8,
    "start_time": "2023-03-19T08:51:36.318Z"
   },
   {
    "duration": 6,
    "start_time": "2023-03-19T08:51:56.658Z"
   },
   {
    "duration": 5,
    "start_time": "2023-03-19T08:52:04.530Z"
   },
   {
    "duration": 13,
    "start_time": "2023-03-19T08:52:05.452Z"
   },
   {
    "duration": 112,
    "start_time": "2023-03-19T08:52:08.829Z"
   },
   {
    "duration": 9,
    "start_time": "2023-03-19T08:52:43.554Z"
   },
   {
    "duration": 10,
    "start_time": "2023-03-19T08:52:47.846Z"
   },
   {
    "duration": 2,
    "start_time": "2023-03-19T08:52:48.651Z"
   },
   {
    "duration": 34,
    "start_time": "2023-03-19T08:52:48.924Z"
   },
   {
    "duration": 22,
    "start_time": "2023-03-19T08:52:49.242Z"
   },
   {
    "duration": 45,
    "start_time": "2023-03-19T08:53:11.654Z"
   },
   {
    "duration": 35,
    "start_time": "2023-03-19T08:53:18.193Z"
   },
   {
    "duration": 6,
    "start_time": "2023-03-19T08:53:28.805Z"
   },
   {
    "duration": 26,
    "start_time": "2023-03-19T08:53:29.180Z"
   },
   {
    "duration": 4,
    "start_time": "2023-03-19T08:53:34.859Z"
   },
   {
    "duration": 75,
    "start_time": "2023-03-19T08:53:35.114Z"
   },
   {
    "duration": 20,
    "start_time": "2023-03-19T08:53:35.421Z"
   },
   {
    "duration": 41686,
    "start_time": "2023-03-19T08:54:13.763Z"
   },
   {
    "duration": 14,
    "start_time": "2023-03-19T08:54:55.452Z"
   },
   {
    "duration": 186,
    "start_time": "2023-03-19T08:54:55.467Z"
   },
   {
    "duration": 1628,
    "start_time": "2023-03-19T08:54:55.657Z"
   },
   {
    "duration": 749,
    "start_time": "2023-03-19T08:55:27.907Z"
   },
   {
    "duration": 50,
    "start_time": "2023-03-19T08:55:31.779Z"
   },
   {
    "duration": 8,
    "start_time": "2023-03-19T08:55:32.641Z"
   },
   {
    "duration": 10,
    "start_time": "2023-03-19T08:55:33.851Z"
   },
   {
    "duration": 436,
    "start_time": "2023-03-19T08:55:39.129Z"
   },
   {
    "duration": 9,
    "start_time": "2023-03-19T08:55:45.162Z"
   },
   {
    "duration": 12,
    "start_time": "2023-03-19T08:55:46.610Z"
   },
   {
    "duration": 4,
    "start_time": "2023-03-19T08:55:47.861Z"
   },
   {
    "duration": 10,
    "start_time": "2023-03-19T08:56:32.678Z"
   },
   {
    "duration": 5,
    "start_time": "2023-03-19T08:56:33.354Z"
   },
   {
    "duration": 672,
    "start_time": "2023-03-19T08:57:47.425Z"
   },
   {
    "duration": 24,
    "start_time": "2023-03-19T08:57:49.310Z"
   },
   {
    "duration": 9,
    "start_time": "2023-03-19T08:57:49.532Z"
   },
   {
    "duration": 21,
    "start_time": "2023-03-19T08:57:49.812Z"
   },
   {
    "duration": 572,
    "start_time": "2023-03-19T08:57:50.476Z"
   },
   {
    "duration": 12,
    "start_time": "2023-03-19T08:58:09.007Z"
   },
   {
    "duration": 6,
    "start_time": "2023-03-19T08:58:10.247Z"
   },
   {
    "duration": 15,
    "start_time": "2023-03-19T09:00:38.106Z"
   },
   {
    "duration": 15,
    "start_time": "2023-03-19T09:00:48.855Z"
   },
   {
    "duration": 3,
    "start_time": "2023-03-19T09:01:16.053Z"
   },
   {
    "duration": 49,
    "start_time": "2023-03-19T09:01:16.627Z"
   },
   {
    "duration": 11,
    "start_time": "2023-03-19T09:01:17.015Z"
   },
   {
    "duration": 6,
    "start_time": "2023-03-19T09:01:17.441Z"
   },
   {
    "duration": 7,
    "start_time": "2023-03-19T09:01:17.844Z"
   },
   {
    "duration": 323,
    "start_time": "2023-03-19T09:01:18.010Z"
   },
   {
    "duration": 11,
    "start_time": "2023-03-19T09:01:18.508Z"
   },
   {
    "duration": 8,
    "start_time": "2023-03-19T09:01:19.709Z"
   },
   {
    "duration": 143,
    "start_time": "2023-03-19T09:01:20.500Z"
   },
   {
    "duration": 21,
    "start_time": "2023-03-19T09:01:21.108Z"
   },
   {
    "duration": 50,
    "start_time": "2023-03-19T09:01:21.315Z"
   },
   {
    "duration": 414,
    "start_time": "2023-03-19T09:01:21.474Z"
   },
   {
    "duration": 186,
    "start_time": "2023-03-19T09:01:22.054Z"
   },
   {
    "duration": 5,
    "start_time": "2023-03-19T09:01:22.471Z"
   },
   {
    "duration": 297,
    "start_time": "2023-03-19T09:01:22.912Z"
   },
   {
    "duration": 7,
    "start_time": "2023-03-19T09:01:23.328Z"
   },
   {
    "duration": 186,
    "start_time": "2023-03-19T09:01:23.665Z"
   },
   {
    "duration": 7,
    "start_time": "2023-03-19T09:01:25.621Z"
   },
   {
    "duration": 14,
    "start_time": "2023-03-19T09:01:26.106Z"
   },
   {
    "duration": 8,
    "start_time": "2023-03-19T09:01:26.344Z"
   },
   {
    "duration": 8,
    "start_time": "2023-03-19T09:01:26.626Z"
   },
   {
    "duration": 6,
    "start_time": "2023-03-19T09:01:28.068Z"
   },
   {
    "duration": 4,
    "start_time": "2023-03-19T09:01:28.242Z"
   },
   {
    "duration": 7,
    "start_time": "2023-03-19T09:01:28.735Z"
   },
   {
    "duration": 3,
    "start_time": "2023-03-19T09:01:29.703Z"
   },
   {
    "duration": 8,
    "start_time": "2023-03-19T09:01:29.945Z"
   },
   {
    "duration": 6,
    "start_time": "2023-03-19T09:01:30.546Z"
   },
   {
    "duration": 38085,
    "start_time": "2023-03-19T09:01:32.110Z"
   },
   {
    "duration": 32,
    "start_time": "2023-03-19T09:02:10.210Z"
   },
   {
    "duration": 132,
    "start_time": "2023-03-19T09:02:10.244Z"
   },
   {
    "duration": 571,
    "start_time": "2023-03-19T09:02:10.380Z"
   },
   {
    "duration": 11,
    "start_time": "2023-03-19T09:02:10.953Z"
   },
   {
    "duration": 9,
    "start_time": "2023-03-19T09:02:10.966Z"
   },
   {
    "duration": 40,
    "start_time": "2023-03-19T09:02:10.977Z"
   },
   {
    "duration": 472,
    "start_time": "2023-03-19T09:02:11.023Z"
   },
   {
    "duration": 7,
    "start_time": "2023-03-19T09:02:11.501Z"
   },
   {
    "duration": 42,
    "start_time": "2023-03-19T09:02:11.509Z"
   },
   {
    "duration": 8,
    "start_time": "2023-03-19T09:02:11.553Z"
   },
   {
    "duration": 15,
    "start_time": "2023-03-19T09:02:43.610Z"
   },
   {
    "duration": 5,
    "start_time": "2023-03-19T09:02:44.430Z"
   },
   {
    "duration": 4,
    "start_time": "2023-03-19T09:02:44.827Z"
   },
   {
    "duration": 24,
    "start_time": "2023-03-19T09:03:10.872Z"
   },
   {
    "duration": 4,
    "start_time": "2023-03-19T09:03:48.326Z"
   },
   {
    "duration": 4,
    "start_time": "2023-03-19T09:03:49.459Z"
   },
   {
    "duration": 6,
    "start_time": "2023-03-19T09:03:49.706Z"
   },
   {
    "duration": 5,
    "start_time": "2023-03-19T09:03:50.158Z"
   },
   {
    "duration": 26,
    "start_time": "2023-03-19T09:03:50.417Z"
   },
   {
    "duration": 3,
    "start_time": "2023-03-19T09:03:54.660Z"
   },
   {
    "duration": 21,
    "start_time": "2023-03-19T09:03:54.909Z"
   },
   {
    "duration": 9,
    "start_time": "2023-03-19T09:03:55.150Z"
   },
   {
    "duration": 34729,
    "start_time": "2023-03-19T09:03:56.072Z"
   },
   {
    "duration": 27,
    "start_time": "2023-03-19T09:04:30.809Z"
   },
   {
    "duration": 172,
    "start_time": "2023-03-19T09:04:30.842Z"
   },
   {
    "duration": 523,
    "start_time": "2023-03-19T09:04:31.016Z"
   },
   {
    "duration": 11,
    "start_time": "2023-03-19T09:04:31.541Z"
   },
   {
    "duration": 43,
    "start_time": "2023-03-19T09:04:31.554Z"
   },
   {
    "duration": 61,
    "start_time": "2023-03-19T09:04:31.606Z"
   },
   {
    "duration": 602,
    "start_time": "2023-03-19T09:04:31.669Z"
   },
   {
    "duration": 4,
    "start_time": "2023-03-19T09:04:32.273Z"
   },
   {
    "duration": 62,
    "start_time": "2023-03-19T09:04:32.291Z"
   },
   {
    "duration": 92,
    "start_time": "2023-03-19T09:04:32.355Z"
   },
   {
    "duration": 19,
    "start_time": "2023-03-19T09:07:46.520Z"
   },
   {
    "duration": 7,
    "start_time": "2023-03-19T09:07:47.164Z"
   },
   {
    "duration": 19,
    "start_time": "2023-03-19T09:07:47.620Z"
   },
   {
    "duration": 16,
    "start_time": "2023-03-19T09:07:47.918Z"
   },
   {
    "duration": 4,
    "start_time": "2023-03-19T09:07:53.736Z"
   },
   {
    "duration": 5,
    "start_time": "2023-03-19T09:07:54.161Z"
   },
   {
    "duration": 6,
    "start_time": "2023-03-19T09:07:54.937Z"
   },
   {
    "duration": 33,
    "start_time": "2023-03-19T09:07:55.535Z"
   },
   {
    "duration": 2,
    "start_time": "2023-03-19T09:07:56.470Z"
   },
   {
    "duration": 77,
    "start_time": "2023-03-19T09:07:56.724Z"
   },
   {
    "duration": 48,
    "start_time": "2023-03-19T09:07:56.950Z"
   },
   {
    "duration": 97336,
    "start_time": "2023-03-19T09:07:58.422Z"
   },
   {
    "duration": 13,
    "start_time": "2023-03-19T09:09:35.760Z"
   },
   {
    "duration": 185,
    "start_time": "2023-03-19T09:09:35.775Z"
   },
   {
    "duration": 1477,
    "start_time": "2023-03-19T09:09:35.962Z"
   },
   {
    "duration": 46,
    "start_time": "2023-03-19T09:09:37.445Z"
   },
   {
    "duration": 27,
    "start_time": "2023-03-19T09:09:37.498Z"
   },
   {
    "duration": 109,
    "start_time": "2023-03-19T09:09:37.535Z"
   },
   {
    "duration": 524,
    "start_time": "2023-03-19T09:09:37.645Z"
   },
   {
    "duration": 5,
    "start_time": "2023-03-19T09:09:38.171Z"
   },
   {
    "duration": 64,
    "start_time": "2023-03-19T09:09:38.181Z"
   },
   {
    "duration": 17,
    "start_time": "2023-03-19T09:09:38.249Z"
   },
   {
    "duration": 6,
    "start_time": "2023-03-19T09:10:46.155Z"
   },
   {
    "duration": 10,
    "start_time": "2023-03-19T09:10:46.603Z"
   },
   {
    "duration": 23,
    "start_time": "2023-03-19T09:11:58.807Z"
   },
   {
    "duration": 24,
    "start_time": "2023-03-19T09:12:00.669Z"
   },
   {
    "duration": 14,
    "start_time": "2023-03-19T09:12:01.230Z"
   },
   {
    "duration": 12,
    "start_time": "2023-03-19T09:12:01.749Z"
   },
   {
    "duration": 5,
    "start_time": "2023-03-19T09:12:03.450Z"
   },
   {
    "duration": 14,
    "start_time": "2023-03-19T09:12:03.825Z"
   },
   {
    "duration": 9,
    "start_time": "2023-03-19T09:12:04.628Z"
   },
   {
    "duration": 38,
    "start_time": "2023-03-19T09:12:05.920Z"
   },
   {
    "duration": 4,
    "start_time": "2023-03-19T09:12:08.315Z"
   },
   {
    "duration": 347,
    "start_time": "2023-03-19T09:12:08.640Z"
   },
   {
    "duration": 122,
    "start_time": "2023-03-19T09:12:09.015Z"
   },
   {
    "duration": 2524,
    "start_time": "2023-03-19T09:12:18.738Z"
   },
   {
    "duration": 45,
    "start_time": "2023-03-19T09:12:22.948Z"
   },
   {
    "duration": 10,
    "start_time": "2023-03-19T09:12:23.405Z"
   },
   {
    "duration": 7,
    "start_time": "2023-03-19T09:12:24.043Z"
   },
   {
    "duration": 484,
    "start_time": "2023-03-19T09:12:25.069Z"
   },
   {
    "duration": 7,
    "start_time": "2023-03-19T09:12:33.730Z"
   },
   {
    "duration": 5,
    "start_time": "2023-03-19T09:12:34.571Z"
   },
   {
    "duration": 6,
    "start_time": "2023-03-19T09:14:34.926Z"
   },
   {
    "duration": 69,
    "start_time": "2023-03-19T09:14:35.748Z"
   },
   {
    "duration": 11,
    "start_time": "2023-03-19T09:14:36.165Z"
   },
   {
    "duration": 7,
    "start_time": "2023-03-19T09:14:36.629Z"
   },
   {
    "duration": 9,
    "start_time": "2023-03-19T09:14:37.040Z"
   },
   {
    "duration": 228,
    "start_time": "2023-03-19T09:14:37.233Z"
   },
   {
    "duration": 11,
    "start_time": "2023-03-19T09:14:37.660Z"
   },
   {
    "duration": 9,
    "start_time": "2023-03-19T09:14:38.727Z"
   },
   {
    "duration": 145,
    "start_time": "2023-03-19T09:14:39.423Z"
   },
   {
    "duration": 29,
    "start_time": "2023-03-19T09:14:40.270Z"
   },
   {
    "duration": 67,
    "start_time": "2023-03-19T09:14:40.507Z"
   },
   {
    "duration": 411,
    "start_time": "2023-03-19T09:14:40.717Z"
   },
   {
    "duration": 234,
    "start_time": "2023-03-19T09:14:41.399Z"
   },
   {
    "duration": 7,
    "start_time": "2023-03-19T09:14:41.862Z"
   },
   {
    "duration": 409,
    "start_time": "2023-03-19T09:14:42.342Z"
   },
   {
    "duration": 12,
    "start_time": "2023-03-19T09:14:42.834Z"
   },
   {
    "duration": 195,
    "start_time": "2023-03-19T09:14:43.152Z"
   },
   {
    "duration": 15,
    "start_time": "2023-03-19T09:14:44.302Z"
   },
   {
    "duration": 57,
    "start_time": "2023-03-19T09:14:44.780Z"
   },
   {
    "duration": 43,
    "start_time": "2023-03-19T09:14:45.277Z"
   },
   {
    "duration": 8,
    "start_time": "2023-03-19T09:14:45.521Z"
   },
   {
    "duration": 3,
    "start_time": "2023-03-19T09:14:45.734Z"
   },
   {
    "duration": 11,
    "start_time": "2023-03-19T09:14:46.722Z"
   },
   {
    "duration": 6,
    "start_time": "2023-03-19T09:14:46.972Z"
   },
   {
    "duration": 7,
    "start_time": "2023-03-19T09:14:47.538Z"
   },
   {
    "duration": 29,
    "start_time": "2023-03-19T09:14:47.748Z"
   },
   {
    "duration": 2,
    "start_time": "2023-03-19T09:14:48.730Z"
   },
   {
    "duration": 28,
    "start_time": "2023-03-19T09:14:48.956Z"
   },
   {
    "duration": 41,
    "start_time": "2023-03-19T09:14:49.208Z"
   },
   {
    "duration": 182011,
    "start_time": "2023-03-19T09:14:50.010Z"
   },
   {
    "duration": 12,
    "start_time": "2023-03-19T09:17:52.035Z"
   },
   {
    "duration": 151,
    "start_time": "2023-03-19T09:17:52.048Z"
   },
   {
    "duration": 2616,
    "start_time": "2023-03-19T09:17:52.201Z"
   },
   {
    "duration": 51,
    "start_time": "2023-03-19T09:17:54.837Z"
   },
   {
    "duration": 100,
    "start_time": "2023-03-19T09:17:54.917Z"
   },
   {
    "duration": 18,
    "start_time": "2023-03-19T09:17:55.033Z"
   },
   {
    "duration": 758,
    "start_time": "2023-03-19T09:17:55.053Z"
   },
   {
    "duration": 13,
    "start_time": "2023-03-19T09:17:55.816Z"
   },
   {
    "duration": 35,
    "start_time": "2023-03-19T09:17:55.835Z"
   },
   {
    "duration": 17,
    "start_time": "2023-03-19T09:18:38.419Z"
   },
   {
    "duration": 5,
    "start_time": "2023-03-19T09:18:40.746Z"
   },
   {
    "duration": 16,
    "start_time": "2023-03-19T09:18:41.117Z"
   },
   {
    "duration": 7,
    "start_time": "2023-03-19T09:18:41.942Z"
   },
   {
    "duration": 49,
    "start_time": "2023-03-19T09:18:42.311Z"
   },
   {
    "duration": 3,
    "start_time": "2023-03-19T09:18:43.857Z"
   },
   {
    "duration": 782,
    "start_time": "2023-03-19T09:18:44.268Z"
   },
   {
    "duration": 134,
    "start_time": "2023-03-19T09:18:45.065Z"
   },
   {
    "duration": 2976,
    "start_time": "2023-03-19T09:18:50.949Z"
   },
   {
    "duration": 61,
    "start_time": "2023-03-19T09:18:55.838Z"
   },
   {
    "duration": 33,
    "start_time": "2023-03-19T09:18:56.304Z"
   },
   {
    "duration": 9,
    "start_time": "2023-03-19T09:18:56.879Z"
   },
   {
    "duration": 436,
    "start_time": "2023-03-19T09:18:57.961Z"
   },
   {
    "duration": 18,
    "start_time": "2023-03-19T09:19:01.811Z"
   },
   {
    "duration": 7,
    "start_time": "2023-03-19T09:19:03.736Z"
   },
   {
    "duration": 9,
    "start_time": "2023-03-19T09:19:55.448Z"
   },
   {
    "duration": 6,
    "start_time": "2023-03-19T09:20:27.834Z"
   },
   {
    "duration": 5,
    "start_time": "2023-03-19T09:20:49.899Z"
   },
   {
    "duration": 19,
    "start_time": "2023-03-19T09:21:00.018Z"
   },
   {
    "duration": 780,
    "start_time": "2023-03-19T09:21:16.434Z"
   },
   {
    "duration": 568,
    "start_time": "2023-03-19T09:21:36.949Z"
   },
   {
    "duration": 170,
    "start_time": "2023-03-19T09:21:57.123Z"
   },
   {
    "duration": 317,
    "start_time": "2023-03-19T09:22:03.314Z"
   },
   {
    "duration": 335,
    "start_time": "2023-03-19T09:23:04.068Z"
   },
   {
    "duration": 13,
    "start_time": "2023-03-19T09:23:05.023Z"
   },
   {
    "duration": 8,
    "start_time": "2023-03-19T09:23:05.926Z"
   },
   {
    "duration": 9,
    "start_time": "2023-03-19T09:24:48.505Z"
   },
   {
    "duration": 72,
    "start_time": "2023-03-19T09:24:49.601Z"
   },
   {
    "duration": 12,
    "start_time": "2023-03-19T09:24:49.939Z"
   },
   {
    "duration": 20,
    "start_time": "2023-03-19T09:24:50.379Z"
   },
   {
    "duration": 9,
    "start_time": "2023-03-19T09:24:50.946Z"
   },
   {
    "duration": 396,
    "start_time": "2023-03-19T09:24:51.075Z"
   },
   {
    "duration": 21,
    "start_time": "2023-03-19T09:24:53.371Z"
   },
   {
    "duration": 12,
    "start_time": "2023-03-19T09:24:54.813Z"
   },
   {
    "duration": 214,
    "start_time": "2023-03-19T09:24:55.743Z"
   },
   {
    "duration": 20,
    "start_time": "2023-03-19T09:24:56.546Z"
   },
   {
    "duration": 80,
    "start_time": "2023-03-19T09:24:56.730Z"
   },
   {
    "duration": 482,
    "start_time": "2023-03-19T09:24:56.872Z"
   },
   {
    "duration": 206,
    "start_time": "2023-03-19T09:24:57.723Z"
   },
   {
    "duration": 7,
    "start_time": "2023-03-19T09:24:58.317Z"
   },
   {
    "duration": 424,
    "start_time": "2023-03-19T09:25:00.330Z"
   },
   {
    "duration": 12,
    "start_time": "2023-03-19T09:25:01.733Z"
   },
   {
    "duration": 198,
    "start_time": "2023-03-19T09:25:02.022Z"
   },
   {
    "duration": 6,
    "start_time": "2023-03-19T09:25:04.160Z"
   },
   {
    "duration": 49,
    "start_time": "2023-03-19T09:25:04.948Z"
   },
   {
    "duration": 24,
    "start_time": "2023-03-19T09:25:05.808Z"
   },
   {
    "duration": 3,
    "start_time": "2023-03-19T09:25:07.550Z"
   },
   {
    "duration": 10,
    "start_time": "2023-03-19T09:25:10.027Z"
   },
   {
    "duration": 8,
    "start_time": "2023-03-19T09:25:10.349Z"
   },
   {
    "duration": 24,
    "start_time": "2023-03-19T09:25:11.024Z"
   },
   {
    "duration": 7,
    "start_time": "2023-03-19T09:25:11.810Z"
   },
   {
    "duration": 900,
    "start_time": "2023-03-19T09:25:12.013Z"
   },
   {
    "duration": 247,
    "start_time": "2023-03-19T09:25:12.919Z"
   },
   {
    "duration": 3054,
    "start_time": "2023-03-19T09:25:19.918Z"
   },
   {
    "duration": 125,
    "start_time": "2023-03-19T09:25:22.974Z"
   },
   {
    "duration": 88,
    "start_time": "2023-03-19T09:25:23.101Z"
   },
   {
    "duration": 14,
    "start_time": "2023-03-19T09:25:23.191Z"
   },
   {
    "duration": 765,
    "start_time": "2023-03-19T09:25:23.207Z"
   },
   {
    "duration": 428,
    "start_time": "2023-03-19T09:25:23.997Z"
   },
   {
    "duration": 10,
    "start_time": "2023-03-19T09:25:24.427Z"
   },
   {
    "duration": 11,
    "start_time": "2023-03-19T09:25:24.739Z"
   },
   {
    "duration": 8,
    "start_time": "2023-03-19T09:25:54.737Z"
   },
   {
    "duration": 72,
    "start_time": "2023-03-19T09:25:55.441Z"
   },
   {
    "duration": 23,
    "start_time": "2023-03-19T09:25:55.966Z"
   },
   {
    "duration": 10,
    "start_time": "2023-03-19T09:25:56.359Z"
   },
   {
    "duration": 9,
    "start_time": "2023-03-19T09:25:56.758Z"
   },
   {
    "duration": 297,
    "start_time": "2023-03-19T09:25:56.947Z"
   },
   {
    "duration": 25,
    "start_time": "2023-03-19T09:25:57.518Z"
   },
   {
    "duration": 7,
    "start_time": "2023-03-19T09:25:58.547Z"
   },
   {
    "duration": 164,
    "start_time": "2023-03-19T09:25:59.268Z"
   },
   {
    "duration": 20,
    "start_time": "2023-03-19T09:25:59.834Z"
   },
   {
    "duration": 71,
    "start_time": "2023-03-19T09:25:59.962Z"
   },
   {
    "duration": 385,
    "start_time": "2023-03-19T09:26:00.148Z"
   },
   {
    "duration": 209,
    "start_time": "2023-03-19T09:26:00.738Z"
   },
   {
    "duration": 7,
    "start_time": "2023-03-19T09:26:01.434Z"
   },
   {
    "duration": 299,
    "start_time": "2023-03-19T09:26:03.136Z"
   },
   {
    "duration": 7,
    "start_time": "2023-03-19T09:26:03.668Z"
   },
   {
    "duration": 181,
    "start_time": "2023-03-19T09:26:03.856Z"
   },
   {
    "duration": 10,
    "start_time": "2023-03-19T09:26:05.219Z"
   },
   {
    "duration": 64,
    "start_time": "2023-03-19T09:26:05.840Z"
   },
   {
    "duration": 30,
    "start_time": "2023-03-19T09:26:06.682Z"
   },
   {
    "duration": 5,
    "start_time": "2023-03-19T09:26:07.039Z"
   },
   {
    "duration": 4,
    "start_time": "2023-03-19T09:26:07.249Z"
   },
   {
    "duration": 6,
    "start_time": "2023-03-19T09:26:08.151Z"
   },
   {
    "duration": 13,
    "start_time": "2023-03-19T09:26:08.625Z"
   },
   {
    "duration": 12,
    "start_time": "2023-03-19T09:26:10.634Z"
   },
   {
    "duration": 3,
    "start_time": "2023-03-19T09:26:11.160Z"
   },
   {
    "duration": 464,
    "start_time": "2023-03-19T09:26:11.630Z"
   },
   {
    "duration": 203,
    "start_time": "2023-03-19T09:26:12.096Z"
   },
   {
    "duration": 2798,
    "start_time": "2023-03-19T09:26:20.268Z"
   },
   {
    "duration": 55,
    "start_time": "2023-03-19T09:26:23.068Z"
   },
   {
    "duration": 64,
    "start_time": "2023-03-19T09:26:23.130Z"
   },
   {
    "duration": 68,
    "start_time": "2023-03-19T09:26:23.201Z"
   },
   {
    "duration": 438,
    "start_time": "2023-03-19T09:26:23.271Z"
   },
   {
    "duration": 340,
    "start_time": "2023-03-19T09:26:23.713Z"
   },
   {
    "duration": 6,
    "start_time": "2023-03-19T09:26:24.056Z"
   },
   {
    "duration": 11,
    "start_time": "2023-03-19T09:26:24.826Z"
   },
   {
    "duration": 5,
    "start_time": "2023-03-19T09:27:02.426Z"
   },
   {
    "duration": 76,
    "start_time": "2023-03-19T09:27:03.230Z"
   },
   {
    "duration": 24,
    "start_time": "2023-03-19T09:27:03.620Z"
   },
   {
    "duration": 19,
    "start_time": "2023-03-19T09:27:04.180Z"
   },
   {
    "duration": 9,
    "start_time": "2023-03-19T09:27:04.530Z"
   },
   {
    "duration": 242,
    "start_time": "2023-03-19T09:27:04.714Z"
   },
   {
    "duration": 28,
    "start_time": "2023-03-19T09:27:05.117Z"
   },
   {
    "duration": 9,
    "start_time": "2023-03-19T09:27:06.247Z"
   },
   {
    "duration": 166,
    "start_time": "2023-03-19T09:27:06.877Z"
   },
   {
    "duration": 18,
    "start_time": "2023-03-19T09:27:07.525Z"
   },
   {
    "duration": 85,
    "start_time": "2023-03-19T09:27:07.740Z"
   },
   {
    "duration": 468,
    "start_time": "2023-03-19T09:27:07.951Z"
   },
   {
    "duration": 348,
    "start_time": "2023-03-19T09:27:09.185Z"
   },
   {
    "duration": 12,
    "start_time": "2023-03-19T09:27:09.844Z"
   },
   {
    "duration": 558,
    "start_time": "2023-03-19T09:27:10.548Z"
   },
   {
    "duration": 16,
    "start_time": "2023-03-19T09:27:11.273Z"
   },
   {
    "duration": 195,
    "start_time": "2023-03-19T09:27:11.643Z"
   },
   {
    "duration": 4,
    "start_time": "2023-03-19T09:27:15.349Z"
   },
   {
    "duration": 64,
    "start_time": "2023-03-19T09:27:15.873Z"
   },
   {
    "duration": 26,
    "start_time": "2023-03-19T09:27:16.798Z"
   },
   {
    "duration": 7,
    "start_time": "2023-03-19T09:27:17.214Z"
   },
   {
    "duration": 5,
    "start_time": "2023-03-19T09:27:17.720Z"
   },
   {
    "duration": 15,
    "start_time": "2023-03-19T09:27:19.581Z"
   },
   {
    "duration": 6,
    "start_time": "2023-03-19T09:27:19.936Z"
   },
   {
    "duration": 12,
    "start_time": "2023-03-19T09:27:20.423Z"
   },
   {
    "duration": 6,
    "start_time": "2023-03-19T09:27:21.063Z"
   },
   {
    "duration": 699,
    "start_time": "2023-03-19T09:27:21.442Z"
   },
   {
    "duration": 138,
    "start_time": "2023-03-19T09:27:22.143Z"
   },
   {
    "duration": 2675,
    "start_time": "2023-03-19T09:27:28.754Z"
   },
   {
    "duration": 22,
    "start_time": "2023-03-19T09:27:31.431Z"
   },
   {
    "duration": 156,
    "start_time": "2023-03-19T09:27:31.485Z"
   },
   {
    "duration": 23,
    "start_time": "2023-03-19T09:27:31.643Z"
   },
   {
    "duration": 494,
    "start_time": "2023-03-19T09:27:31.667Z"
   },
   {
    "duration": 358,
    "start_time": "2023-03-19T09:27:32.163Z"
   },
   {
    "duration": 5,
    "start_time": "2023-03-19T09:27:32.930Z"
   },
   {
    "duration": 16,
    "start_time": "2023-03-19T09:27:34.201Z"
   },
   {
    "duration": 1961,
    "start_time": "2023-03-19T14:26:15.521Z"
   },
   {
    "duration": 182,
    "start_time": "2023-03-19T14:26:17.484Z"
   },
   {
    "duration": 15,
    "start_time": "2023-03-19T14:26:17.668Z"
   },
   {
    "duration": 9,
    "start_time": "2023-03-19T14:26:17.685Z"
   },
   {
    "duration": 14,
    "start_time": "2023-03-19T14:26:17.696Z"
   },
   {
    "duration": 586,
    "start_time": "2023-03-19T14:26:17.712Z"
   },
   {
    "duration": 13,
    "start_time": "2023-03-19T14:26:18.300Z"
   },
   {
    "duration": 10,
    "start_time": "2023-03-19T14:26:18.315Z"
   },
   {
    "duration": 168,
    "start_time": "2023-03-19T14:26:18.327Z"
   },
   {
    "duration": 16,
    "start_time": "2023-03-19T14:26:18.498Z"
   },
   {
    "duration": 65,
    "start_time": "2023-03-19T14:26:18.516Z"
   },
   {
    "duration": 397,
    "start_time": "2023-03-19T14:26:18.583Z"
   },
   {
    "duration": 254,
    "start_time": "2023-03-19T14:26:18.982Z"
   },
   {
    "duration": 8,
    "start_time": "2023-03-19T14:26:19.238Z"
   },
   {
    "duration": 291,
    "start_time": "2023-03-19T14:26:19.248Z"
   },
   {
    "duration": 8,
    "start_time": "2023-03-19T14:26:19.541Z"
   },
   {
    "duration": 152,
    "start_time": "2023-03-19T14:26:19.561Z"
   },
   {
    "duration": 3,
    "start_time": "2023-03-19T14:26:19.715Z"
   },
   {
    "duration": 31,
    "start_time": "2023-03-19T14:26:19.719Z"
   },
   {
    "duration": 24,
    "start_time": "2023-03-19T14:26:19.752Z"
   },
   {
    "duration": 6,
    "start_time": "2023-03-19T14:26:19.778Z"
   },
   {
    "duration": 6,
    "start_time": "2023-03-19T14:26:19.786Z"
   },
   {
    "duration": 6,
    "start_time": "2023-03-19T14:26:19.794Z"
   },
   {
    "duration": 5,
    "start_time": "2023-03-19T14:26:19.802Z"
   },
   {
    "duration": 10,
    "start_time": "2023-03-19T14:26:19.809Z"
   },
   {
    "duration": 19,
    "start_time": "2023-03-19T14:26:19.821Z"
   },
   {
    "duration": 101,
    "start_time": "2023-03-19T14:26:19.864Z"
   },
   {
    "duration": 193,
    "start_time": "2023-03-19T14:26:19.971Z"
   }
  ],
  "kernelspec": {
   "display_name": "Python 3 (ipykernel)",
   "language": "python",
   "name": "python3"
  },
  "language_info": {
   "codemirror_mode": {
    "name": "ipython",
    "version": 3
   },
   "file_extension": ".py",
   "mimetype": "text/x-python",
   "name": "python",
   "nbconvert_exporter": "python",
   "pygments_lexer": "ipython3",
   "version": "3.9.5"
  },
  "toc": {
   "base_numbering": 1,
   "nav_menu": {},
   "number_sections": true,
   "sideBar": true,
   "skip_h1_title": true,
   "title_cell": "Содержание",
   "title_sidebar": "Contents",
   "toc_cell": true,
   "toc_position": {},
   "toc_section_display": true,
   "toc_window_display": true
  }
 },
 "nbformat": 4,
 "nbformat_minor": 2
}
