{
 "cells": [
  {
   "cell_type": "markdown",
   "metadata": {
    "toc": true
   },
   "source": [
    "<h1>Содержание<span class=\"tocSkip\"></span></h1>\n",
    "<div class=\"toc\"><ul class=\"toc-item\"><li><span><a href=\"#Подготовка-данных\" data-toc-modified-id=\"Подготовка-данных-1\"><span class=\"toc-item-num\">1&nbsp;&nbsp;</span>Подготовка данных</a></span></li><li><span><a href=\"#Анализ-данных\" data-toc-modified-id=\"Анализ-данных-2\"><span class=\"toc-item-num\">2&nbsp;&nbsp;</span>Анализ данных</a></span></li><li><span><a href=\"#Модель\" data-toc-modified-id=\"Модель-3\"><span class=\"toc-item-num\">3&nbsp;&nbsp;</span>Модель</a></span></li><li><span><a href=\"#Чек-лист-готовности-проекта\" data-toc-modified-id=\"Чек-лист-готовности-проекта-4\"><span class=\"toc-item-num\">4&nbsp;&nbsp;</span>Чек-лист готовности проекта</a></span></li></ul></div>"
   ]
  },
  {
   "cell_type": "markdown",
   "metadata": {},
   "source": [
    "# Восстановление золота из руды"
   ]
  },
  {
   "cell_type": "markdown",
   "metadata": {},
   "source": [
    "Подготовьте прототип модели машинного обучения для «Цифры». Компания разрабатывает решения для эффективной работы промышленных предприятий.\n",
    "\n",
    "Модель должна предсказать коэффициент восстановления золота из золотосодержащей руды. Используйте данные с параметрами добычи и очистки. \n",
    "\n",
    "Модель поможет оптимизировать производство, чтобы не запускать предприятие с убыточными характеристиками.\n",
    "\n",
    "Вам нужно:\n",
    "\n",
    "1. Подготовить данные;\n",
    "2. Провести исследовательский анализ данных;\n",
    "3. Построить и обучить модель."
   ]
  },
  {
   "cell_type": "code",
   "execution_count": 1,
   "metadata": {},
   "outputs": [],
   "source": [
    "import pandas as pd\n",
    "from sklearn.model_selection import train_test_split\n",
    "from sklearn.tree import DecisionTreeRegressor\n",
    "from sklearn.ensemble import RandomForestRegressor\n",
    "from sklearn.linear_model import LogisticRegression\n",
    "from sklearn.linear_model import LinearRegression \n",
    "from sklearn.dummy import DummyClassifier\n",
    "import matplotlib.pyplot as plt\n",
    "from sklearn.metrics import (\n",
    "    f1_score, confusion_matrix, roc_auc_score, accuracy_score, precision_score, recall_score\n",
    ")\n",
    "import numpy as np\n",
    "from sklearn.utils import shuffle\n",
    "from sklearn.preprocessing import StandardScaler\n",
    "from sklearn.model_selection import cross_val_score\n",
    "from sklearn.metrics import make_scorer\n",
    "from sklearn.dummy import DummyRegressor"
   ]
  },
  {
   "cell_type": "markdown",
   "metadata": {},
   "source": [
    "## Подготовка данных"
   ]
  },
  {
   "cell_type": "markdown",
   "metadata": {},
   "source": [
    "Загружаем файлы, проверяем информацию"
   ]
  },
  {
   "cell_type": "code",
   "execution_count": 2,
   "metadata": {},
   "outputs": [],
   "source": [
    "train_data = pd.read_csv('~/ya_praktikum_projects/datasets/P4_ml_recovery_gold/gold_recovery_train_new.csv')\n",
    "test_data = pd.read_csv('~/ya_praktikum_projects/datasets/P4_ml_recovery_gold/gold_recovery_test_new.csv')\n",
    "full_data = pd.read_csv('~/ya_praktikum_projects/datasets/P4_ml_recovery_gold/gold_recovery_full_new.csv')"
   ]
  },
  {
   "cell_type": "code",
   "execution_count": 3,
   "metadata": {},
   "outputs": [
    {
     "name": "stdout",
     "output_type": "stream",
     "text": [
      "<class 'pandas.core.frame.DataFrame'>\n",
      "RangeIndex: 14149 entries, 0 to 14148\n",
      "Data columns (total 87 columns):\n",
      " #   Column                                              Non-Null Count  Dtype  \n",
      "---  ------                                              --------------  -----  \n",
      " 0   date                                                14149 non-null  object \n",
      " 1   final.output.concentrate_ag                         14148 non-null  float64\n",
      " 2   final.output.concentrate_pb                         14148 non-null  float64\n",
      " 3   final.output.concentrate_sol                        13938 non-null  float64\n",
      " 4   final.output.concentrate_au                         14149 non-null  float64\n",
      " 5   final.output.recovery                               14149 non-null  float64\n",
      " 6   final.output.tail_ag                                14149 non-null  float64\n",
      " 7   final.output.tail_pb                                14049 non-null  float64\n",
      " 8   final.output.tail_sol                               14144 non-null  float64\n",
      " 9   final.output.tail_au                                14149 non-null  float64\n",
      " 10  primary_cleaner.input.sulfate                       14129 non-null  float64\n",
      " 11  primary_cleaner.input.depressant                    14117 non-null  float64\n",
      " 12  primary_cleaner.input.feed_size                     14149 non-null  float64\n",
      " 13  primary_cleaner.input.xanthate                      14049 non-null  float64\n",
      " 14  primary_cleaner.output.concentrate_ag               14149 non-null  float64\n",
      " 15  primary_cleaner.output.concentrate_pb               14063 non-null  float64\n",
      " 16  primary_cleaner.output.concentrate_sol              13863 non-null  float64\n",
      " 17  primary_cleaner.output.concentrate_au               14149 non-null  float64\n",
      " 18  primary_cleaner.output.tail_ag                      14148 non-null  float64\n",
      " 19  primary_cleaner.output.tail_pb                      14134 non-null  float64\n",
      " 20  primary_cleaner.output.tail_sol                     14103 non-null  float64\n",
      " 21  primary_cleaner.output.tail_au                      14149 non-null  float64\n",
      " 22  primary_cleaner.state.floatbank8_a_air              14145 non-null  float64\n",
      " 23  primary_cleaner.state.floatbank8_a_level            14148 non-null  float64\n",
      " 24  primary_cleaner.state.floatbank8_b_air              14145 non-null  float64\n",
      " 25  primary_cleaner.state.floatbank8_b_level            14148 non-null  float64\n",
      " 26  primary_cleaner.state.floatbank8_c_air              14147 non-null  float64\n",
      " 27  primary_cleaner.state.floatbank8_c_level            14148 non-null  float64\n",
      " 28  primary_cleaner.state.floatbank8_d_air              14146 non-null  float64\n",
      " 29  primary_cleaner.state.floatbank8_d_level            14148 non-null  float64\n",
      " 30  rougher.calculation.sulfate_to_au_concentrate       14148 non-null  float64\n",
      " 31  rougher.calculation.floatbank10_sulfate_to_au_feed  14148 non-null  float64\n",
      " 32  rougher.calculation.floatbank11_sulfate_to_au_feed  14148 non-null  float64\n",
      " 33  rougher.calculation.au_pb_ratio                     14149 non-null  float64\n",
      " 34  rougher.input.feed_ag                               14149 non-null  float64\n",
      " 35  rougher.input.feed_pb                               14049 non-null  float64\n",
      " 36  rougher.input.feed_rate                             14141 non-null  float64\n",
      " 37  rougher.input.feed_size                             14005 non-null  float64\n",
      " 38  rougher.input.feed_sol                              14071 non-null  float64\n",
      " 39  rougher.input.feed_au                               14149 non-null  float64\n",
      " 40  rougher.input.floatbank10_sulfate                   14120 non-null  float64\n",
      " 41  rougher.input.floatbank10_xanthate                  14141 non-null  float64\n",
      " 42  rougher.input.floatbank11_sulfate                   14113 non-null  float64\n",
      " 43  rougher.input.floatbank11_xanthate                  13721 non-null  float64\n",
      " 44  rougher.output.concentrate_ag                       14149 non-null  float64\n",
      " 45  rougher.output.concentrate_pb                       14149 non-null  float64\n",
      " 46  rougher.output.concentrate_sol                      14127 non-null  float64\n",
      " 47  rougher.output.concentrate_au                       14149 non-null  float64\n",
      " 48  rougher.output.recovery                             14149 non-null  float64\n",
      " 49  rougher.output.tail_ag                              14148 non-null  float64\n",
      " 50  rougher.output.tail_pb                              14149 non-null  float64\n",
      " 51  rougher.output.tail_sol                             14149 non-null  float64\n",
      " 52  rougher.output.tail_au                              14149 non-null  float64\n",
      " 53  rougher.state.floatbank10_a_air                     14148 non-null  float64\n",
      " 54  rougher.state.floatbank10_a_level                   14148 non-null  float64\n",
      " 55  rougher.state.floatbank10_b_air                     14148 non-null  float64\n",
      " 56  rougher.state.floatbank10_b_level                   14148 non-null  float64\n",
      " 57  rougher.state.floatbank10_c_air                     14148 non-null  float64\n",
      " 58  rougher.state.floatbank10_c_level                   14148 non-null  float64\n",
      " 59  rougher.state.floatbank10_d_air                     14149 non-null  float64\n",
      " 60  rougher.state.floatbank10_d_level                   14149 non-null  float64\n",
      " 61  rougher.state.floatbank10_e_air                     13713 non-null  float64\n",
      " 62  rougher.state.floatbank10_e_level                   14149 non-null  float64\n",
      " 63  rougher.state.floatbank10_f_air                     14149 non-null  float64\n",
      " 64  rougher.state.floatbank10_f_level                   14149 non-null  float64\n",
      " 65  secondary_cleaner.output.tail_ag                    14147 non-null  float64\n",
      " 66  secondary_cleaner.output.tail_pb                    14139 non-null  float64\n",
      " 67  secondary_cleaner.output.tail_sol                   12544 non-null  float64\n",
      " 68  secondary_cleaner.output.tail_au                    14149 non-null  float64\n",
      " 69  secondary_cleaner.state.floatbank2_a_air            13932 non-null  float64\n",
      " 70  secondary_cleaner.state.floatbank2_a_level          14148 non-null  float64\n",
      " 71  secondary_cleaner.state.floatbank2_b_air            14128 non-null  float64\n",
      " 72  secondary_cleaner.state.floatbank2_b_level          14148 non-null  float64\n",
      " 73  secondary_cleaner.state.floatbank3_a_air            14145 non-null  float64\n",
      " 74  secondary_cleaner.state.floatbank3_a_level          14148 non-null  float64\n",
      " 75  secondary_cleaner.state.floatbank3_b_air            14148 non-null  float64\n",
      " 76  secondary_cleaner.state.floatbank3_b_level          14148 non-null  float64\n",
      " 77  secondary_cleaner.state.floatbank4_a_air            14143 non-null  float64\n",
      " 78  secondary_cleaner.state.floatbank4_a_level          14148 non-null  float64\n",
      " 79  secondary_cleaner.state.floatbank4_b_air            14148 non-null  float64\n",
      " 80  secondary_cleaner.state.floatbank4_b_level          14148 non-null  float64\n",
      " 81  secondary_cleaner.state.floatbank5_a_air            14148 non-null  float64\n",
      " 82  secondary_cleaner.state.floatbank5_a_level          14148 non-null  float64\n",
      " 83  secondary_cleaner.state.floatbank5_b_air            14148 non-null  float64\n",
      " 84  secondary_cleaner.state.floatbank5_b_level          14148 non-null  float64\n",
      " 85  secondary_cleaner.state.floatbank6_a_air            14147 non-null  float64\n",
      " 86  secondary_cleaner.state.floatbank6_a_level          14148 non-null  float64\n",
      "dtypes: float64(86), object(1)\n",
      "memory usage: 9.4+ MB\n"
     ]
    }
   ],
   "source": [
    "train_data.info()"
   ]
  },
  {
   "cell_type": "code",
   "execution_count": 4,
   "metadata": {},
   "outputs": [
    {
     "name": "stdout",
     "output_type": "stream",
     "text": [
      "<class 'pandas.core.frame.DataFrame'>\n",
      "RangeIndex: 5290 entries, 0 to 5289\n",
      "Data columns (total 53 columns):\n",
      " #   Column                                      Non-Null Count  Dtype  \n",
      "---  ------                                      --------------  -----  \n",
      " 0   date                                        5290 non-null   object \n",
      " 1   primary_cleaner.input.sulfate               5286 non-null   float64\n",
      " 2   primary_cleaner.input.depressant            5285 non-null   float64\n",
      " 3   primary_cleaner.input.feed_size             5290 non-null   float64\n",
      " 4   primary_cleaner.input.xanthate              5286 non-null   float64\n",
      " 5   primary_cleaner.state.floatbank8_a_air      5290 non-null   float64\n",
      " 6   primary_cleaner.state.floatbank8_a_level    5290 non-null   float64\n",
      " 7   primary_cleaner.state.floatbank8_b_air      5290 non-null   float64\n",
      " 8   primary_cleaner.state.floatbank8_b_level    5290 non-null   float64\n",
      " 9   primary_cleaner.state.floatbank8_c_air      5290 non-null   float64\n",
      " 10  primary_cleaner.state.floatbank8_c_level    5290 non-null   float64\n",
      " 11  primary_cleaner.state.floatbank8_d_air      5290 non-null   float64\n",
      " 12  primary_cleaner.state.floatbank8_d_level    5290 non-null   float64\n",
      " 13  rougher.input.feed_ag                       5290 non-null   float64\n",
      " 14  rougher.input.feed_pb                       5290 non-null   float64\n",
      " 15  rougher.input.feed_rate                     5287 non-null   float64\n",
      " 16  rougher.input.feed_size                     5289 non-null   float64\n",
      " 17  rougher.input.feed_sol                      5269 non-null   float64\n",
      " 18  rougher.input.feed_au                       5290 non-null   float64\n",
      " 19  rougher.input.floatbank10_sulfate           5285 non-null   float64\n",
      " 20  rougher.input.floatbank10_xanthate          5290 non-null   float64\n",
      " 21  rougher.input.floatbank11_sulfate           5282 non-null   float64\n",
      " 22  rougher.input.floatbank11_xanthate          5265 non-null   float64\n",
      " 23  rougher.state.floatbank10_a_air             5290 non-null   float64\n",
      " 24  rougher.state.floatbank10_a_level           5290 non-null   float64\n",
      " 25  rougher.state.floatbank10_b_air             5290 non-null   float64\n",
      " 26  rougher.state.floatbank10_b_level           5290 non-null   float64\n",
      " 27  rougher.state.floatbank10_c_air             5290 non-null   float64\n",
      " 28  rougher.state.floatbank10_c_level           5290 non-null   float64\n",
      " 29  rougher.state.floatbank10_d_air             5290 non-null   float64\n",
      " 30  rougher.state.floatbank10_d_level           5290 non-null   float64\n",
      " 31  rougher.state.floatbank10_e_air             5290 non-null   float64\n",
      " 32  rougher.state.floatbank10_e_level           5290 non-null   float64\n",
      " 33  rougher.state.floatbank10_f_air             5290 non-null   float64\n",
      " 34  rougher.state.floatbank10_f_level           5290 non-null   float64\n",
      " 35  secondary_cleaner.state.floatbank2_a_air    5287 non-null   float64\n",
      " 36  secondary_cleaner.state.floatbank2_a_level  5290 non-null   float64\n",
      " 37  secondary_cleaner.state.floatbank2_b_air    5288 non-null   float64\n",
      " 38  secondary_cleaner.state.floatbank2_b_level  5290 non-null   float64\n",
      " 39  secondary_cleaner.state.floatbank3_a_air    5281 non-null   float64\n",
      " 40  secondary_cleaner.state.floatbank3_a_level  5290 non-null   float64\n",
      " 41  secondary_cleaner.state.floatbank3_b_air    5290 non-null   float64\n",
      " 42  secondary_cleaner.state.floatbank3_b_level  5290 non-null   float64\n",
      " 43  secondary_cleaner.state.floatbank4_a_air    5290 non-null   float64\n",
      " 44  secondary_cleaner.state.floatbank4_a_level  5290 non-null   float64\n",
      " 45  secondary_cleaner.state.floatbank4_b_air    5290 non-null   float64\n",
      " 46  secondary_cleaner.state.floatbank4_b_level  5290 non-null   float64\n",
      " 47  secondary_cleaner.state.floatbank5_a_air    5290 non-null   float64\n",
      " 48  secondary_cleaner.state.floatbank5_a_level  5290 non-null   float64\n",
      " 49  secondary_cleaner.state.floatbank5_b_air    5290 non-null   float64\n",
      " 50  secondary_cleaner.state.floatbank5_b_level  5290 non-null   float64\n",
      " 51  secondary_cleaner.state.floatbank6_a_air    5290 non-null   float64\n",
      " 52  secondary_cleaner.state.floatbank6_a_level  5290 non-null   float64\n",
      "dtypes: float64(52), object(1)\n",
      "memory usage: 2.1+ MB\n"
     ]
    }
   ],
   "source": [
    "test_data.info()"
   ]
  },
  {
   "cell_type": "code",
   "execution_count": 5,
   "metadata": {
    "collapsed": true
   },
   "outputs": [
    {
     "name": "stdout",
     "output_type": "stream",
     "text": [
      "<class 'pandas.core.frame.DataFrame'>\n",
      "RangeIndex: 19439 entries, 0 to 19438\n",
      "Data columns (total 87 columns):\n",
      " #   Column                                              Non-Null Count  Dtype  \n",
      "---  ------                                              --------------  -----  \n",
      " 0   date                                                19439 non-null  object \n",
      " 1   final.output.concentrate_ag                         19438 non-null  float64\n",
      " 2   final.output.concentrate_pb                         19438 non-null  float64\n",
      " 3   final.output.concentrate_sol                        19228 non-null  float64\n",
      " 4   final.output.concentrate_au                         19439 non-null  float64\n",
      " 5   final.output.recovery                               19439 non-null  float64\n",
      " 6   final.output.tail_ag                                19438 non-null  float64\n",
      " 7   final.output.tail_pb                                19338 non-null  float64\n",
      " 8   final.output.tail_sol                               19433 non-null  float64\n",
      " 9   final.output.tail_au                                19439 non-null  float64\n",
      " 10  primary_cleaner.input.sulfate                       19415 non-null  float64\n",
      " 11  primary_cleaner.input.depressant                    19402 non-null  float64\n",
      " 12  primary_cleaner.input.feed_size                     19439 non-null  float64\n",
      " 13  primary_cleaner.input.xanthate                      19335 non-null  float64\n",
      " 14  primary_cleaner.output.concentrate_ag               19439 non-null  float64\n",
      " 15  primary_cleaner.output.concentrate_pb               19323 non-null  float64\n",
      " 16  primary_cleaner.output.concentrate_sol              19069 non-null  float64\n",
      " 17  primary_cleaner.output.concentrate_au               19439 non-null  float64\n",
      " 18  primary_cleaner.output.tail_ag                      19435 non-null  float64\n",
      " 19  primary_cleaner.output.tail_pb                      19418 non-null  float64\n",
      " 20  primary_cleaner.output.tail_sol                     19377 non-null  float64\n",
      " 21  primary_cleaner.output.tail_au                      19439 non-null  float64\n",
      " 22  primary_cleaner.state.floatbank8_a_air              19435 non-null  float64\n",
      " 23  primary_cleaner.state.floatbank8_a_level            19438 non-null  float64\n",
      " 24  primary_cleaner.state.floatbank8_b_air              19435 non-null  float64\n",
      " 25  primary_cleaner.state.floatbank8_b_level            19438 non-null  float64\n",
      " 26  primary_cleaner.state.floatbank8_c_air              19437 non-null  float64\n",
      " 27  primary_cleaner.state.floatbank8_c_level            19438 non-null  float64\n",
      " 28  primary_cleaner.state.floatbank8_d_air              19436 non-null  float64\n",
      " 29  primary_cleaner.state.floatbank8_d_level            19438 non-null  float64\n",
      " 30  rougher.calculation.sulfate_to_au_concentrate       19437 non-null  float64\n",
      " 31  rougher.calculation.floatbank10_sulfate_to_au_feed  19437 non-null  float64\n",
      " 32  rougher.calculation.floatbank11_sulfate_to_au_feed  19437 non-null  float64\n",
      " 33  rougher.calculation.au_pb_ratio                     19439 non-null  float64\n",
      " 34  rougher.input.feed_ag                               19439 non-null  float64\n",
      " 35  rougher.input.feed_pb                               19339 non-null  float64\n",
      " 36  rougher.input.feed_rate                             19428 non-null  float64\n",
      " 37  rougher.input.feed_size                             19294 non-null  float64\n",
      " 38  rougher.input.feed_sol                              19340 non-null  float64\n",
      " 39  rougher.input.feed_au                               19439 non-null  float64\n",
      " 40  rougher.input.floatbank10_sulfate                   19405 non-null  float64\n",
      " 41  rougher.input.floatbank10_xanthate                  19431 non-null  float64\n",
      " 42  rougher.input.floatbank11_sulfate                   19395 non-null  float64\n",
      " 43  rougher.input.floatbank11_xanthate                  18986 non-null  float64\n",
      " 44  rougher.output.concentrate_ag                       19439 non-null  float64\n",
      " 45  rougher.output.concentrate_pb                       19439 non-null  float64\n",
      " 46  rougher.output.concentrate_sol                      19416 non-null  float64\n",
      " 47  rougher.output.concentrate_au                       19439 non-null  float64\n",
      " 48  rougher.output.recovery                             19439 non-null  float64\n",
      " 49  rougher.output.tail_ag                              19438 non-null  float64\n",
      " 50  rougher.output.tail_pb                              19439 non-null  float64\n",
      " 51  rougher.output.tail_sol                             19439 non-null  float64\n",
      " 52  rougher.output.tail_au                              19439 non-null  float64\n",
      " 53  rougher.state.floatbank10_a_air                     19438 non-null  float64\n",
      " 54  rougher.state.floatbank10_a_level                   19438 non-null  float64\n",
      " 55  rougher.state.floatbank10_b_air                     19438 non-null  float64\n",
      " 56  rougher.state.floatbank10_b_level                   19438 non-null  float64\n",
      " 57  rougher.state.floatbank10_c_air                     19438 non-null  float64\n",
      " 58  rougher.state.floatbank10_c_level                   19438 non-null  float64\n",
      " 59  rougher.state.floatbank10_d_air                     19439 non-null  float64\n",
      " 60  rougher.state.floatbank10_d_level                   19439 non-null  float64\n",
      " 61  rougher.state.floatbank10_e_air                     19003 non-null  float64\n",
      " 62  rougher.state.floatbank10_e_level                   19439 non-null  float64\n",
      " 63  rougher.state.floatbank10_f_air                     19439 non-null  float64\n",
      " 64  rougher.state.floatbank10_f_level                   19439 non-null  float64\n",
      " 65  secondary_cleaner.output.tail_ag                    19437 non-null  float64\n",
      " 66  secondary_cleaner.output.tail_pb                    19427 non-null  float64\n",
      " 67  secondary_cleaner.output.tail_sol                   17691 non-null  float64\n",
      " 68  secondary_cleaner.output.tail_au                    19439 non-null  float64\n",
      " 69  secondary_cleaner.state.floatbank2_a_air            19219 non-null  float64\n",
      " 70  secondary_cleaner.state.floatbank2_a_level          19438 non-null  float64\n",
      " 71  secondary_cleaner.state.floatbank2_b_air            19416 non-null  float64\n",
      " 72  secondary_cleaner.state.floatbank2_b_level          19438 non-null  float64\n",
      " 73  secondary_cleaner.state.floatbank3_a_air            19426 non-null  float64\n",
      " 74  secondary_cleaner.state.floatbank3_a_level          19438 non-null  float64\n",
      " 75  secondary_cleaner.state.floatbank3_b_air            19438 non-null  float64\n",
      " 76  secondary_cleaner.state.floatbank3_b_level          19438 non-null  float64\n",
      " 77  secondary_cleaner.state.floatbank4_a_air            19433 non-null  float64\n",
      " 78  secondary_cleaner.state.floatbank4_a_level          19438 non-null  float64\n",
      " 79  secondary_cleaner.state.floatbank4_b_air            19438 non-null  float64\n",
      " 80  secondary_cleaner.state.floatbank4_b_level          19438 non-null  float64\n",
      " 81  secondary_cleaner.state.floatbank5_a_air            19438 non-null  float64\n",
      " 82  secondary_cleaner.state.floatbank5_a_level          19438 non-null  float64\n",
      " 83  secondary_cleaner.state.floatbank5_b_air            19438 non-null  float64\n",
      " 84  secondary_cleaner.state.floatbank5_b_level          19438 non-null  float64\n",
      " 85  secondary_cleaner.state.floatbank6_a_air            19437 non-null  float64\n",
      " 86  secondary_cleaner.state.floatbank6_a_level          19438 non-null  float64\n",
      "dtypes: float64(86), object(1)\n",
      "memory usage: 12.9+ MB\n"
     ]
    }
   ],
   "source": [
    "full_data.info()"
   ]
  },
  {
   "cell_type": "markdown",
   "metadata": {},
   "source": [
    "Расчитаем эффективность обогащения на этапе флотации по формуле для дальнейшей проверки адекватности данных:"
   ]
  },
  {
   "cell_type": "code",
   "execution_count": 6,
   "metadata": {},
   "outputs": [
    {
     "data": {
      "text/plain": [
       "0        87.107763\n",
       "1        86.843261\n",
       "2        86.842308\n",
       "3        87.226430\n",
       "4        86.688794\n",
       "           ...    \n",
       "14144    89.574376\n",
       "14145    87.724007\n",
       "14146    88.890579\n",
       "14147    89.858126\n",
       "14148    89.514960\n",
       "Length: 14149, dtype: float64"
      ]
     },
     "execution_count": 6,
     "metadata": {},
     "output_type": "execute_result"
    }
   ],
   "source": [
    "r_o_r = (train_data[\n",
    "    'rougher.output.concentrate_au'\n",
    "] * (train_data[\n",
    "    'rougher.input.feed_au'\n",
    "] - train_data[\n",
    "    'rougher.output.tail_au'\n",
    "])) / (train_data[\n",
    "    'rougher.input.feed_au'\n",
    "] * (train_data[\n",
    "    'rougher.output.concentrate_au'\n",
    "] - train_data[\n",
    "    'rougher.output.tail_au'\n",
    "])) * 100\n",
    "r_o_r"
   ]
  },
  {
   "cell_type": "markdown",
   "metadata": {},
   "source": [
    "Найдем среднее абсолютное отклонение найденых по формуле значений с табличными:"
   ]
  },
  {
   "cell_type": "code",
   "execution_count": 7,
   "metadata": {},
   "outputs": [
    {
     "data": {
      "text/plain": [
       "9.73512347450521e-15"
      ]
     },
     "execution_count": 7,
     "metadata": {},
     "output_type": "execute_result"
    }
   ],
   "source": [
    "mae_ror = abs(r_o_r - train_data['rougher.output.recovery']).sum() / len(r_o_r)\n",
    "mae_ror"
   ]
  },
  {
   "cell_type": "markdown",
   "metadata": {},
   "source": [
    "Учитывая значение MAE, данные в таблице верные"
   ]
  },
  {
   "cell_type": "markdown",
   "metadata": {},
   "source": [
    "Найдем признаки, отсутсвующие в тестовом наборе данных:"
   ]
  },
  {
   "cell_type": "code",
   "execution_count": 8,
   "metadata": {},
   "outputs": [
    {
     "data": {
      "text/plain": [
       "Index(['final.output.concentrate_ag', 'final.output.concentrate_pb',\n",
       "       'final.output.concentrate_sol', 'final.output.concentrate_au',\n",
       "       'final.output.recovery', 'final.output.tail_ag', 'final.output.tail_pb',\n",
       "       'final.output.tail_sol', 'final.output.tail_au',\n",
       "       'primary_cleaner.output.concentrate_ag',\n",
       "       'primary_cleaner.output.concentrate_pb',\n",
       "       'primary_cleaner.output.concentrate_sol',\n",
       "       'primary_cleaner.output.concentrate_au',\n",
       "       'primary_cleaner.output.tail_ag', 'primary_cleaner.output.tail_pb',\n",
       "       'primary_cleaner.output.tail_sol', 'primary_cleaner.output.tail_au',\n",
       "       'rougher.calculation.sulfate_to_au_concentrate',\n",
       "       'rougher.calculation.floatbank10_sulfate_to_au_feed',\n",
       "       'rougher.calculation.floatbank11_sulfate_to_au_feed',\n",
       "       'rougher.calculation.au_pb_ratio', 'rougher.output.concentrate_ag',\n",
       "       'rougher.output.concentrate_pb', 'rougher.output.concentrate_sol',\n",
       "       'rougher.output.concentrate_au', 'rougher.output.recovery',\n",
       "       'rougher.output.tail_ag', 'rougher.output.tail_pb',\n",
       "       'rougher.output.tail_sol', 'rougher.output.tail_au',\n",
       "       'secondary_cleaner.output.tail_ag', 'secondary_cleaner.output.tail_pb',\n",
       "       'secondary_cleaner.output.tail_sol',\n",
       "       'secondary_cleaner.output.tail_au'],\n",
       "      dtype='object')"
      ]
     },
     "execution_count": 8,
     "metadata": {},
     "output_type": "execute_result"
    }
   ],
   "source": [
    "full_data.columns[full_data.columns.isin(test_data.columns) == False]"
   ]
  },
  {
   "cell_type": "code",
   "execution_count": 9,
   "metadata": {},
   "outputs": [
    {
     "data": {
      "text/html": [
       "<div>\n",
       "<style scoped>\n",
       "    .dataframe tbody tr th:only-of-type {\n",
       "        vertical-align: middle;\n",
       "    }\n",
       "\n",
       "    .dataframe tbody tr th {\n",
       "        vertical-align: top;\n",
       "    }\n",
       "\n",
       "    .dataframe thead th {\n",
       "        text-align: right;\n",
       "    }\n",
       "</style>\n",
       "<table border=\"1\" class=\"dataframe\">\n",
       "  <thead>\n",
       "    <tr style=\"text-align: right;\">\n",
       "      <th></th>\n",
       "      <th>final.output.concentrate_ag</th>\n",
       "      <th>final.output.concentrate_pb</th>\n",
       "      <th>final.output.concentrate_sol</th>\n",
       "      <th>final.output.concentrate_au</th>\n",
       "      <th>final.output.recovery</th>\n",
       "      <th>final.output.tail_ag</th>\n",
       "      <th>final.output.tail_pb</th>\n",
       "      <th>final.output.tail_sol</th>\n",
       "      <th>final.output.tail_au</th>\n",
       "      <th>primary_cleaner.output.concentrate_ag</th>\n",
       "      <th>...</th>\n",
       "      <th>rougher.output.concentrate_au</th>\n",
       "      <th>rougher.output.recovery</th>\n",
       "      <th>rougher.output.tail_ag</th>\n",
       "      <th>rougher.output.tail_pb</th>\n",
       "      <th>rougher.output.tail_sol</th>\n",
       "      <th>rougher.output.tail_au</th>\n",
       "      <th>secondary_cleaner.output.tail_ag</th>\n",
       "      <th>secondary_cleaner.output.tail_pb</th>\n",
       "      <th>secondary_cleaner.output.tail_sol</th>\n",
       "      <th>secondary_cleaner.output.tail_au</th>\n",
       "    </tr>\n",
       "  </thead>\n",
       "  <tbody>\n",
       "    <tr>\n",
       "      <th>17489</th>\n",
       "      <td>5.238749</td>\n",
       "      <td>9.796042</td>\n",
       "      <td>10.268748</td>\n",
       "      <td>43.876343</td>\n",
       "      <td>80.711151</td>\n",
       "      <td>10.896707</td>\n",
       "      <td>3.322004</td>\n",
       "      <td>11.373861</td>\n",
       "      <td>2.491600</td>\n",
       "      <td>9.822758</td>\n",
       "      <td>...</td>\n",
       "      <td>18.525376</td>\n",
       "      <td>96.730099</td>\n",
       "      <td>2.828336</td>\n",
       "      <td>0.463276</td>\n",
       "      <td>18.981311</td>\n",
       "      <td>0.750051</td>\n",
       "      <td>17.455088</td>\n",
       "      <td>9.159773</td>\n",
       "      <td>6.046946</td>\n",
       "      <td>4.402800</td>\n",
       "    </tr>\n",
       "    <tr>\n",
       "      <th>14789</th>\n",
       "      <td>6.062219</td>\n",
       "      <td>10.098855</td>\n",
       "      <td>10.829058</td>\n",
       "      <td>44.501079</td>\n",
       "      <td>74.997508</td>\n",
       "      <td>11.965909</td>\n",
       "      <td>2.249114</td>\n",
       "      <td>13.436907</td>\n",
       "      <td>2.873596</td>\n",
       "      <td>10.559323</td>\n",
       "      <td>...</td>\n",
       "      <td>19.466866</td>\n",
       "      <td>91.509006</td>\n",
       "      <td>5.275111</td>\n",
       "      <td>0.531383</td>\n",
       "      <td>21.570859</td>\n",
       "      <td>1.493498</td>\n",
       "      <td>19.420469</td>\n",
       "      <td>6.355987</td>\n",
       "      <td>6.873725</td>\n",
       "      <td>3.803657</td>\n",
       "    </tr>\n",
       "    <tr>\n",
       "      <th>13324</th>\n",
       "      <td>4.109047</td>\n",
       "      <td>8.763177</td>\n",
       "      <td>7.106011</td>\n",
       "      <td>38.236071</td>\n",
       "      <td>71.665672</td>\n",
       "      <td>7.990674</td>\n",
       "      <td>2.860532</td>\n",
       "      <td>12.185374</td>\n",
       "      <td>2.937151</td>\n",
       "      <td>8.277421</td>\n",
       "      <td>...</td>\n",
       "      <td>20.981609</td>\n",
       "      <td>86.591942</td>\n",
       "      <td>3.981754</td>\n",
       "      <td>0.718140</td>\n",
       "      <td>19.474367</td>\n",
       "      <td>1.813338</td>\n",
       "      <td>16.526277</td>\n",
       "      <td>8.138779</td>\n",
       "      <td>3.167978</td>\n",
       "      <td>5.914293</td>\n",
       "    </tr>\n",
       "    <tr>\n",
       "      <th>934</th>\n",
       "      <td>6.419775</td>\n",
       "      <td>13.044901</td>\n",
       "      <td>13.372392</td>\n",
       "      <td>38.651951</td>\n",
       "      <td>75.107682</td>\n",
       "      <td>12.929187</td>\n",
       "      <td>2.492147</td>\n",
       "      <td>11.134373</td>\n",
       "      <td>3.029732</td>\n",
       "      <td>11.329958</td>\n",
       "      <td>...</td>\n",
       "      <td>20.291913</td>\n",
       "      <td>91.368197</td>\n",
       "      <td>5.457801</td>\n",
       "      <td>0.318408</td>\n",
       "      <td>11.930569</td>\n",
       "      <td>1.525996</td>\n",
       "      <td>9.953023</td>\n",
       "      <td>3.624625</td>\n",
       "      <td>7.378936</td>\n",
       "      <td>2.269681</td>\n",
       "    </tr>\n",
       "    <tr>\n",
       "      <th>8892</th>\n",
       "      <td>5.746098</td>\n",
       "      <td>9.903990</td>\n",
       "      <td>11.145804</td>\n",
       "      <td>45.215087</td>\n",
       "      <td>62.605779</td>\n",
       "      <td>9.099445</td>\n",
       "      <td>2.532067</td>\n",
       "      <td>13.215842</td>\n",
       "      <td>3.013435</td>\n",
       "      <td>9.563547</td>\n",
       "      <td>...</td>\n",
       "      <td>19.695219</td>\n",
       "      <td>85.730459</td>\n",
       "      <td>6.040193</td>\n",
       "      <td>0.758802</td>\n",
       "      <td>23.704123</td>\n",
       "      <td>1.511454</td>\n",
       "      <td>13.232701</td>\n",
       "      <td>2.731391</td>\n",
       "      <td>12.183802</td>\n",
       "      <td>3.032739</td>\n",
       "    </tr>\n",
       "  </tbody>\n",
       "</table>\n",
       "<p>5 rows × 34 columns</p>\n",
       "</div>"
      ],
      "text/plain": [
       "       final.output.concentrate_ag  final.output.concentrate_pb  \\\n",
       "17489                     5.238749                     9.796042   \n",
       "14789                     6.062219                    10.098855   \n",
       "13324                     4.109047                     8.763177   \n",
       "934                       6.419775                    13.044901   \n",
       "8892                      5.746098                     9.903990   \n",
       "\n",
       "       final.output.concentrate_sol  final.output.concentrate_au  \\\n",
       "17489                     10.268748                    43.876343   \n",
       "14789                     10.829058                    44.501079   \n",
       "13324                      7.106011                    38.236071   \n",
       "934                       13.372392                    38.651951   \n",
       "8892                      11.145804                    45.215087   \n",
       "\n",
       "       final.output.recovery  final.output.tail_ag  final.output.tail_pb  \\\n",
       "17489              80.711151             10.896707              3.322004   \n",
       "14789              74.997508             11.965909              2.249114   \n",
       "13324              71.665672              7.990674              2.860532   \n",
       "934                75.107682             12.929187              2.492147   \n",
       "8892               62.605779              9.099445              2.532067   \n",
       "\n",
       "       final.output.tail_sol  final.output.tail_au  \\\n",
       "17489              11.373861              2.491600   \n",
       "14789              13.436907              2.873596   \n",
       "13324              12.185374              2.937151   \n",
       "934                11.134373              3.029732   \n",
       "8892               13.215842              3.013435   \n",
       "\n",
       "       primary_cleaner.output.concentrate_ag  ...  \\\n",
       "17489                               9.822758  ...   \n",
       "14789                              10.559323  ...   \n",
       "13324                               8.277421  ...   \n",
       "934                                11.329958  ...   \n",
       "8892                                9.563547  ...   \n",
       "\n",
       "       rougher.output.concentrate_au  rougher.output.recovery  \\\n",
       "17489                      18.525376                96.730099   \n",
       "14789                      19.466866                91.509006   \n",
       "13324                      20.981609                86.591942   \n",
       "934                        20.291913                91.368197   \n",
       "8892                       19.695219                85.730459   \n",
       "\n",
       "       rougher.output.tail_ag  rougher.output.tail_pb  \\\n",
       "17489                2.828336                0.463276   \n",
       "14789                5.275111                0.531383   \n",
       "13324                3.981754                0.718140   \n",
       "934                  5.457801                0.318408   \n",
       "8892                 6.040193                0.758802   \n",
       "\n",
       "       rougher.output.tail_sol  rougher.output.tail_au  \\\n",
       "17489                18.981311                0.750051   \n",
       "14789                21.570859                1.493498   \n",
       "13324                19.474367                1.813338   \n",
       "934                  11.930569                1.525996   \n",
       "8892                 23.704123                1.511454   \n",
       "\n",
       "       secondary_cleaner.output.tail_ag  secondary_cleaner.output.tail_pb  \\\n",
       "17489                         17.455088                          9.159773   \n",
       "14789                         19.420469                          6.355987   \n",
       "13324                         16.526277                          8.138779   \n",
       "934                            9.953023                          3.624625   \n",
       "8892                          13.232701                          2.731391   \n",
       "\n",
       "       secondary_cleaner.output.tail_sol  secondary_cleaner.output.tail_au  \n",
       "17489                           6.046946                          4.402800  \n",
       "14789                           6.873725                          3.803657  \n",
       "13324                           3.167978                          5.914293  \n",
       "934                             7.378936                          2.269681  \n",
       "8892                           12.183802                          3.032739  \n",
       "\n",
       "[5 rows x 34 columns]"
      ]
     },
     "execution_count": 9,
     "metadata": {},
     "output_type": "execute_result"
    }
   ],
   "source": [
    "full_data[full_data.columns[full_data.columns.isin(test_data.columns) == False]].sample(5)"
   ]
  },
  {
   "cell_type": "markdown",
   "metadata": {},
   "source": [
    "Эти данные рассчитываются позже, поэтому отсутствуют в данной выборке. Для проверки работы модели нам понадобятся значения целевых признаков (final.output.recovery и rougher.output.recovery) в тестовой выборке. Добавляем их из полного набора данных."
   ]
  },
  {
   "cell_type": "code",
   "execution_count": 10,
   "metadata": {},
   "outputs": [],
   "source": [
    "test_data = test_data.sort_values('date')\n",
    "\n",
    "test_data.loc[\n",
    "    :, 'final.output.recovery'\n",
    "] = full_data.sort_values('date')[full_data['date'].isin(test_data['date'])][\n",
    "    'final.output.recovery'\n",
    "].values\n",
    "\n",
    "test_data.loc[\n",
    "    :, 'rougher.output.recovery'\n",
    "] = full_data.sort_values('date')[full_data['date'].isin(test_data['date'])][\n",
    "    'rougher.output.recovery'\n",
    "].values"
   ]
  },
  {
   "cell_type": "markdown",
   "metadata": {},
   "source": [
    "Строим гистограммы признаков:"
   ]
  },
  {
   "cell_type": "code",
   "execution_count": 11,
   "metadata": {},
   "outputs": [],
   "source": [
    "names = []\n",
    "for i in range(1, len(full_data.columns)):\n",
    "    names.append(full_data.columns[i].split('.')[0] + '.' + full_data.columns[i].split('.')[1])"
   ]
  },
  {
   "cell_type": "code",
   "execution_count": 12,
   "metadata": {},
   "outputs": [
    {
     "data": {
      "image/png": "[encoded data removed]",
      "text/plain": [
       "<Figure size 1800x144 with 9 Axes>"
      ]
     },
     "metadata": {
      "needs_background": "light"
     },
     "output_type": "display_data"
    },
    {
     "data": {
      "image/png": "[encoded data removed]",
      "text/plain": [
       "<Figure size 1800x144 with 4 Axes>"
      ]
     },
     "metadata": {
      "needs_background": "light"
     },
     "output_type": "display_data"
    },
    {
     "data": {
      "image/png": "[encoded data removed]",
      "text/plain": [
       "<Figure size 1800x144 with 8 Axes>"
      ]
     },
     "metadata": {
      "needs_background": "light"
     },
     "output_type": "display_data"
    },
    {
     "data": {
      "image/png": "[encoded data removed]",
      "text/plain": [
       "<Figure size 1800x144 with 8 Axes>"
      ]
     },
     "metadata": {
      "needs_background": "light"
     },
     "output_type": "display_data"
    },
    {
     "data": {
      "image/png": "[encoded data removed]",
      "text/plain": [
       "<Figure size 1800x144 with 4 Axes>"
      ]
     },
     "metadata": {
      "needs_background": "light"
     },
     "output_type": "display_data"
    },
    {
     "data": {
      "image/png": "[encoded data removed]",
      "text/plain": [
       "<Figure size 1800x144 with 10 Axes>"
      ]
     },
     "metadata": {
      "needs_background": "light"
     },
     "output_type": "display_data"
    },
    {
     "data": {
      "image/png": "[encoded data removed]",
      "text/plain": [
       "<Figure size 1800x144 with 9 Axes>"
      ]
     },
     "metadata": {
      "needs_background": "light"
     },
     "output_type": "display_data"
    },
    {
     "data": {
      "image/png": "[encoded data removed]",
      "text/plain": [
       "<Figure size 1800x144 with 12 Axes>"
      ]
     },
     "metadata": {
      "needs_background": "light"
     },
     "output_type": "display_data"
    },
    {
     "data": {
      "image/png": "[encoded data removed]",
      "text/plain": [
       "<Figure size 1800x144 with 4 Axes>"
      ]
     },
     "metadata": {
      "needs_background": "light"
     },
     "output_type": "display_data"
    },
    {
     "data": {
      "image/png": "[encoded data removed]",
      "text/plain": [
       "<Figure size 1800x144 with 18 Axes>"
      ]
     },
     "metadata": {
      "needs_background": "light"
     },
     "output_type": "display_data"
    }
   ],
   "source": [
    "for i in range(len(range(pd.Series(pd.Series(names).unique()).count()))):\n",
    "    fig, axs = plt.subplots(1, full_data.columns.str.contains(pd.Series(names).unique()[i]).sum(), figsize=(25, 2))\n",
    "    fig.suptitle(pd.Series(names).unique()[i], fontsize=20, y=1.2)\n",
    "    for x in range(full_data.columns.str.contains(pd.Series(names).unique()[i]).sum()):\n",
    "        axs[x].hist(full_data.loc[:, full_data.loc[:, full_data.columns.str.contains(pd.Series(names).unique()[i])].columns[x]])\n",
    "        axs[x].set_title(full_data.loc[:, full_data.loc[:, full_data.columns.str.contains(pd.Series(names).unique()[i])].columns[x]].name.split('.')[-1], fontsize=8)"
   ]
  },
  {
   "cell_type": "markdown",
   "metadata": {},
   "source": [
    "Большинство признаков распределены нормально."
   ]
  },
  {
   "cell_type": "markdown",
   "metadata": {},
   "source": [
    "Проверим пропущенные значения:"
   ]
  },
  {
   "cell_type": "code",
   "execution_count": 13,
   "metadata": {},
   "outputs": [],
   "source": [
    "def isna_view (data):\n",
    "    return (\n",
    "        (data.isna().mean())\n",
    "        .sort_values(ascending=False)\n",
    "        .to_frame()\n",
    "        .rename(columns = {0:'percent_space'})\n",
    "        # .style.background_gradient('coolwarm').format(\"{:.1%}\")\n",
    "    )"
   ]
  },
  {
   "cell_type": "code",
   "execution_count": 14,
   "metadata": {
    "collapsed": true
   },
   "outputs": [
    {
     "data": {
      "text/html": [
       "<style  type=\"text/css\" >\n",
       "#T_f9576_row0_col0{\n",
       "            background-color:  #b40426;\n",
       "            color:  #f1f1f1;\n",
       "        }#T_f9576_row1_col0{\n",
       "            background-color:  #90b2fe;\n",
       "            color:  #000000;\n",
       "        }#T_f9576_row2_col0{\n",
       "            background-color:  #8caffe;\n",
       "            color:  #000000;\n",
       "        }#T_f9576_row3_col0{\n",
       "            background-color:  #80a3fa;\n",
       "            color:  #000000;\n",
       "        }#T_f9576_row4_col0{\n",
       "            background-color:  #6282ea;\n",
       "            color:  #000000;\n",
       "        }#T_f9576_row5_col0{\n",
       "            background-color:  #5f7fe8;\n",
       "            color:  #000000;\n",
       "        }#T_f9576_row6_col0{\n",
       "            background-color:  #5470de;\n",
       "            color:  #000000;\n",
       "        }#T_f9576_row7_col0{\n",
       "            background-color:  #4e68d8;\n",
       "            color:  #000000;\n",
       "        }#T_f9576_row8_col0{\n",
       "            background-color:  #4c66d6;\n",
       "            color:  #000000;\n",
       "        }#T_f9576_row9_col0,#T_f9576_row10_col0,#T_f9576_row11_col0{\n",
       "            background-color:  #4b64d5;\n",
       "            color:  #f1f1f1;\n",
       "        }#T_f9576_row12_col0{\n",
       "            background-color:  #455cce;\n",
       "            color:  #f1f1f1;\n",
       "        }#T_f9576_row13_col0{\n",
       "            background-color:  #4257c9;\n",
       "            color:  #f1f1f1;\n",
       "        }#T_f9576_row14_col0{\n",
       "            background-color:  #4055c8;\n",
       "            color:  #f1f1f1;\n",
       "        }#T_f9576_row15_col0{\n",
       "            background-color:  #3f53c6;\n",
       "            color:  #f1f1f1;\n",
       "        }#T_f9576_row16_col0,#T_f9576_row17_col0,#T_f9576_row18_col0,#T_f9576_row19_col0{\n",
       "            background-color:  #3e51c5;\n",
       "            color:  #f1f1f1;\n",
       "        }#T_f9576_row20_col0,#T_f9576_row21_col0,#T_f9576_row22_col0,#T_f9576_row23_col0{\n",
       "            background-color:  #3c4ec2;\n",
       "            color:  #f1f1f1;\n",
       "        }#T_f9576_row24_col0,#T_f9576_row25_col0,#T_f9576_row26_col0,#T_f9576_row27_col0,#T_f9576_row28_col0,#T_f9576_row29_col0,#T_f9576_row30_col0,#T_f9576_row31_col0,#T_f9576_row32_col0,#T_f9576_row33_col0,#T_f9576_row34_col0,#T_f9576_row35_col0,#T_f9576_row36_col0,#T_f9576_row37_col0,#T_f9576_row38_col0,#T_f9576_row39_col0,#T_f9576_row40_col0,#T_f9576_row41_col0,#T_f9576_row42_col0,#T_f9576_row43_col0,#T_f9576_row44_col0,#T_f9576_row45_col0,#T_f9576_row46_col0,#T_f9576_row47_col0,#T_f9576_row48_col0,#T_f9576_row49_col0,#T_f9576_row50_col0,#T_f9576_row51_col0,#T_f9576_row52_col0,#T_f9576_row53_col0,#T_f9576_row54_col0,#T_f9576_row55_col0,#T_f9576_row56_col0,#T_f9576_row57_col0,#T_f9576_row58_col0,#T_f9576_row59_col0,#T_f9576_row60_col0,#T_f9576_row61_col0,#T_f9576_row62_col0,#T_f9576_row63_col0,#T_f9576_row64_col0,#T_f9576_row65_col0,#T_f9576_row66_col0,#T_f9576_row67_col0,#T_f9576_row68_col0,#T_f9576_row69_col0,#T_f9576_row70_col0,#T_f9576_row71_col0,#T_f9576_row72_col0,#T_f9576_row73_col0,#T_f9576_row74_col0,#T_f9576_row75_col0,#T_f9576_row76_col0,#T_f9576_row77_col0,#T_f9576_row78_col0,#T_f9576_row79_col0,#T_f9576_row80_col0,#T_f9576_row81_col0,#T_f9576_row82_col0,#T_f9576_row83_col0,#T_f9576_row84_col0,#T_f9576_row85_col0,#T_f9576_row86_col0{\n",
       "            background-color:  #3b4cc0;\n",
       "            color:  #f1f1f1;\n",
       "        }</style><table id=\"T_f9576_\" ><thead>    <tr>        <th class=\"blank level0\" ></th>        <th class=\"col_heading level0 col0\" >percent_space</th>    </tr></thead><tbody>\n",
       "                <tr>\n",
       "                        <th id=\"T_f9576_level0_row0\" class=\"row_heading level0 row0\" >secondary_cleaner.output.tail_sol</th>\n",
       "                        <td id=\"T_f9576_row0_col0\" class=\"data row0 col0\" >9.0%</td>\n",
       "            </tr>\n",
       "            <tr>\n",
       "                        <th id=\"T_f9576_level0_row1\" class=\"row_heading level0 row1\" >rougher.input.floatbank11_xanthate</th>\n",
       "                        <td id=\"T_f9576_row1_col0\" class=\"data row1 col0\" >2.3%</td>\n",
       "            </tr>\n",
       "            <tr>\n",
       "                        <th id=\"T_f9576_level0_row2\" class=\"row_heading level0 row2\" >rougher.state.floatbank10_e_air</th>\n",
       "                        <td id=\"T_f9576_row2_col0\" class=\"data row2 col0\" >2.2%</td>\n",
       "            </tr>\n",
       "            <tr>\n",
       "                        <th id=\"T_f9576_level0_row3\" class=\"row_heading level0 row3\" >primary_cleaner.output.concentrate_sol</th>\n",
       "                        <td id=\"T_f9576_row3_col0\" class=\"data row3 col0\" >1.9%</td>\n",
       "            </tr>\n",
       "            <tr>\n",
       "                        <th id=\"T_f9576_level0_row4\" class=\"row_heading level0 row4\" >secondary_cleaner.state.floatbank2_a_air</th>\n",
       "                        <td id=\"T_f9576_row4_col0\" class=\"data row4 col0\" >1.1%</td>\n",
       "            </tr>\n",
       "            <tr>\n",
       "                        <th id=\"T_f9576_level0_row5\" class=\"row_heading level0 row5\" >final.output.concentrate_sol</th>\n",
       "                        <td id=\"T_f9576_row5_col0\" class=\"data row5 col0\" >1.1%</td>\n",
       "            </tr>\n",
       "            <tr>\n",
       "                        <th id=\"T_f9576_level0_row6\" class=\"row_heading level0 row6\" >rougher.input.feed_size</th>\n",
       "                        <td id=\"T_f9576_row6_col0\" class=\"data row6 col0\" >0.7%</td>\n",
       "            </tr>\n",
       "            <tr>\n",
       "                        <th id=\"T_f9576_level0_row7\" class=\"row_heading level0 row7\" >primary_cleaner.output.concentrate_pb</th>\n",
       "                        <td id=\"T_f9576_row7_col0\" class=\"data row7 col0\" >0.6%</td>\n",
       "            </tr>\n",
       "            <tr>\n",
       "                        <th id=\"T_f9576_level0_row8\" class=\"row_heading level0 row8\" >primary_cleaner.input.xanthate</th>\n",
       "                        <td id=\"T_f9576_row8_col0\" class=\"data row8 col0\" >0.5%</td>\n",
       "            </tr>\n",
       "            <tr>\n",
       "                        <th id=\"T_f9576_level0_row9\" class=\"row_heading level0 row9\" >final.output.tail_pb</th>\n",
       "                        <td id=\"T_f9576_row9_col0\" class=\"data row9 col0\" >0.5%</td>\n",
       "            </tr>\n",
       "            <tr>\n",
       "                        <th id=\"T_f9576_level0_row10\" class=\"row_heading level0 row10\" >rougher.input.feed_pb</th>\n",
       "                        <td id=\"T_f9576_row10_col0\" class=\"data row10 col0\" >0.5%</td>\n",
       "            </tr>\n",
       "            <tr>\n",
       "                        <th id=\"T_f9576_level0_row11\" class=\"row_heading level0 row11\" >rougher.input.feed_sol</th>\n",
       "                        <td id=\"T_f9576_row11_col0\" class=\"data row11 col0\" >0.5%</td>\n",
       "            </tr>\n",
       "            <tr>\n",
       "                        <th id=\"T_f9576_level0_row12\" class=\"row_heading level0 row12\" >primary_cleaner.output.tail_sol</th>\n",
       "                        <td id=\"T_f9576_row12_col0\" class=\"data row12 col0\" >0.3%</td>\n",
       "            </tr>\n",
       "            <tr>\n",
       "                        <th id=\"T_f9576_level0_row13\" class=\"row_heading level0 row13\" >rougher.input.floatbank11_sulfate</th>\n",
       "                        <td id=\"T_f9576_row13_col0\" class=\"data row13 col0\" >0.2%</td>\n",
       "            </tr>\n",
       "            <tr>\n",
       "                        <th id=\"T_f9576_level0_row14\" class=\"row_heading level0 row14\" >primary_cleaner.input.depressant</th>\n",
       "                        <td id=\"T_f9576_row14_col0\" class=\"data row14 col0\" >0.2%</td>\n",
       "            </tr>\n",
       "            <tr>\n",
       "                        <th id=\"T_f9576_level0_row15\" class=\"row_heading level0 row15\" >rougher.input.floatbank10_sulfate</th>\n",
       "                        <td id=\"T_f9576_row15_col0\" class=\"data row15 col0\" >0.2%</td>\n",
       "            </tr>\n",
       "            <tr>\n",
       "                        <th id=\"T_f9576_level0_row16\" class=\"row_heading level0 row16\" >primary_cleaner.input.sulfate</th>\n",
       "                        <td id=\"T_f9576_row16_col0\" class=\"data row16 col0\" >0.1%</td>\n",
       "            </tr>\n",
       "            <tr>\n",
       "                        <th id=\"T_f9576_level0_row17\" class=\"row_heading level0 row17\" >rougher.output.concentrate_sol</th>\n",
       "                        <td id=\"T_f9576_row17_col0\" class=\"data row17 col0\" >0.1%</td>\n",
       "            </tr>\n",
       "            <tr>\n",
       "                        <th id=\"T_f9576_level0_row18\" class=\"row_heading level0 row18\" >secondary_cleaner.state.floatbank2_b_air</th>\n",
       "                        <td id=\"T_f9576_row18_col0\" class=\"data row18 col0\" >0.1%</td>\n",
       "            </tr>\n",
       "            <tr>\n",
       "                        <th id=\"T_f9576_level0_row19\" class=\"row_heading level0 row19\" >primary_cleaner.output.tail_pb</th>\n",
       "                        <td id=\"T_f9576_row19_col0\" class=\"data row19 col0\" >0.1%</td>\n",
       "            </tr>\n",
       "            <tr>\n",
       "                        <th id=\"T_f9576_level0_row20\" class=\"row_heading level0 row20\" >secondary_cleaner.state.floatbank3_a_air</th>\n",
       "                        <td id=\"T_f9576_row20_col0\" class=\"data row20 col0\" >0.1%</td>\n",
       "            </tr>\n",
       "            <tr>\n",
       "                        <th id=\"T_f9576_level0_row21\" class=\"row_heading level0 row21\" >secondary_cleaner.output.tail_pb</th>\n",
       "                        <td id=\"T_f9576_row21_col0\" class=\"data row21 col0\" >0.1%</td>\n",
       "            </tr>\n",
       "            <tr>\n",
       "                        <th id=\"T_f9576_level0_row22\" class=\"row_heading level0 row22\" >rougher.input.feed_rate</th>\n",
       "                        <td id=\"T_f9576_row22_col0\" class=\"data row22 col0\" >0.1%</td>\n",
       "            </tr>\n",
       "            <tr>\n",
       "                        <th id=\"T_f9576_level0_row23\" class=\"row_heading level0 row23\" >rougher.input.floatbank10_xanthate</th>\n",
       "                        <td id=\"T_f9576_row23_col0\" class=\"data row23 col0\" >0.0%</td>\n",
       "            </tr>\n",
       "            <tr>\n",
       "                        <th id=\"T_f9576_level0_row24\" class=\"row_heading level0 row24\" >final.output.tail_sol</th>\n",
       "                        <td id=\"T_f9576_row24_col0\" class=\"data row24 col0\" >0.0%</td>\n",
       "            </tr>\n",
       "            <tr>\n",
       "                        <th id=\"T_f9576_level0_row25\" class=\"row_heading level0 row25\" >secondary_cleaner.state.floatbank4_a_air</th>\n",
       "                        <td id=\"T_f9576_row25_col0\" class=\"data row25 col0\" >0.0%</td>\n",
       "            </tr>\n",
       "            <tr>\n",
       "                        <th id=\"T_f9576_level0_row26\" class=\"row_heading level0 row26\" >primary_cleaner.output.tail_ag</th>\n",
       "                        <td id=\"T_f9576_row26_col0\" class=\"data row26 col0\" >0.0%</td>\n",
       "            </tr>\n",
       "            <tr>\n",
       "                        <th id=\"T_f9576_level0_row27\" class=\"row_heading level0 row27\" >primary_cleaner.state.floatbank8_b_air</th>\n",
       "                        <td id=\"T_f9576_row27_col0\" class=\"data row27 col0\" >0.0%</td>\n",
       "            </tr>\n",
       "            <tr>\n",
       "                        <th id=\"T_f9576_level0_row28\" class=\"row_heading level0 row28\" >primary_cleaner.state.floatbank8_a_air</th>\n",
       "                        <td id=\"T_f9576_row28_col0\" class=\"data row28 col0\" >0.0%</td>\n",
       "            </tr>\n",
       "            <tr>\n",
       "                        <th id=\"T_f9576_level0_row29\" class=\"row_heading level0 row29\" >primary_cleaner.state.floatbank8_d_air</th>\n",
       "                        <td id=\"T_f9576_row29_col0\" class=\"data row29 col0\" >0.0%</td>\n",
       "            </tr>\n",
       "            <tr>\n",
       "                        <th id=\"T_f9576_level0_row30\" class=\"row_heading level0 row30\" >rougher.calculation.floatbank11_sulfate_to_au_feed</th>\n",
       "                        <td id=\"T_f9576_row30_col0\" class=\"data row30 col0\" >0.0%</td>\n",
       "            </tr>\n",
       "            <tr>\n",
       "                        <th id=\"T_f9576_level0_row31\" class=\"row_heading level0 row31\" >secondary_cleaner.output.tail_ag</th>\n",
       "                        <td id=\"T_f9576_row31_col0\" class=\"data row31 col0\" >0.0%</td>\n",
       "            </tr>\n",
       "            <tr>\n",
       "                        <th id=\"T_f9576_level0_row32\" class=\"row_heading level0 row32\" >primary_cleaner.state.floatbank8_c_air</th>\n",
       "                        <td id=\"T_f9576_row32_col0\" class=\"data row32 col0\" >0.0%</td>\n",
       "            </tr>\n",
       "            <tr>\n",
       "                        <th id=\"T_f9576_level0_row33\" class=\"row_heading level0 row33\" >rougher.calculation.sulfate_to_au_concentrate</th>\n",
       "                        <td id=\"T_f9576_row33_col0\" class=\"data row33 col0\" >0.0%</td>\n",
       "            </tr>\n",
       "            <tr>\n",
       "                        <th id=\"T_f9576_level0_row34\" class=\"row_heading level0 row34\" >secondary_cleaner.state.floatbank6_a_air</th>\n",
       "                        <td id=\"T_f9576_row34_col0\" class=\"data row34 col0\" >0.0%</td>\n",
       "            </tr>\n",
       "            <tr>\n",
       "                        <th id=\"T_f9576_level0_row35\" class=\"row_heading level0 row35\" >rougher.calculation.floatbank10_sulfate_to_au_feed</th>\n",
       "                        <td id=\"T_f9576_row35_col0\" class=\"data row35 col0\" >0.0%</td>\n",
       "            </tr>\n",
       "            <tr>\n",
       "                        <th id=\"T_f9576_level0_row36\" class=\"row_heading level0 row36\" >secondary_cleaner.state.floatbank2_b_level</th>\n",
       "                        <td id=\"T_f9576_row36_col0\" class=\"data row36 col0\" >0.0%</td>\n",
       "            </tr>\n",
       "            <tr>\n",
       "                        <th id=\"T_f9576_level0_row37\" class=\"row_heading level0 row37\" >secondary_cleaner.state.floatbank5_a_air</th>\n",
       "                        <td id=\"T_f9576_row37_col0\" class=\"data row37 col0\" >0.0%</td>\n",
       "            </tr>\n",
       "            <tr>\n",
       "                        <th id=\"T_f9576_level0_row38\" class=\"row_heading level0 row38\" >rougher.state.floatbank10_b_level</th>\n",
       "                        <td id=\"T_f9576_row38_col0\" class=\"data row38 col0\" >0.0%</td>\n",
       "            </tr>\n",
       "            <tr>\n",
       "                        <th id=\"T_f9576_level0_row39\" class=\"row_heading level0 row39\" >rougher.state.floatbank10_c_air</th>\n",
       "                        <td id=\"T_f9576_row39_col0\" class=\"data row39 col0\" >0.0%</td>\n",
       "            </tr>\n",
       "            <tr>\n",
       "                        <th id=\"T_f9576_level0_row40\" class=\"row_heading level0 row40\" >rougher.state.floatbank10_c_level</th>\n",
       "                        <td id=\"T_f9576_row40_col0\" class=\"data row40 col0\" >0.0%</td>\n",
       "            </tr>\n",
       "            <tr>\n",
       "                        <th id=\"T_f9576_level0_row41\" class=\"row_heading level0 row41\" >secondary_cleaner.state.floatbank5_b_level</th>\n",
       "                        <td id=\"T_f9576_row41_col0\" class=\"data row41 col0\" >0.0%</td>\n",
       "            </tr>\n",
       "            <tr>\n",
       "                        <th id=\"T_f9576_level0_row42\" class=\"row_heading level0 row42\" >secondary_cleaner.state.floatbank5_b_air</th>\n",
       "                        <td id=\"T_f9576_row42_col0\" class=\"data row42 col0\" >0.0%</td>\n",
       "            </tr>\n",
       "            <tr>\n",
       "                        <th id=\"T_f9576_level0_row43\" class=\"row_heading level0 row43\" >secondary_cleaner.state.floatbank5_a_level</th>\n",
       "                        <td id=\"T_f9576_row43_col0\" class=\"data row43 col0\" >0.0%</td>\n",
       "            </tr>\n",
       "            <tr>\n",
       "                        <th id=\"T_f9576_level0_row44\" class=\"row_heading level0 row44\" >secondary_cleaner.state.floatbank4_b_level</th>\n",
       "                        <td id=\"T_f9576_row44_col0\" class=\"data row44 col0\" >0.0%</td>\n",
       "            </tr>\n",
       "            <tr>\n",
       "                        <th id=\"T_f9576_level0_row45\" class=\"row_heading level0 row45\" >secondary_cleaner.state.floatbank4_b_air</th>\n",
       "                        <td id=\"T_f9576_row45_col0\" class=\"data row45 col0\" >0.0%</td>\n",
       "            </tr>\n",
       "            <tr>\n",
       "                        <th id=\"T_f9576_level0_row46\" class=\"row_heading level0 row46\" >secondary_cleaner.state.floatbank4_a_level</th>\n",
       "                        <td id=\"T_f9576_row46_col0\" class=\"data row46 col0\" >0.0%</td>\n",
       "            </tr>\n",
       "            <tr>\n",
       "                        <th id=\"T_f9576_level0_row47\" class=\"row_heading level0 row47\" >secondary_cleaner.state.floatbank3_b_level</th>\n",
       "                        <td id=\"T_f9576_row47_col0\" class=\"data row47 col0\" >0.0%</td>\n",
       "            </tr>\n",
       "            <tr>\n",
       "                        <th id=\"T_f9576_level0_row48\" class=\"row_heading level0 row48\" >secondary_cleaner.state.floatbank2_a_level</th>\n",
       "                        <td id=\"T_f9576_row48_col0\" class=\"data row48 col0\" >0.0%</td>\n",
       "            </tr>\n",
       "            <tr>\n",
       "                        <th id=\"T_f9576_level0_row49\" class=\"row_heading level0 row49\" >secondary_cleaner.state.floatbank3_b_air</th>\n",
       "                        <td id=\"T_f9576_row49_col0\" class=\"data row49 col0\" >0.0%</td>\n",
       "            </tr>\n",
       "            <tr>\n",
       "                        <th id=\"T_f9576_level0_row50\" class=\"row_heading level0 row50\" >rougher.state.floatbank10_a_level</th>\n",
       "                        <td id=\"T_f9576_row50_col0\" class=\"data row50 col0\" >0.0%</td>\n",
       "            </tr>\n",
       "            <tr>\n",
       "                        <th id=\"T_f9576_level0_row51\" class=\"row_heading level0 row51\" >secondary_cleaner.state.floatbank3_a_level</th>\n",
       "                        <td id=\"T_f9576_row51_col0\" class=\"data row51 col0\" >0.0%</td>\n",
       "            </tr>\n",
       "            <tr>\n",
       "                        <th id=\"T_f9576_level0_row52\" class=\"row_heading level0 row52\" >rougher.state.floatbank10_b_air</th>\n",
       "                        <td id=\"T_f9576_row52_col0\" class=\"data row52 col0\" >0.0%</td>\n",
       "            </tr>\n",
       "            <tr>\n",
       "                        <th id=\"T_f9576_level0_row53\" class=\"row_heading level0 row53\" >secondary_cleaner.state.floatbank6_a_level</th>\n",
       "                        <td id=\"T_f9576_row53_col0\" class=\"data row53 col0\" >0.0%</td>\n",
       "            </tr>\n",
       "            <tr>\n",
       "                        <th id=\"T_f9576_level0_row54\" class=\"row_heading level0 row54\" >rougher.state.floatbank10_a_air</th>\n",
       "                        <td id=\"T_f9576_row54_col0\" class=\"data row54 col0\" >0.0%</td>\n",
       "            </tr>\n",
       "            <tr>\n",
       "                        <th id=\"T_f9576_level0_row55\" class=\"row_heading level0 row55\" >final.output.tail_ag</th>\n",
       "                        <td id=\"T_f9576_row55_col0\" class=\"data row55 col0\" >0.0%</td>\n",
       "            </tr>\n",
       "            <tr>\n",
       "                        <th id=\"T_f9576_level0_row56\" class=\"row_heading level0 row56\" >final.output.concentrate_ag</th>\n",
       "                        <td id=\"T_f9576_row56_col0\" class=\"data row56 col0\" >0.0%</td>\n",
       "            </tr>\n",
       "            <tr>\n",
       "                        <th id=\"T_f9576_level0_row57\" class=\"row_heading level0 row57\" >primary_cleaner.state.floatbank8_c_level</th>\n",
       "                        <td id=\"T_f9576_row57_col0\" class=\"data row57 col0\" >0.0%</td>\n",
       "            </tr>\n",
       "            <tr>\n",
       "                        <th id=\"T_f9576_level0_row58\" class=\"row_heading level0 row58\" >primary_cleaner.state.floatbank8_b_level</th>\n",
       "                        <td id=\"T_f9576_row58_col0\" class=\"data row58 col0\" >0.0%</td>\n",
       "            </tr>\n",
       "            <tr>\n",
       "                        <th id=\"T_f9576_level0_row59\" class=\"row_heading level0 row59\" >primary_cleaner.state.floatbank8_a_level</th>\n",
       "                        <td id=\"T_f9576_row59_col0\" class=\"data row59 col0\" >0.0%</td>\n",
       "            </tr>\n",
       "            <tr>\n",
       "                        <th id=\"T_f9576_level0_row60\" class=\"row_heading level0 row60\" >primary_cleaner.state.floatbank8_d_level</th>\n",
       "                        <td id=\"T_f9576_row60_col0\" class=\"data row60 col0\" >0.0%</td>\n",
       "            </tr>\n",
       "            <tr>\n",
       "                        <th id=\"T_f9576_level0_row61\" class=\"row_heading level0 row61\" >rougher.output.tail_ag</th>\n",
       "                        <td id=\"T_f9576_row61_col0\" class=\"data row61 col0\" >0.0%</td>\n",
       "            </tr>\n",
       "            <tr>\n",
       "                        <th id=\"T_f9576_level0_row62\" class=\"row_heading level0 row62\" >final.output.concentrate_pb</th>\n",
       "                        <td id=\"T_f9576_row62_col0\" class=\"data row62 col0\" >0.0%</td>\n",
       "            </tr>\n",
       "            <tr>\n",
       "                        <th id=\"T_f9576_level0_row63\" class=\"row_heading level0 row63\" >final.output.tail_au</th>\n",
       "                        <td id=\"T_f9576_row63_col0\" class=\"data row63 col0\" >0.0%</td>\n",
       "            </tr>\n",
       "            <tr>\n",
       "                        <th id=\"T_f9576_level0_row64\" class=\"row_heading level0 row64\" >rougher.calculation.au_pb_ratio</th>\n",
       "                        <td id=\"T_f9576_row64_col0\" class=\"data row64 col0\" >0.0%</td>\n",
       "            </tr>\n",
       "            <tr>\n",
       "                        <th id=\"T_f9576_level0_row65\" class=\"row_heading level0 row65\" >primary_cleaner.output.concentrate_ag</th>\n",
       "                        <td id=\"T_f9576_row65_col0\" class=\"data row65 col0\" >0.0%</td>\n",
       "            </tr>\n",
       "            <tr>\n",
       "                        <th id=\"T_f9576_level0_row66\" class=\"row_heading level0 row66\" >primary_cleaner.output.concentrate_au</th>\n",
       "                        <td id=\"T_f9576_row66_col0\" class=\"data row66 col0\" >0.0%</td>\n",
       "            </tr>\n",
       "            <tr>\n",
       "                        <th id=\"T_f9576_level0_row67\" class=\"row_heading level0 row67\" >primary_cleaner.output.tail_au</th>\n",
       "                        <td id=\"T_f9576_row67_col0\" class=\"data row67 col0\" >0.0%</td>\n",
       "            </tr>\n",
       "            <tr>\n",
       "                        <th id=\"T_f9576_level0_row68\" class=\"row_heading level0 row68\" >final.output.recovery</th>\n",
       "                        <td id=\"T_f9576_row68_col0\" class=\"data row68 col0\" >0.0%</td>\n",
       "            </tr>\n",
       "            <tr>\n",
       "                        <th id=\"T_f9576_level0_row69\" class=\"row_heading level0 row69\" >final.output.concentrate_au</th>\n",
       "                        <td id=\"T_f9576_row69_col0\" class=\"data row69 col0\" >0.0%</td>\n",
       "            </tr>\n",
       "            <tr>\n",
       "                        <th id=\"T_f9576_level0_row70\" class=\"row_heading level0 row70\" >primary_cleaner.input.feed_size</th>\n",
       "                        <td id=\"T_f9576_row70_col0\" class=\"data row70 col0\" >0.0%</td>\n",
       "            </tr>\n",
       "            <tr>\n",
       "                        <th id=\"T_f9576_level0_row71\" class=\"row_heading level0 row71\" >rougher.input.feed_au</th>\n",
       "                        <td id=\"T_f9576_row71_col0\" class=\"data row71 col0\" >0.0%</td>\n",
       "            </tr>\n",
       "            <tr>\n",
       "                        <th id=\"T_f9576_level0_row72\" class=\"row_heading level0 row72\" >rougher.input.feed_ag</th>\n",
       "                        <td id=\"T_f9576_row72_col0\" class=\"data row72 col0\" >0.0%</td>\n",
       "            </tr>\n",
       "            <tr>\n",
       "                        <th id=\"T_f9576_level0_row73\" class=\"row_heading level0 row73\" >rougher.output.tail_au</th>\n",
       "                        <td id=\"T_f9576_row73_col0\" class=\"data row73 col0\" >0.0%</td>\n",
       "            </tr>\n",
       "            <tr>\n",
       "                        <th id=\"T_f9576_level0_row74\" class=\"row_heading level0 row74\" >secondary_cleaner.output.tail_au</th>\n",
       "                        <td id=\"T_f9576_row74_col0\" class=\"data row74 col0\" >0.0%</td>\n",
       "            </tr>\n",
       "            <tr>\n",
       "                        <th id=\"T_f9576_level0_row75\" class=\"row_heading level0 row75\" >rougher.output.concentrate_ag</th>\n",
       "                        <td id=\"T_f9576_row75_col0\" class=\"data row75 col0\" >0.0%</td>\n",
       "            </tr>\n",
       "            <tr>\n",
       "                        <th id=\"T_f9576_level0_row76\" class=\"row_heading level0 row76\" >rougher.output.concentrate_pb</th>\n",
       "                        <td id=\"T_f9576_row76_col0\" class=\"data row76 col0\" >0.0%</td>\n",
       "            </tr>\n",
       "            <tr>\n",
       "                        <th id=\"T_f9576_level0_row77\" class=\"row_heading level0 row77\" >rougher.output.concentrate_au</th>\n",
       "                        <td id=\"T_f9576_row77_col0\" class=\"data row77 col0\" >0.0%</td>\n",
       "            </tr>\n",
       "            <tr>\n",
       "                        <th id=\"T_f9576_level0_row78\" class=\"row_heading level0 row78\" >rougher.state.floatbank10_f_level</th>\n",
       "                        <td id=\"T_f9576_row78_col0\" class=\"data row78 col0\" >0.0%</td>\n",
       "            </tr>\n",
       "            <tr>\n",
       "                        <th id=\"T_f9576_level0_row79\" class=\"row_heading level0 row79\" >rougher.state.floatbank10_f_air</th>\n",
       "                        <td id=\"T_f9576_row79_col0\" class=\"data row79 col0\" >0.0%</td>\n",
       "            </tr>\n",
       "            <tr>\n",
       "                        <th id=\"T_f9576_level0_row80\" class=\"row_heading level0 row80\" >rougher.state.floatbank10_e_level</th>\n",
       "                        <td id=\"T_f9576_row80_col0\" class=\"data row80 col0\" >0.0%</td>\n",
       "            </tr>\n",
       "            <tr>\n",
       "                        <th id=\"T_f9576_level0_row81\" class=\"row_heading level0 row81\" >rougher.output.recovery</th>\n",
       "                        <td id=\"T_f9576_row81_col0\" class=\"data row81 col0\" >0.0%</td>\n",
       "            </tr>\n",
       "            <tr>\n",
       "                        <th id=\"T_f9576_level0_row82\" class=\"row_heading level0 row82\" >rougher.state.floatbank10_d_level</th>\n",
       "                        <td id=\"T_f9576_row82_col0\" class=\"data row82 col0\" >0.0%</td>\n",
       "            </tr>\n",
       "            <tr>\n",
       "                        <th id=\"T_f9576_level0_row83\" class=\"row_heading level0 row83\" >rougher.state.floatbank10_d_air</th>\n",
       "                        <td id=\"T_f9576_row83_col0\" class=\"data row83 col0\" >0.0%</td>\n",
       "            </tr>\n",
       "            <tr>\n",
       "                        <th id=\"T_f9576_level0_row84\" class=\"row_heading level0 row84\" >rougher.output.tail_pb</th>\n",
       "                        <td id=\"T_f9576_row84_col0\" class=\"data row84 col0\" >0.0%</td>\n",
       "            </tr>\n",
       "            <tr>\n",
       "                        <th id=\"T_f9576_level0_row85\" class=\"row_heading level0 row85\" >rougher.output.tail_sol</th>\n",
       "                        <td id=\"T_f9576_row85_col0\" class=\"data row85 col0\" >0.0%</td>\n",
       "            </tr>\n",
       "            <tr>\n",
       "                        <th id=\"T_f9576_level0_row86\" class=\"row_heading level0 row86\" >date</th>\n",
       "                        <td id=\"T_f9576_row86_col0\" class=\"data row86 col0\" >0.0%</td>\n",
       "            </tr>\n",
       "    </tbody></table>"
      ],
      "text/plain": [
       "<pandas.io.formats.style.Styler at 0x7fafb7c818b0>"
      ]
     },
     "execution_count": 14,
     "metadata": {},
     "output_type": "execute_result"
    }
   ],
   "source": [
    "isna_view (full_data)"
   ]
  },
  {
   "cell_type": "markdown",
   "metadata": {},
   "source": [
    "Заполняем рядом стоящими значениями, так параметры отсортированы по времени, а значения параметров похожи на ближайшие по времени"
   ]
  },
  {
   "cell_type": "code",
   "execution_count": 15,
   "metadata": {},
   "outputs": [],
   "source": [
    "train_data = train_data.fillna(method='ffill')\n",
    "test_data = test_data.fillna(method='ffill')\n",
    "full_data = full_data.fillna(method='ffill')"
   ]
  },
  {
   "cell_type": "code",
   "execution_count": 16,
   "metadata": {},
   "outputs": [
    {
     "name": "stdout",
     "output_type": "stream",
     "text": [
      "0\n",
      "0\n",
      "0\n"
     ]
    }
   ],
   "source": [
    "print(train_data.isna().sum().sum())\n",
    "print(test_data.isna().sum().sum())\n",
    "print(full_data.isna().sum().sum())"
   ]
  },
  {
   "cell_type": "markdown",
   "metadata": {},
   "source": [
    "В ходе подготовки данных, была проверена расчетная величина эффективности обогащения; исследованы отсутсвующие в тестовом наборе данных признаки; построены гистограммы всех признаков; заполнены пропуски в данных."
   ]
  },
  {
   "cell_type": "markdown",
   "metadata": {},
   "source": [
    "## Анализ данных"
   ]
  },
  {
   "cell_type": "markdown",
   "metadata": {},
   "source": [
    "Найдем концентрации металлов на разных этапах обработки и сравним:"
   ]
  },
  {
   "cell_type": "code",
   "execution_count": 17,
   "metadata": {},
   "outputs": [],
   "source": [
    "output = [\n",
    "    'rougher.input.feed_',\n",
    "    'rougher.output.concentrate_',\n",
    "    'primary_cleaner.output.concentrate_',\n",
    "    'final.output.concentrate_'\n",
    "]"
   ]
  },
  {
   "cell_type": "code",
   "execution_count": 18,
   "metadata": {},
   "outputs": [
    {
     "name": "stdout",
     "output_type": "stream",
     "text": [
      "Средняя концентрация au\n",
      "Этап: rougher.input.feed_ 8.266097326589103\n",
      "Этап: rougher.output.concentrate_ 19.772000139486316\n",
      "Этап: primary_cleaner.output.concentrate_ 32.1194004078765\n",
      "Этап: final.output.concentrate_ 44.0765129419528\n"
     ]
    },
    {
     "data": {
      "image/png": "[encoded data removed]",
      "text/plain": [
       "<Figure size 432x288 with 1 Axes>"
      ]
     },
     "metadata": {
      "needs_background": "light"
     },
     "output_type": "display_data"
    },
    {
     "name": "stdout",
     "output_type": "stream",
     "text": [
      "Средняя концентрация ag\n",
      "Этап: rougher.input.feed_ 8.794927425814688\n",
      "Этап: rougher.output.concentrate_ 11.994759359873429\n",
      "Этап: primary_cleaner.output.concentrate_ 8.44240807771906\n",
      "Этап: final.output.concentrate_ 5.168386967510243\n"
     ]
    },
    {
     "data": {
      "image/png": "[encoded data removed]",
      "text/plain": [
       "<Figure size 432x288 with 1 Axes>"
      ]
     },
     "metadata": {
      "needs_background": "light"
     },
     "output_type": "display_data"
    },
    {
     "name": "stdout",
     "output_type": "stream",
     "text": [
      "Средняя концентрация pb\n",
      "Этап: rougher.input.feed_ 3.585095711585748\n",
      "Этап: rougher.output.concentrate_ 7.606272313195003\n",
      "Этап: primary_cleaner.output.concentrate_ 9.810316539310149\n",
      "Этап: final.output.concentrate_ 9.978821384192907\n"
     ]
    },
    {
     "data": {
      "image/png": "[encoded data removed]",
      "text/plain": [
       "<Figure size 432x288 with 1 Axes>"
      ]
     },
     "metadata": {
      "needs_background": "light"
     },
     "output_type": "display_data"
    }
   ],
   "source": [
    "for i in ['au', 'ag', 'pb']:\n",
    "    print('Средняя концентрация', i,)\n",
    "    for k in output:\n",
    "        full_data[k + i].hist(alpha=.75, legend=True)\n",
    "        print('Этап:', k, full_data[k + i].mean())\n",
    "    plt.show()"
   ]
  },
  {
   "cell_type": "markdown",
   "metadata": {},
   "source": [
    "Концентрация золота предсказуемо растет с каждым этапом обработки, концентрация серебра снижается, а концентрация свинца меняется на разных этапах в связи с технологическим процессом обработки. Все величины распределены близко к нормальному."
   ]
  },
  {
   "cell_type": "markdown",
   "metadata": {},
   "source": [
    "Сравним распределения размеров гранул сырья на обучающей и тестовой выборках:"
   ]
  },
  {
   "cell_type": "code",
   "execution_count": 19,
   "metadata": {},
   "outputs": [
    {
     "data": {
      "image/png": "[encoded data removed]",
      "text/plain": [
       "<Figure size 288x360 with 2 Axes>"
      ]
     },
     "metadata": {
      "needs_background": "light"
     },
     "output_type": "display_data"
    }
   ],
   "source": [
    "fig, axs = plt.subplots(1, 2, figsize=(4, 5), sharey=True)\n",
    "fig.suptitle('Диаграммы размаха размеров гранул сырья')\n",
    "axs[0].boxplot(train_data['rougher.input.feed_size'])\n",
    "axs[1].boxplot(test_data['rougher.input.feed_size']);"
   ]
  },
  {
   "cell_type": "markdown",
   "metadata": {},
   "source": [
    "Судя по графику данные распределены похожим образом."
   ]
  },
  {
   "cell_type": "markdown",
   "metadata": {},
   "source": [
    "Найдем и исследуем суммарные концентрации веществ:"
   ]
  },
  {
   "cell_type": "code",
   "execution_count": 20,
   "metadata": {},
   "outputs": [
    {
     "name": "stdout",
     "output_type": "stream",
     "text": [
      "rougher.input.feed_ mean 57.320789408793196\n"
     ]
    },
    {
     "data": {
      "image/png": "[encoded data removed]",
      "text/plain": [
       "<Figure size 432x288 with 1 Axes>"
      ]
     },
     "metadata": {
      "needs_background": "light"
     },
     "output_type": "display_data"
    },
    {
     "name": "stdout",
     "output_type": "stream",
     "text": [
      "rougher.output.concentrate_ mean 68.17086532768955\n"
     ]
    },
    {
     "data": {
      "image/png": "[encoded data removed]",
      "text/plain": [
       "<Figure size 432x288 with 1 Axes>"
      ]
     },
     "metadata": {
      "needs_background": "light"
     },
     "output_type": "display_data"
    },
    {
     "name": "stdout",
     "output_type": "stream",
     "text": [
      "primary_cleaner.output.concentrate_ mean 60.764731421795695\n"
     ]
    },
    {
     "data": {
      "image/png": "[encoded data removed]",
      "text/plain": [
       "<Figure size 432x288 with 1 Axes>"
      ]
     },
     "metadata": {
      "needs_background": "light"
     },
     "output_type": "display_data"
    },
    {
     "name": "stdout",
     "output_type": "stream",
     "text": [
      "final.output.concentrate_ mean 68.65362374063201\n"
     ]
    },
    {
     "data": {
      "image/png": "[encoded data removed]",
      "text/plain": [
       "<Figure size 432x288 with 1 Axes>"
      ]
     },
     "metadata": {
      "needs_background": "light"
     },
     "output_type": "display_data"
    }
   ],
   "source": [
    "conc_sum = {}\n",
    "for k in output:\n",
    "    conc_sum[k] = []\n",
    "    conc_sum[k].append(\n",
    "        (full_data[k + 'au'] + full_data[k + 'ag'] + full_data[k + 'pb'] + full_data[k + 'sol'])\n",
    "    )\n",
    "    print(k, 'mean', (\n",
    "        full_data[k + 'au'] + full_data[k + 'ag'] + full_data[k + 'pb'] + full_data[k + 'sol']\n",
    "    ).mean())\n",
    "    (\n",
    "        full_data[k + 'au'] + full_data[k + 'ag'] + full_data[k + 'pb'] + full_data[k + 'sol']\n",
    "    ).plot(kind='box')\n",
    "    plt.show()"
   ]
  },
  {
   "cell_type": "markdown",
   "metadata": {},
   "source": [
    "На диаграммах размаха видно большое количество выбросов, причем с каждым этапом они увеличиваются, а межквантильный размах уменьшается. Удалим данные с нулевой суммарной концентрацией."
   ]
  },
  {
   "cell_type": "code",
   "execution_count": 21,
   "metadata": {},
   "outputs": [
    {
     "data": {
      "text/plain": [
       "(14149, 87)"
      ]
     },
     "execution_count": 21,
     "metadata": {},
     "output_type": "execute_result"
    }
   ],
   "source": [
    "train_data.shape"
   ]
  },
  {
   "cell_type": "code",
   "execution_count": 22,
   "metadata": {},
   "outputs": [],
   "source": [
    "for k in output:\n",
    "    train_data = train_data.where(\n",
    "        train_data[k + 'au'] +\\\n",
    "        train_data[k + 'ag'] +\\\n",
    "        train_data[k + 'pb'] +\\\n",
    "        train_data[k + 'sol'] != 0\n",
    "    ).dropna()"
   ]
  },
  {
   "cell_type": "code",
   "execution_count": 23,
   "metadata": {},
   "outputs": [
    {
     "data": {
      "text/plain": [
       "(13725, 87)"
      ]
     },
     "execution_count": 23,
     "metadata": {},
     "output_type": "execute_result"
    }
   ],
   "source": [
    "train_data.shape"
   ]
  },
  {
   "cell_type": "markdown",
   "metadata": {},
   "source": [
    "Были исследованы распределения концентраций металлов на каждом этапе очистки; проверено сходство распределений размеров гранул сырья в тестовой и обучающей выборках; исследованы суммарные концентрации металлов, найдены аномалии в распределении исследованных величин, устранены эти аномалии."
   ]
  },
  {
   "cell_type": "markdown",
   "metadata": {},
   "source": [
    "## Модель"
   ]
  },
  {
   "cell_type": "markdown",
   "metadata": {},
   "source": [
    "Разбиваем выборки для обучения моделей, выделяем целевые признаки:"
   ]
  },
  {
   "cell_type": "code",
   "execution_count": 24,
   "metadata": {},
   "outputs": [],
   "source": [
    "features_rougher_train = train_data.loc[\n",
    "    :, test_data.loc[:, test_data.columns.str.contains('rougher')].columns\n",
    "].drop(\n",
    "    ['rougher.output.recovery'], axis=1\n",
    ")\n",
    "features_final_train = train_data.loc[\n",
    "    :, test_data.loc[:, test_data.columns.str.contains('rougher') == False].columns\n",
    "].drop(\n",
    "    ['date','final.output.recovery'], axis=1\n",
    ")\n",
    "target_rougher_train = train_data['rougher.output.recovery']\n",
    "target_final_train = train_data['final.output.recovery']\n",
    "features_rougher_test = test_data.loc[\n",
    "    :, test_data.loc[:, test_data.columns.str.contains('rougher')].columns\n",
    "].drop(\n",
    "    ['rougher.output.recovery'], axis=1\n",
    ")\n",
    "features_final_test = test_data.loc[\n",
    "    :, test_data.loc[:, test_data.columns.str.contains('rougher') == False].columns\n",
    "].drop(\n",
    "    ['date','final.output.recovery'], axis=1\n",
    ")\n",
    "target_rougher_test = test_data['rougher.output.recovery']\n",
    "target_final_test = test_data['final.output.recovery']"
   ]
  },
  {
   "cell_type": "markdown",
   "metadata": {},
   "source": [
    "Функция для поиска метрики sMAPE:"
   ]
  },
  {
   "cell_type": "code",
   "execution_count": 25,
   "metadata": {},
   "outputs": [],
   "source": [
    "def smape(target, pred):\n",
    "    return ((2 * abs(target - pred)/(abs(target) + abs(pred))) * 100).sum() / len(target)"
   ]
  },
  {
   "cell_type": "markdown",
   "metadata": {},
   "source": [
    "Функция для поиска итоговой sMAPE:"
   ]
  },
  {
   "cell_type": "code",
   "execution_count": 26,
   "metadata": {},
   "outputs": [],
   "source": [
    "def final_smape(smape_rougher, smape_final):\n",
    "    return smape_rougher * .25 + smape_final * .75"
   ]
  },
  {
   "cell_type": "markdown",
   "metadata": {},
   "source": [
    "Обучаем модель DecisionTreeRegressor, находим значение гиперпараметра max_depth с лучшим результатом для чернового концентрата:"
   ]
  },
  {
   "cell_type": "code",
   "execution_count": 27,
   "metadata": {},
   "outputs": [
    {
     "name": "stdout",
     "output_type": "stream",
     "text": [
      "    result\n",
      "4  7.02683\n",
      "CPU times: user 21.9 s, sys: 75.6 ms, total: 22 s\n",
      "Wall time: 22.2 s\n"
     ]
    }
   ],
   "source": [
    "%%time\n",
    "max_dep = []\n",
    "results = []\n",
    "for depth in range(1, 20):\n",
    "    rougher_model_tree = DecisionTreeRegressor(random_state=111, max_depth = depth)\n",
    "    rougher_model_tree.fit(features_rougher_train, target_rougher_train) \n",
    "    scores = cross_val_score(rougher_model_tree,\n",
    "                             features_rougher_train,\n",
    "                             target_rougher_train,\n",
    "                             scoring = make_scorer(smape),\n",
    "                             cv = 5)\n",
    "    max_dep.append(depth)\n",
    "    results.append(scores.mean())\n",
    "res = pd.DataFrame(results, index=max_dep)\n",
    "res.columns = ['result']\n",
    "print(res.query('result == @res[\"result\"].min()'))\n",
    "smape_rougher_tree = res.query('result == @res[\"result\"].min()')"
   ]
  },
  {
   "cell_type": "markdown",
   "metadata": {},
   "source": [
    "Обучаем модель DecisionTreeRegressor, находим значение гиперпараметра max_depth с лучшим результатом для итоговой очистки:"
   ]
  },
  {
   "cell_type": "code",
   "execution_count": 28,
   "metadata": {},
   "outputs": [
    {
     "name": "stdout",
     "output_type": "stream",
     "text": [
      "      result\n",
      "1  10.105908\n",
      "CPU times: user 30.3 s, sys: 30.7 ms, total: 30.3 s\n",
      "Wall time: 30.6 s\n"
     ]
    }
   ],
   "source": [
    "%%time\n",
    "max_dep = []\n",
    "results = []\n",
    "for depth in range(1, 20):\n",
    "    final_model_tree = DecisionTreeRegressor(random_state=111, max_depth = depth)\n",
    "    final_model_tree.fit(features_final_train, target_final_train) \n",
    "    scores = cross_val_score(final_model_tree,\n",
    "                             features_final_train,\n",
    "                             target_final_train,\n",
    "                             scoring = make_scorer(smape),\n",
    "                             cv = 5)\n",
    "    max_dep.append(depth)\n",
    "    results.append(scores.mean())\n",
    "res = pd.DataFrame(results, index=max_dep)\n",
    "res.columns = ['result']\n",
    "print(res.query('result == @res[\"result\"].min()'))\n",
    "smape_final_tree = res.query('result == @res[\"result\"].min()')"
   ]
  },
  {
   "cell_type": "markdown",
   "metadata": {},
   "source": [
    "Итоговая sMAPE:"
   ]
  },
  {
   "cell_type": "code",
   "execution_count": 29,
   "metadata": {},
   "outputs": [
    {
     "data": {
      "text/plain": [
       "array([[9.33613862]])"
      ]
     },
     "execution_count": 29,
     "metadata": {},
     "output_type": "execute_result"
    }
   ],
   "source": [
    "final_smape(smape_rougher_tree.values, smape_final_tree.values)"
   ]
  },
  {
   "cell_type": "markdown",
   "metadata": {},
   "source": [
    "Обучаем модель RandomForestRegressor, находим значение гиперпараметра max_depth с лучшим результатом для чернового концентрата:"
   ]
  },
  {
   "cell_type": "code",
   "execution_count": 30,
   "metadata": {},
   "outputs": [
    {
     "name": "stdout",
     "output_type": "stream",
     "text": [
      "CPU times: user 6min 51s, sys: 1.37 s, total: 6min 52s\n",
      "Wall time: 6min 53s\n"
     ]
    }
   ],
   "source": [
    "%%time\n",
    "n_est = []\n",
    "dep = []\n",
    "results = []\n",
    "for est in range(119, 121):\n",
    "    for depth in range(19, 21):\n",
    "        rougher_model_for = RandomForestRegressor(random_state=111, max_depth=depth, n_estimators=est)\n",
    "        rougher_model_tree.fit(features_rougher_train, target_rougher_train) \n",
    "        smape_rougher_for = cross_val_score(\n",
    "            rougher_model_for,  \n",
    "            features_rougher_train, \n",
    "            target_rougher_train, \n",
    "            scoring = make_scorer(smape),\n",
    "            cv = 5\n",
    "        )\n",
    "        dep.append(depth)\n",
    "        n_est.append(est)\n",
    "        results.append(smape_rougher_for.mean())\n"
   ]
  },
  {
   "cell_type": "code",
   "execution_count": 32,
   "metadata": {},
   "outputs": [
    {
     "data": {
      "text/html": [
       "<div>\n",
       "<style scoped>\n",
       "    .dataframe tbody tr th:only-of-type {\n",
       "        vertical-align: middle;\n",
       "    }\n",
       "\n",
       "    .dataframe tbody tr th {\n",
       "        vertical-align: top;\n",
       "    }\n",
       "\n",
       "    .dataframe thead th {\n",
       "        text-align: right;\n",
       "    }\n",
       "</style>\n",
       "<table border=\"1\" class=\"dataframe\">\n",
       "  <thead>\n",
       "    <tr style=\"text-align: right;\">\n",
       "      <th></th>\n",
       "      <th>max_depth</th>\n",
       "      <th>results</th>\n",
       "    </tr>\n",
       "  </thead>\n",
       "  <tbody>\n",
       "    <tr>\n",
       "      <th>119</th>\n",
       "      <td>19</td>\n",
       "      <td>6.783000</td>\n",
       "    </tr>\n",
       "    <tr>\n",
       "      <th>120</th>\n",
       "      <td>19</td>\n",
       "      <td>6.783745</td>\n",
       "    </tr>\n",
       "    <tr>\n",
       "      <th>119</th>\n",
       "      <td>20</td>\n",
       "      <td>6.790700</td>\n",
       "    </tr>\n",
       "    <tr>\n",
       "      <th>120</th>\n",
       "      <td>20</td>\n",
       "      <td>6.793873</td>\n",
       "    </tr>\n",
       "  </tbody>\n",
       "</table>\n",
       "</div>"
      ],
      "text/plain": [
       "     max_depth   results\n",
       "119         19  6.783000\n",
       "120         19  6.783745\n",
       "119         20  6.790700\n",
       "120         20  6.793873"
      ]
     },
     "execution_count": 32,
     "metadata": {},
     "output_type": "execute_result"
    }
   ],
   "source": [
    "res = pd.DataFrame(dep, n_est)\n",
    "res.columns = ['max_depth']\n",
    "res['results'] = results\n",
    "res.sort_values('results').head(10)"
   ]
  },
  {
   "cell_type": "markdown",
   "metadata": {},
   "source": [
    "Обучаем модель RandomForestRegressor, находим значение гиперпараметра max_depth с лучшим результатом для итоговой очистки:"
   ]
  },
  {
   "cell_type": "code",
   "execution_count": 33,
   "metadata": {},
   "outputs": [
    {
     "name": "stdout",
     "output_type": "stream",
     "text": [
      "CPU times: user 1min 9s, sys: 260 ms, total: 1min 9s\n",
      "Wall time: 1min 9s\n"
     ]
    }
   ],
   "source": [
    "%%time\n",
    "n_est = []\n",
    "dep = []\n",
    "results = []\n",
    "for est in range(70, 71):\n",
    "    for depth in range(1, 5):\n",
    "        final_model_for = RandomForestRegressor(random_state=111, max_depth=depth, n_estimators=est)\n",
    "        final_model_tree.fit(features_final_train, target_final_train) \n",
    "        smape_final_for = cross_val_score(\n",
    "            final_model_for,  \n",
    "            features_final_train, \n",
    "            target_final_train, \n",
    "            scoring = make_scorer(smape),\n",
    "            cv = 5\n",
    "        )\n",
    "        dep.append(depth)\n",
    "        n_est.append(est)\n",
    "        results.append(smape_final_for.mean())\n"
   ]
  },
  {
   "cell_type": "code",
   "execution_count": 34,
   "metadata": {},
   "outputs": [
    {
     "data": {
      "text/html": [
       "<div>\n",
       "<style scoped>\n",
       "    .dataframe tbody tr th:only-of-type {\n",
       "        vertical-align: middle;\n",
       "    }\n",
       "\n",
       "    .dataframe tbody tr th {\n",
       "        vertical-align: top;\n",
       "    }\n",
       "\n",
       "    .dataframe thead th {\n",
       "        text-align: right;\n",
       "    }\n",
       "</style>\n",
       "<table border=\"1\" class=\"dataframe\">\n",
       "  <thead>\n",
       "    <tr style=\"text-align: right;\">\n",
       "      <th></th>\n",
       "      <th>max_depth</th>\n",
       "      <th>results</th>\n",
       "    </tr>\n",
       "  </thead>\n",
       "  <tbody>\n",
       "    <tr>\n",
       "      <th>70</th>\n",
       "      <td>1</td>\n",
       "      <td>9.957452</td>\n",
       "    </tr>\n",
       "    <tr>\n",
       "      <th>70</th>\n",
       "      <td>2</td>\n",
       "      <td>10.059994</td>\n",
       "    </tr>\n",
       "    <tr>\n",
       "      <th>70</th>\n",
       "      <td>3</td>\n",
       "      <td>10.634679</td>\n",
       "    </tr>\n",
       "    <tr>\n",
       "      <th>70</th>\n",
       "      <td>4</td>\n",
       "      <td>11.524895</td>\n",
       "    </tr>\n",
       "  </tbody>\n",
       "</table>\n",
       "</div>"
      ],
      "text/plain": [
       "    max_depth    results\n",
       "70          1   9.957452\n",
       "70          2  10.059994\n",
       "70          3  10.634679\n",
       "70          4  11.524895"
      ]
     },
     "execution_count": 34,
     "metadata": {},
     "output_type": "execute_result"
    }
   ],
   "source": [
    "res = pd.DataFrame(dep, n_est)\n",
    "res.columns = ['max_depth']\n",
    "res['results'] = results\n",
    "res.sort_values('results').head(10)"
   ]
  },
  {
   "cell_type": "markdown",
   "metadata": {},
   "source": [
    "Итоговая sMAPE:"
   ]
  },
  {
   "cell_type": "code",
   "execution_count": 35,
   "metadata": {},
   "outputs": [
    {
     "data": {
      "text/plain": [
       "9.163839"
      ]
     },
     "execution_count": 35,
     "metadata": {},
     "output_type": "execute_result"
    }
   ],
   "source": [
    "final_smape(6.783000, 9.957452)"
   ]
  },
  {
   "cell_type": "markdown",
   "metadata": {},
   "source": [
    "Обучаем модель линейной регрессии, находим sMAPE на каждом этапе и итоговую sMAPE:"
   ]
  },
  {
   "cell_type": "code",
   "execution_count": 36,
   "metadata": {},
   "outputs": [
    {
     "data": {
      "text/plain": [
       "6.677118661212704"
      ]
     },
     "execution_count": 36,
     "metadata": {},
     "output_type": "execute_result"
    }
   ],
   "source": [
    "rougher_model_lin = LinearRegression()\n",
    "smape_rougher_lin = cross_val_score(\n",
    "    rougher_model_lin,  \n",
    "    features_rougher_train, \n",
    "    target_rougher_train, \n",
    "    scoring = make_scorer(smape),\n",
    "    cv = 5\n",
    ").mean()\n",
    "smape_rougher_lin"
   ]
  },
  {
   "cell_type": "code",
   "execution_count": 37,
   "metadata": {},
   "outputs": [
    {
     "data": {
      "text/plain": [
       "9.743932629320536"
      ]
     },
     "execution_count": 37,
     "metadata": {},
     "output_type": "execute_result"
    }
   ],
   "source": [
    "final_model_lin = LinearRegression()\n",
    "smape_final_lin = cross_val_score(\n",
    "    final_model_lin,  \n",
    "    features_final_train, \n",
    "    target_final_train, \n",
    "    scoring = make_scorer(smape),\n",
    "    cv = 5\n",
    ").mean()\n",
    "smape_final_lin"
   ]
  },
  {
   "cell_type": "code",
   "execution_count": 38,
   "metadata": {
    "scrolled": true
   },
   "outputs": [
    {
     "data": {
      "text/plain": [
       "8.977229137293579"
      ]
     },
     "execution_count": 38,
     "metadata": {},
     "output_type": "execute_result"
    }
   ],
   "source": [
    "final_smape(smape_rougher_lin, smape_final_lin)"
   ]
  },
  {
   "cell_type": "markdown",
   "metadata": {},
   "source": [
    "Лучший результат показала модель LinearRegression. Проведем ее тестирование:"
   ]
  },
  {
   "cell_type": "code",
   "execution_count": 39,
   "metadata": {},
   "outputs": [
    {
     "data": {
      "text/plain": [
       "8.186021907563676"
      ]
     },
     "execution_count": 39,
     "metadata": {},
     "output_type": "execute_result"
    }
   ],
   "source": [
    "rougher_model = LinearRegression()\n",
    "rougher_model.fit(features_rougher_train, target_rougher_train)\n",
    "rougher_predict = rougher_model.predict(features_rougher_test)\n",
    "smape_rougher = smape(target_rougher_test, rougher_predict)\n",
    "smape_rougher"
   ]
  },
  {
   "cell_type": "code",
   "execution_count": 40,
   "metadata": {},
   "outputs": [
    {
     "data": {
      "text/plain": [
       "9.68605533917814"
      ]
     },
     "execution_count": 40,
     "metadata": {},
     "output_type": "execute_result"
    }
   ],
   "source": [
    "final_model = LinearRegression()\n",
    "final_model.fit(features_final_train, target_final_train)\n",
    "final_predict = final_model.predict(features_final_test)\n",
    "smape_final = smape(target_final_test, final_predict)\n",
    "smape_final"
   ]
  },
  {
   "cell_type": "code",
   "execution_count": 41,
   "metadata": {
    "scrolled": true
   },
   "outputs": [
    {
     "data": {
      "text/plain": [
       "9.311046981274524"
      ]
     },
     "execution_count": 41,
     "metadata": {},
     "output_type": "execute_result"
    }
   ],
   "source": [
    "final_smape(smape_rougher, smape_final)"
   ]
  },
  {
   "cell_type": "markdown",
   "metadata": {},
   "source": [
    "Результат на тестовой выборке: sMAPE = 9.311"
   ]
  },
  {
   "cell_type": "markdown",
   "metadata": {},
   "source": [
    "Проверяем модель на адекватность: создаем константную модель со средними значениями:"
   ]
  },
  {
   "cell_type": "code",
   "execution_count": 34,
   "metadata": {},
   "outputs": [
    {
     "data": {
      "text/plain": [
       "9.06436059215427"
      ]
     },
     "execution_count": 34,
     "metadata": {},
     "output_type": "execute_result"
    }
   ],
   "source": [
    "dum_reg = DummyRegressor(strategy=\"mean\")\n",
    "dum_reg.fit(features_rougher_train, target_rougher_train)\n",
    "rougher_mean_predict = dum_reg.predict(features_rougher_test)\n",
    "smape_rougher_mean = smape(target_rougher_test, rougher_mean_predict)\n",
    "smape_rougher_mean"
   ]
  },
  {
   "cell_type": "code",
   "execution_count": 35,
   "metadata": {},
   "outputs": [
    {
     "data": {
      "text/plain": [
       "10.086634972028312"
      ]
     },
     "execution_count": 35,
     "metadata": {},
     "output_type": "execute_result"
    }
   ],
   "source": [
    "dum_reg = DummyRegressor(strategy=\"mean\")\n",
    "dum_reg.fit(features_final_train, target_final_train)\n",
    "final_mean_predict = dum_reg.predict(features_final_test)\n",
    "smape_final_mean = smape(target_final_test, final_mean_predict)\n",
    "smape_final_mean"
   ]
  },
  {
   "cell_type": "code",
   "execution_count": 36,
   "metadata": {},
   "outputs": [
    {
     "data": {
      "text/plain": [
       "9.831066377059802"
      ]
     },
     "execution_count": 36,
     "metadata": {},
     "output_type": "execute_result"
    }
   ],
   "source": [
    "final_smape(smape_rougher_mean, smape_final_mean)"
   ]
  },
  {
   "cell_type": "markdown",
   "metadata": {},
   "source": [
    "sMAPE константной модели выше. Модель прошла проверку на адекватность"
   ]
  },
  {
   "cell_type": "markdown",
   "metadata": {},
   "source": [
    "В ходе проекта была найдена лучшая модель для предсказания эффективности обогащения руды золотом, проведено тестирование модели. Для этого был обработан и исследован исходный датасет, заполнены пропуски, удалены аномалии.Результат тестирования: итоговая sMAPE: 9.311."
   ]
  },
  {
   "cell_type": "markdown",
   "metadata": {},
   "source": []
  }
 ],
 "metadata": {
  "ExecuteTimeLog": [
   {
    "duration": 322,
    "start_time": "2023-02-09T10:28:07.412Z"
   },
   {
    "duration": 343,
    "start_time": "2023-02-09T10:28:34.039Z"
   },
   {
    "duration": 478,
    "start_time": "2023-02-09T10:42:49.075Z"
   },
   {
    "duration": 92,
    "start_time": "2023-02-09T10:42:54.687Z"
   },
   {
    "duration": 208,
    "start_time": "2023-02-09T10:43:21.846Z"
   },
   {
    "duration": 88,
    "start_time": "2023-02-09T10:43:24.475Z"
   },
   {
    "duration": 109,
    "start_time": "2023-02-09T10:43:42.636Z"
   },
   {
    "duration": 127,
    "start_time": "2023-02-09T10:43:57.474Z"
   },
   {
    "duration": 93,
    "start_time": "2023-02-09T10:44:05.328Z"
   },
   {
    "duration": 108,
    "start_time": "2023-02-09T10:44:10.145Z"
   },
   {
    "duration": 96,
    "start_time": "2023-02-09T10:44:17.885Z"
   },
   {
    "duration": 94,
    "start_time": "2023-02-09T10:44:40.070Z"
   },
   {
    "duration": 92,
    "start_time": "2023-02-09T10:44:53.477Z"
   },
   {
    "duration": 9,
    "start_time": "2023-02-09T10:46:33.476Z"
   },
   {
    "duration": 9,
    "start_time": "2023-02-09T10:47:14.871Z"
   },
   {
    "duration": 9,
    "start_time": "2023-02-09T10:47:21.735Z"
   },
   {
    "duration": 4,
    "start_time": "2023-02-09T10:47:31.233Z"
   },
   {
    "duration": 9,
    "start_time": "2023-02-09T10:47:33.870Z"
   },
   {
    "duration": 12,
    "start_time": "2023-02-09T10:48:04.670Z"
   },
   {
    "duration": 4,
    "start_time": "2023-02-09T11:15:21.334Z"
   },
   {
    "duration": 677,
    "start_time": "2023-02-09T11:15:22.002Z"
   },
   {
    "duration": 17,
    "start_time": "2023-02-09T11:15:38.292Z"
   },
   {
    "duration": 13,
    "start_time": "2023-02-09T11:15:47.469Z"
   },
   {
    "duration": 18,
    "start_time": "2023-02-09T11:15:55.454Z"
   },
   {
    "duration": 81,
    "start_time": "2023-02-09T11:25:00.416Z"
   },
   {
    "duration": 9,
    "start_time": "2023-02-09T11:25:07.117Z"
   },
   {
    "duration": 5,
    "start_time": "2023-02-09T11:25:32.154Z"
   },
   {
    "duration": 8,
    "start_time": "2023-02-09T11:27:04.795Z"
   },
   {
    "duration": 45,
    "start_time": "2023-02-09T11:27:14.964Z"
   },
   {
    "duration": 9,
    "start_time": "2023-02-09T11:27:17.326Z"
   },
   {
    "duration": 5,
    "start_time": "2023-02-09T11:29:34.354Z"
   },
   {
    "duration": 6,
    "start_time": "2023-02-09T11:29:38.775Z"
   },
   {
    "duration": 6,
    "start_time": "2023-02-09T11:30:09.378Z"
   },
   {
    "duration": 5,
    "start_time": "2023-02-09T11:31:45.048Z"
   },
   {
    "duration": 7,
    "start_time": "2023-02-09T11:31:59.567Z"
   },
   {
    "duration": 15,
    "start_time": "2023-02-09T11:32:36.458Z"
   },
   {
    "duration": 6,
    "start_time": "2023-02-09T11:33:05.006Z"
   },
   {
    "duration": 7,
    "start_time": "2023-02-09T11:33:15.506Z"
   },
   {
    "duration": 20,
    "start_time": "2023-02-09T11:34:34.452Z"
   },
   {
    "duration": 14,
    "start_time": "2023-02-09T11:34:42.126Z"
   },
   {
    "duration": 6,
    "start_time": "2023-02-09T11:37:27.978Z"
   },
   {
    "duration": 7,
    "start_time": "2023-02-09T11:37:48.897Z"
   },
   {
    "duration": 6,
    "start_time": "2023-02-09T11:38:06.300Z"
   },
   {
    "duration": 8,
    "start_time": "2023-02-09T11:38:55.018Z"
   },
   {
    "duration": 7,
    "start_time": "2023-02-09T11:39:08.627Z"
   },
   {
    "duration": 5,
    "start_time": "2023-02-09T12:08:58.257Z"
   },
   {
    "duration": 5,
    "start_time": "2023-02-09T12:09:21.886Z"
   },
   {
    "duration": 4,
    "start_time": "2023-02-09T12:09:25.924Z"
   },
   {
    "duration": 26,
    "start_time": "2023-02-09T12:10:06.647Z"
   },
   {
    "duration": 25,
    "start_time": "2023-02-09T12:10:30.409Z"
   },
   {
    "duration": 65,
    "start_time": "2023-02-09T12:19:03.365Z"
   },
   {
    "duration": 31,
    "start_time": "2023-02-09T12:20:26.385Z"
   },
   {
    "duration": 27,
    "start_time": "2023-02-09T12:21:05.775Z"
   },
   {
    "duration": 23,
    "start_time": "2023-02-09T12:21:12.365Z"
   },
   {
    "duration": 32,
    "start_time": "2023-02-09T12:21:16.426Z"
   },
   {
    "duration": 22,
    "start_time": "2023-02-09T12:21:19.455Z"
   },
   {
    "duration": 21,
    "start_time": "2023-02-09T12:24:54.528Z"
   },
   {
    "duration": 18,
    "start_time": "2023-02-09T12:25:00.276Z"
   },
   {
    "duration": 20,
    "start_time": "2023-02-09T12:25:24.776Z"
   },
   {
    "duration": 21,
    "start_time": "2023-02-09T12:25:47.827Z"
   },
   {
    "duration": 24,
    "start_time": "2023-02-09T12:25:58.694Z"
   },
   {
    "duration": 27,
    "start_time": "2023-02-09T12:26:03.563Z"
   },
   {
    "duration": 20,
    "start_time": "2023-02-09T12:26:16.638Z"
   },
   {
    "duration": 26,
    "start_time": "2023-02-09T12:28:13.406Z"
   },
   {
    "duration": 7,
    "start_time": "2023-02-09T12:28:24.161Z"
   },
   {
    "duration": 6,
    "start_time": "2023-02-09T12:28:40.663Z"
   },
   {
    "duration": 7,
    "start_time": "2023-02-09T12:28:50.503Z"
   },
   {
    "duration": 8,
    "start_time": "2023-02-09T12:29:06.477Z"
   },
   {
    "duration": 19,
    "start_time": "2023-02-09T12:29:34.860Z"
   },
   {
    "duration": 29,
    "start_time": "2023-02-09T12:29:44.637Z"
   },
   {
    "duration": 11,
    "start_time": "2023-02-09T12:30:00.188Z"
   },
   {
    "duration": 9,
    "start_time": "2023-02-09T12:30:23.962Z"
   },
   {
    "duration": 8,
    "start_time": "2023-02-09T12:30:40.726Z"
   },
   {
    "duration": 6,
    "start_time": "2023-02-09T12:31:00.136Z"
   },
   {
    "duration": 9,
    "start_time": "2023-02-09T12:31:22.137Z"
   },
   {
    "duration": 8,
    "start_time": "2023-02-09T12:31:26.003Z"
   },
   {
    "duration": 7,
    "start_time": "2023-02-09T12:31:26.565Z"
   },
   {
    "duration": 8,
    "start_time": "2023-02-09T12:31:26.985Z"
   },
   {
    "duration": 7,
    "start_time": "2023-02-09T12:31:38.865Z"
   },
   {
    "duration": 6,
    "start_time": "2023-02-09T12:31:43.020Z"
   },
   {
    "duration": 8,
    "start_time": "2023-02-09T12:32:05.235Z"
   },
   {
    "duration": 8,
    "start_time": "2023-02-09T12:32:10.976Z"
   },
   {
    "duration": 10,
    "start_time": "2023-02-09T12:32:18.897Z"
   },
   {
    "duration": 6768,
    "start_time": "2023-02-09T12:42:38.147Z"
   },
   {
    "duration": 7472,
    "start_time": "2023-02-09T12:43:29.497Z"
   },
   {
    "duration": 0,
    "start_time": "2023-02-09T12:45:23.873Z"
   },
   {
    "duration": 1476,
    "start_time": "2023-02-09T12:46:31.058Z"
   },
   {
    "duration": 752,
    "start_time": "2023-02-09T12:46:32.537Z"
   },
   {
    "duration": 24,
    "start_time": "2023-02-09T12:46:33.293Z"
   },
   {
    "duration": 14,
    "start_time": "2023-02-09T12:46:33.319Z"
   },
   {
    "duration": 19,
    "start_time": "2023-02-09T12:46:33.335Z"
   },
   {
    "duration": 42,
    "start_time": "2023-02-09T12:46:33.357Z"
   },
   {
    "duration": 118,
    "start_time": "2023-02-09T12:46:33.400Z"
   },
   {
    "duration": 8,
    "start_time": "2023-02-09T12:46:33.520Z"
   },
   {
    "duration": 41,
    "start_time": "2023-02-09T12:46:33.530Z"
   },
   {
    "duration": 7,
    "start_time": "2023-02-09T12:46:33.574Z"
   },
   {
    "duration": 89,
    "start_time": "2023-02-09T12:46:33.583Z"
   },
   {
    "duration": 1553,
    "start_time": "2023-02-09T12:47:11.114Z"
   },
   {
    "duration": 765,
    "start_time": "2023-02-09T12:47:15.519Z"
   },
   {
    "duration": 21,
    "start_time": "2023-02-09T12:47:16.288Z"
   },
   {
    "duration": 24,
    "start_time": "2023-02-09T12:47:16.311Z"
   },
   {
    "duration": 29,
    "start_time": "2023-02-09T12:47:16.338Z"
   },
   {
    "duration": 23,
    "start_time": "2023-02-09T12:47:16.369Z"
   },
   {
    "duration": 5,
    "start_time": "2023-02-09T12:47:16.759Z"
   },
   {
    "duration": 5,
    "start_time": "2023-02-09T12:47:18.151Z"
   },
   {
    "duration": 29,
    "start_time": "2023-02-09T12:47:18.554Z"
   },
   {
    "duration": 172,
    "start_time": "2023-02-09T12:47:20.664Z"
   },
   {
    "duration": 156,
    "start_time": "2023-02-09T12:47:24.214Z"
   },
   {
    "duration": 159,
    "start_time": "2023-02-09T12:47:27.320Z"
   },
   {
    "duration": 195,
    "start_time": "2023-02-09T12:48:13.527Z"
   },
   {
    "duration": 189,
    "start_time": "2023-02-09T12:48:20.429Z"
   },
   {
    "duration": 178,
    "start_time": "2023-02-09T12:48:22.761Z"
   },
   {
    "duration": 335,
    "start_time": "2023-02-09T12:48:29.128Z"
   },
   {
    "duration": 4,
    "start_time": "2023-02-09T12:48:54.270Z"
   },
   {
    "duration": 126,
    "start_time": "2023-02-09T12:49:31.868Z"
   },
   {
    "duration": 5,
    "start_time": "2023-02-09T12:50:22.017Z"
   },
   {
    "duration": 5,
    "start_time": "2023-02-09T12:50:34.559Z"
   },
   {
    "duration": 5,
    "start_time": "2023-02-09T12:54:14.429Z"
   },
   {
    "duration": 4,
    "start_time": "2023-02-09T12:54:19.561Z"
   },
   {
    "duration": 4,
    "start_time": "2023-02-09T12:54:26.581Z"
   },
   {
    "duration": 4,
    "start_time": "2023-02-09T12:54:29.589Z"
   },
   {
    "duration": 144,
    "start_time": "2023-02-09T12:54:52.509Z"
   },
   {
    "duration": 9,
    "start_time": "2023-02-09T12:54:58.529Z"
   },
   {
    "duration": 3,
    "start_time": "2023-02-09T12:55:08.943Z"
   },
   {
    "duration": 12,
    "start_time": "2023-02-09T12:55:24.488Z"
   },
   {
    "duration": 4,
    "start_time": "2023-02-09T12:55:31.295Z"
   },
   {
    "duration": 7,
    "start_time": "2023-02-09T12:55:37.449Z"
   },
   {
    "duration": 5,
    "start_time": "2023-02-09T12:55:53.069Z"
   },
   {
    "duration": 10,
    "start_time": "2023-02-09T12:56:00.837Z"
   },
   {
    "duration": 6,
    "start_time": "2023-02-09T12:56:06.052Z"
   },
   {
    "duration": 18,
    "start_time": "2023-02-09T12:56:13.109Z"
   },
   {
    "duration": 705,
    "start_time": "2023-02-09T12:56:21.103Z"
   },
   {
    "duration": 703,
    "start_time": "2023-02-09T12:56:29.409Z"
   },
   {
    "duration": 4,
    "start_time": "2023-02-09T12:59:11.857Z"
   },
   {
    "duration": 14,
    "start_time": "2023-02-09T12:59:30.093Z"
   },
   {
    "duration": 11,
    "start_time": "2023-02-09T12:59:43.243Z"
   },
   {
    "duration": 5,
    "start_time": "2023-02-09T12:59:59.709Z"
   },
   {
    "duration": 5,
    "start_time": "2023-02-09T13:00:09.803Z"
   },
   {
    "duration": 34,
    "start_time": "2023-02-09T13:00:17.804Z"
   },
   {
    "duration": 2778,
    "start_time": "2023-02-09T13:00:25.479Z"
   },
   {
    "duration": 10,
    "start_time": "2023-02-09T13:02:37.983Z"
   },
   {
    "duration": 8,
    "start_time": "2023-02-09T13:03:09.357Z"
   },
   {
    "duration": 4,
    "start_time": "2023-02-09T13:03:37.181Z"
   },
   {
    "duration": 4,
    "start_time": "2023-02-09T13:03:46.451Z"
   },
   {
    "duration": 8,
    "start_time": "2023-02-09T13:04:24.380Z"
   },
   {
    "duration": 5,
    "start_time": "2023-02-09T13:04:27.889Z"
   },
   {
    "duration": 6,
    "start_time": "2023-02-09T13:04:33.835Z"
   },
   {
    "duration": 5,
    "start_time": "2023-02-09T13:04:36.621Z"
   },
   {
    "duration": 5,
    "start_time": "2023-02-09T13:04:40.808Z"
   },
   {
    "duration": 5,
    "start_time": "2023-02-09T13:04:52.271Z"
   },
   {
    "duration": 6,
    "start_time": "2023-02-09T13:05:02.480Z"
   },
   {
    "duration": 13,
    "start_time": "2023-02-09T13:05:51.529Z"
   },
   {
    "duration": 11,
    "start_time": "2023-02-09T13:06:00.112Z"
   },
   {
    "duration": 78,
    "start_time": "2023-02-09T13:06:31.604Z"
   },
   {
    "duration": 68,
    "start_time": "2023-02-09T13:06:39.669Z"
   },
   {
    "duration": 13,
    "start_time": "2023-02-09T13:08:03.850Z"
   },
   {
    "duration": 4,
    "start_time": "2023-02-09T13:08:30.712Z"
   },
   {
    "duration": 9,
    "start_time": "2023-02-09T13:08:35.609Z"
   },
   {
    "duration": 13,
    "start_time": "2023-02-09T13:08:39.490Z"
   },
   {
    "duration": 5,
    "start_time": "2023-02-09T13:08:51.749Z"
   },
   {
    "duration": 1195,
    "start_time": "2023-02-09T13:09:37.470Z"
   },
   {
    "duration": 5,
    "start_time": "2023-02-09T13:10:00.209Z"
   },
   {
    "duration": 5,
    "start_time": "2023-02-09T13:10:09.656Z"
   },
   {
    "duration": 5,
    "start_time": "2023-02-09T13:10:12.562Z"
   },
   {
    "duration": 5,
    "start_time": "2023-02-09T13:10:15.421Z"
   },
   {
    "duration": 13,
    "start_time": "2023-02-09T13:10:18.891Z"
   },
   {
    "duration": 5,
    "start_time": "2023-02-09T13:10:22.766Z"
   },
   {
    "duration": 12,
    "start_time": "2023-02-09T13:10:31.991Z"
   },
   {
    "duration": 5,
    "start_time": "2023-02-09T13:10:43.327Z"
   },
   {
    "duration": 4,
    "start_time": "2023-02-09T13:11:11.982Z"
   },
   {
    "duration": 6,
    "start_time": "2023-02-09T13:11:22.319Z"
   },
   {
    "duration": 12,
    "start_time": "2023-02-09T13:12:04.155Z"
   },
   {
    "duration": 7,
    "start_time": "2023-02-09T13:12:08.108Z"
   },
   {
    "duration": 5,
    "start_time": "2023-02-09T13:12:12.782Z"
   },
   {
    "duration": 3,
    "start_time": "2023-02-09T13:12:50.229Z"
   },
   {
    "duration": 5,
    "start_time": "2023-02-09T13:12:59.579Z"
   },
   {
    "duration": 5,
    "start_time": "2023-02-09T13:13:01.756Z"
   },
   {
    "duration": 5,
    "start_time": "2023-02-09T13:13:04.809Z"
   },
   {
    "duration": 4,
    "start_time": "2023-02-09T13:13:39.164Z"
   },
   {
    "duration": 4,
    "start_time": "2023-02-09T13:14:02.603Z"
   },
   {
    "duration": 10,
    "start_time": "2023-02-09T13:14:11.972Z"
   },
   {
    "duration": 26,
    "start_time": "2023-02-09T13:14:16.317Z"
   },
   {
    "duration": 56,
    "start_time": "2023-02-09T13:14:45.877Z"
   },
   {
    "duration": 859,
    "start_time": "2023-02-09T13:14:47.759Z"
   },
   {
    "duration": 11,
    "start_time": "2023-02-09T13:14:57.637Z"
   },
   {
    "duration": 41,
    "start_time": "2023-02-09T13:15:01.469Z"
   },
   {
    "duration": 53,
    "start_time": "2023-02-09T13:16:25.275Z"
   },
   {
    "duration": 24,
    "start_time": "2023-02-09T13:16:33.628Z"
   },
   {
    "duration": 15,
    "start_time": "2023-02-09T13:16:53.662Z"
   },
   {
    "duration": 950,
    "start_time": "2023-02-09T13:18:02.316Z"
   },
   {
    "duration": 814,
    "start_time": "2023-02-09T13:18:20.515Z"
   },
   {
    "duration": 31,
    "start_time": "2023-02-09T13:18:29.566Z"
   },
   {
    "duration": 63,
    "start_time": "2023-02-09T13:19:40.006Z"
   },
   {
    "duration": 3,
    "start_time": "2023-02-09T13:19:48.258Z"
   },
   {
    "duration": 3,
    "start_time": "2023-02-09T13:19:51.897Z"
   },
   {
    "duration": 4,
    "start_time": "2023-02-09T13:19:55.135Z"
   },
   {
    "duration": 47,
    "start_time": "2023-02-09T13:20:11.935Z"
   },
   {
    "duration": 14,
    "start_time": "2023-02-09T13:20:54.696Z"
   },
   {
    "duration": 5,
    "start_time": "2023-02-09T13:21:36.394Z"
   },
   {
    "duration": 12,
    "start_time": "2023-02-09T13:22:02.935Z"
   },
   {
    "duration": 7,
    "start_time": "2023-02-09T13:22:13.867Z"
   },
   {
    "duration": 11,
    "start_time": "2023-02-09T13:22:18.782Z"
   },
   {
    "duration": 6,
    "start_time": "2023-02-09T13:22:24.136Z"
   },
   {
    "duration": 5,
    "start_time": "2023-02-09T13:22:33.984Z"
   },
   {
    "duration": 6,
    "start_time": "2023-02-09T13:22:44.814Z"
   },
   {
    "duration": 5,
    "start_time": "2023-02-09T13:22:47.445Z"
   },
   {
    "duration": 12,
    "start_time": "2023-02-09T13:23:24.575Z"
   },
   {
    "duration": 12,
    "start_time": "2023-02-09T13:23:37.895Z"
   },
   {
    "duration": 13,
    "start_time": "2023-02-09T13:24:43.506Z"
   },
   {
    "duration": 14,
    "start_time": "2023-02-09T13:24:50.459Z"
   },
   {
    "duration": 8,
    "start_time": "2023-02-09T13:24:53.854Z"
   },
   {
    "duration": 14,
    "start_time": "2023-02-09T13:25:04.086Z"
   },
   {
    "duration": 355,
    "start_time": "2023-02-09T13:25:19.065Z"
   },
   {
    "duration": 673,
    "start_time": "2023-02-09T13:25:23.924Z"
   },
   {
    "duration": 1038,
    "start_time": "2023-02-09T13:25:27.596Z"
   },
   {
    "duration": 643,
    "start_time": "2023-02-09T13:25:34.534Z"
   },
   {
    "duration": 655,
    "start_time": "2023-02-09T13:25:37.434Z"
   },
   {
    "duration": 629,
    "start_time": "2023-02-09T13:25:47.502Z"
   },
   {
    "duration": 6,
    "start_time": "2023-02-09T13:34:36.726Z"
   },
   {
    "duration": 18,
    "start_time": "2023-02-09T13:34:47.243Z"
   },
   {
    "duration": 8,
    "start_time": "2023-02-09T13:35:52.536Z"
   },
   {
    "duration": 8,
    "start_time": "2023-02-09T13:35:58.934Z"
   },
   {
    "duration": 18,
    "start_time": "2023-02-09T13:36:06.033Z"
   },
   {
    "duration": 51,
    "start_time": "2023-02-09T13:36:49.183Z"
   },
   {
    "duration": 48,
    "start_time": "2023-02-09T13:36:53.444Z"
   },
   {
    "duration": 5,
    "start_time": "2023-02-09T13:37:02.803Z"
   },
   {
    "duration": 5,
    "start_time": "2023-02-09T13:37:07.662Z"
   },
   {
    "duration": 500,
    "start_time": "2023-02-09T13:37:18.161Z"
   },
   {
    "duration": 504,
    "start_time": "2023-02-09T13:37:44.976Z"
   },
   {
    "duration": 587,
    "start_time": "2023-02-09T13:39:38.183Z"
   },
   {
    "duration": 1437,
    "start_time": "2023-02-09T13:39:49.757Z"
   },
   {
    "duration": 17,
    "start_time": "2023-02-09T13:40:20.357Z"
   },
   {
    "duration": 662,
    "start_time": "2023-02-09T13:40:26.707Z"
   },
   {
    "duration": 801,
    "start_time": "2023-02-09T13:40:40.101Z"
   },
   {
    "duration": 648,
    "start_time": "2023-02-09T13:40:44.185Z"
   },
   {
    "duration": 10881,
    "start_time": "2023-02-09T13:42:09.221Z"
   },
   {
    "duration": 2088,
    "start_time": "2023-02-09T13:42:20.491Z"
   },
   {
    "duration": 76,
    "start_time": "2023-02-09T13:42:29.994Z"
   },
   {
    "duration": 3,
    "start_time": "2023-02-09T13:42:33.113Z"
   },
   {
    "duration": 16,
    "start_time": "2023-02-09T13:42:37.646Z"
   },
   {
    "duration": 865,
    "start_time": "2023-02-09T13:42:46.306Z"
   },
   {
    "duration": 17,
    "start_time": "2023-02-09T13:42:51.056Z"
   },
   {
    "duration": 5,
    "start_time": "2023-02-09T13:42:57.756Z"
   },
   {
    "duration": 7,
    "start_time": "2023-02-09T13:43:10.792Z"
   },
   {
    "duration": 5,
    "start_time": "2023-02-09T13:43:20.257Z"
   },
   {
    "duration": 5,
    "start_time": "2023-02-09T13:44:32.082Z"
   },
   {
    "duration": 5,
    "start_time": "2023-02-09T13:44:34.043Z"
   },
   {
    "duration": 5,
    "start_time": "2023-02-09T13:44:37.283Z"
   },
   {
    "duration": 1027,
    "start_time": "2023-02-09T13:44:59.731Z"
   },
   {
    "duration": 1428,
    "start_time": "2023-02-09T13:45:31.057Z"
   },
   {
    "duration": 8,
    "start_time": "2023-02-09T13:46:21.214Z"
   },
   {
    "duration": 16,
    "start_time": "2023-02-09T13:46:37.445Z"
   },
   {
    "duration": 808,
    "start_time": "2023-02-09T13:47:24.456Z"
   },
   {
    "duration": 5754,
    "start_time": "2023-02-09T13:48:11.062Z"
   },
   {
    "duration": 523,
    "start_time": "2023-02-09T13:48:26.681Z"
   },
   {
    "duration": 21,
    "start_time": "2023-02-09T13:49:02.589Z"
   },
   {
    "duration": 7,
    "start_time": "2023-02-09T13:49:14.655Z"
   },
   {
    "duration": 16,
    "start_time": "2023-02-09T13:49:18.106Z"
   },
   {
    "duration": 1966,
    "start_time": "2023-02-09T13:49:37.153Z"
   },
   {
    "duration": 5,
    "start_time": "2023-02-09T13:49:48.620Z"
   },
   {
    "duration": 104,
    "start_time": "2023-02-09T13:49:53.753Z"
   },
   {
    "duration": 1437,
    "start_time": "2023-02-09T13:49:59.283Z"
   },
   {
    "duration": 6,
    "start_time": "2023-02-09T13:50:14.341Z"
   },
   {
    "duration": 25,
    "start_time": "2023-02-09T13:50:27.671Z"
   },
   {
    "duration": 15,
    "start_time": "2023-02-09T13:50:32.393Z"
   },
   {
    "duration": 7,
    "start_time": "2023-02-09T13:50:35.935Z"
   },
   {
    "duration": 631,
    "start_time": "2023-02-09T13:51:06.315Z"
   },
   {
    "duration": 51,
    "start_time": "2023-02-09T13:51:44.304Z"
   },
   {
    "duration": 4,
    "start_time": "2023-02-09T13:51:46.355Z"
   },
   {
    "duration": 22,
    "start_time": "2023-02-09T13:51:55.295Z"
   },
   {
    "duration": 63,
    "start_time": "2023-02-09T13:52:01.312Z"
   },
   {
    "duration": 17,
    "start_time": "2023-02-09T13:52:08.773Z"
   },
   {
    "duration": 18,
    "start_time": "2023-02-09T13:52:12.856Z"
   },
   {
    "duration": 14,
    "start_time": "2023-02-09T13:52:16.013Z"
   },
   {
    "duration": 17,
    "start_time": "2023-02-09T13:52:19.429Z"
   },
   {
    "duration": 47,
    "start_time": "2023-02-09T13:52:29.329Z"
   },
   {
    "duration": 45,
    "start_time": "2023-02-09T13:52:31.705Z"
   },
   {
    "duration": 23,
    "start_time": "2023-02-09T13:52:35.082Z"
   },
   {
    "duration": 6,
    "start_time": "2023-02-09T13:52:56.557Z"
   },
   {
    "duration": 9,
    "start_time": "2023-02-09T13:53:02.371Z"
   },
   {
    "duration": 76,
    "start_time": "2023-02-09T13:53:05.675Z"
   },
   {
    "duration": 9,
    "start_time": "2023-02-09T13:53:07.945Z"
   },
   {
    "duration": 9,
    "start_time": "2023-02-09T13:53:16.823Z"
   },
   {
    "duration": 5,
    "start_time": "2023-02-09T13:53:22.511Z"
   },
   {
    "duration": 66,
    "start_time": "2023-02-09T13:53:41.902Z"
   },
   {
    "duration": 20,
    "start_time": "2023-02-09T13:54:01.668Z"
   },
   {
    "duration": 11,
    "start_time": "2023-02-09T13:54:18.032Z"
   },
   {
    "duration": 11,
    "start_time": "2023-02-09T13:54:20.757Z"
   },
   {
    "duration": 67,
    "start_time": "2023-02-09T13:54:36.163Z"
   },
   {
    "duration": 17,
    "start_time": "2023-02-09T13:54:47.222Z"
   },
   {
    "duration": 14,
    "start_time": "2023-02-09T13:55:01.557Z"
   },
   {
    "duration": 6,
    "start_time": "2023-02-09T13:55:06.484Z"
   },
   {
    "duration": 9,
    "start_time": "2023-02-09T13:55:15.733Z"
   },
   {
    "duration": 5,
    "start_time": "2023-02-09T13:55:19.671Z"
   },
   {
    "duration": 12,
    "start_time": "2023-02-09T13:55:24.195Z"
   },
   {
    "duration": 5,
    "start_time": "2023-02-09T13:55:27.261Z"
   },
   {
    "duration": 5,
    "start_time": "2023-02-09T13:55:37.085Z"
   },
   {
    "duration": 50,
    "start_time": "2023-02-09T13:55:47.233Z"
   },
   {
    "duration": 951,
    "start_time": "2023-02-09T13:55:53.569Z"
   },
   {
    "duration": 1137,
    "start_time": "2023-02-09T13:56:02.006Z"
   },
   {
    "duration": 13,
    "start_time": "2023-02-09T13:56:25.623Z"
   },
   {
    "duration": 1065,
    "start_time": "2023-02-09T13:56:30.573Z"
   },
   {
    "duration": 916,
    "start_time": "2023-02-09T13:56:34.163Z"
   },
   {
    "duration": 49,
    "start_time": "2023-02-09T13:57:13.524Z"
   },
   {
    "duration": 48,
    "start_time": "2023-02-09T13:57:22.883Z"
   },
   {
    "duration": 964,
    "start_time": "2023-02-09T13:57:30.154Z"
   },
   {
    "duration": 55,
    "start_time": "2023-02-09T13:58:12.476Z"
   },
   {
    "duration": 669,
    "start_time": "2023-02-09T13:58:26.463Z"
   },
   {
    "duration": 345,
    "start_time": "2023-02-09T13:58:34.358Z"
   },
   {
    "duration": 5,
    "start_time": "2023-02-09T13:58:44.963Z"
   },
   {
    "duration": 597,
    "start_time": "2023-02-09T13:59:00.573Z"
   },
   {
    "duration": 1356,
    "start_time": "2023-02-09T13:59:14.265Z"
   },
   {
    "duration": 391,
    "start_time": "2023-02-09T13:59:21.763Z"
   },
   {
    "duration": 368,
    "start_time": "2023-02-09T13:59:27.893Z"
   },
   {
    "duration": 611,
    "start_time": "2023-02-09T13:59:40.825Z"
   },
   {
    "duration": 6325,
    "start_time": "2023-02-09T13:59:46.915Z"
   },
   {
    "duration": 7386,
    "start_time": "2023-02-09T14:00:23.063Z"
   },
   {
    "duration": 7614,
    "start_time": "2023-02-09T14:00:49.633Z"
   },
   {
    "duration": 7107,
    "start_time": "2023-02-09T14:01:02.314Z"
   },
   {
    "duration": 7513,
    "start_time": "2023-02-09T14:01:21.392Z"
   },
   {
    "duration": 7623,
    "start_time": "2023-02-09T14:02:20.353Z"
   },
   {
    "duration": 625,
    "start_time": "2023-02-09T14:04:10.833Z"
   },
   {
    "duration": 7455,
    "start_time": "2023-02-09T14:04:25.495Z"
   },
   {
    "duration": 6961,
    "start_time": "2023-02-09T14:05:06.903Z"
   },
   {
    "duration": 628,
    "start_time": "2023-02-09T14:05:18.823Z"
   },
   {
    "duration": 48,
    "start_time": "2023-02-09T14:05:31.983Z"
   },
   {
    "duration": 671,
    "start_time": "2023-02-09T14:05:35.108Z"
   },
   {
    "duration": 7771,
    "start_time": "2023-02-09T14:05:40.529Z"
   },
   {
    "duration": 715,
    "start_time": "2023-02-09T14:06:35.669Z"
   },
   {
    "duration": 704,
    "start_time": "2023-02-09T14:06:47.956Z"
   },
   {
    "duration": 7744,
    "start_time": "2023-02-09T14:06:59.980Z"
   },
   {
    "duration": 6850,
    "start_time": "2023-02-09T14:07:16.373Z"
   },
   {
    "duration": 7841,
    "start_time": "2023-02-09T14:07:23.755Z"
   },
   {
    "duration": 7318,
    "start_time": "2023-02-09T14:08:13.268Z"
   },
   {
    "duration": 48,
    "start_time": "2023-02-09T14:09:28.556Z"
   },
   {
    "duration": 7991,
    "start_time": "2023-02-09T14:09:36.995Z"
   },
   {
    "duration": 8045,
    "start_time": "2023-02-09T14:10:07.888Z"
   },
   {
    "duration": 648,
    "start_time": "2023-02-09T14:11:04.002Z"
   },
   {
    "duration": 617,
    "start_time": "2023-02-09T14:11:32.815Z"
   },
   {
    "duration": 8150,
    "start_time": "2023-02-09T14:11:39.103Z"
   },
   {
    "duration": 7033,
    "start_time": "2023-02-09T14:12:34.625Z"
   },
   {
    "duration": 8413,
    "start_time": "2023-02-09T14:12:46.349Z"
   },
   {
    "duration": 7351,
    "start_time": "2023-02-09T14:12:56.732Z"
   },
   {
    "duration": 8132,
    "start_time": "2023-02-09T14:13:37.883Z"
   },
   {
    "duration": 8044,
    "start_time": "2023-02-09T14:20:23.412Z"
   },
   {
    "duration": 12,
    "start_time": "2023-02-09T14:27:49.170Z"
   },
   {
    "duration": 16,
    "start_time": "2023-02-09T14:27:53.056Z"
   },
   {
    "duration": 15,
    "start_time": "2023-02-09T14:28:11.932Z"
   },
   {
    "duration": 13,
    "start_time": "2023-02-09T14:28:32.878Z"
   },
   {
    "duration": 14,
    "start_time": "2023-02-09T14:28:37.321Z"
   },
   {
    "duration": 7,
    "start_time": "2023-02-09T14:28:41.717Z"
   },
   {
    "duration": 6,
    "start_time": "2023-02-09T14:29:12.741Z"
   },
   {
    "duration": 12,
    "start_time": "2023-02-09T14:29:38.819Z"
   },
   {
    "duration": 12,
    "start_time": "2023-02-09T14:30:13.859Z"
   },
   {
    "duration": 17,
    "start_time": "2023-02-09T14:30:33.692Z"
   },
   {
    "duration": 30,
    "start_time": "2023-02-09T14:30:44.489Z"
   },
   {
    "duration": 5,
    "start_time": "2023-02-09T14:34:08.689Z"
   },
   {
    "duration": 12,
    "start_time": "2023-02-09T14:34:29.567Z"
   },
   {
    "duration": 8,
    "start_time": "2023-02-09T14:34:50.430Z"
   },
   {
    "duration": 8,
    "start_time": "2023-02-09T14:35:09.779Z"
   },
   {
    "duration": 30,
    "start_time": "2023-02-09T14:35:21.408Z"
   },
   {
    "duration": 10,
    "start_time": "2023-02-09T14:35:39.156Z"
   },
   {
    "duration": 31,
    "start_time": "2023-02-09T14:35:56.337Z"
   },
   {
    "duration": 44,
    "start_time": "2023-02-09T14:36:07.529Z"
   },
   {
    "duration": 73,
    "start_time": "2023-02-09T14:36:16.476Z"
   },
   {
    "duration": 42,
    "start_time": "2023-02-09T14:36:25.063Z"
   },
   {
    "duration": 19,
    "start_time": "2023-02-09T14:36:43.980Z"
   },
   {
    "duration": 33,
    "start_time": "2023-02-09T14:36:57.470Z"
   },
   {
    "duration": 32,
    "start_time": "2023-02-09T14:37:07.004Z"
   },
   {
    "duration": 21,
    "start_time": "2023-02-09T14:37:33.867Z"
   },
   {
    "duration": 37,
    "start_time": "2023-02-09T14:38:09.753Z"
   },
   {
    "duration": 30,
    "start_time": "2023-02-09T14:38:13.195Z"
   },
   {
    "duration": 720,
    "start_time": "2023-02-09T14:38:23.805Z"
   },
   {
    "duration": 764,
    "start_time": "2023-02-09T14:38:55.469Z"
   },
   {
    "duration": 42,
    "start_time": "2023-02-09T14:39:06.479Z"
   },
   {
    "duration": 762,
    "start_time": "2023-02-09T14:39:07.350Z"
   },
   {
    "duration": 34,
    "start_time": "2023-02-09T14:39:23.977Z"
   },
   {
    "duration": 912,
    "start_time": "2023-02-09T14:39:35.510Z"
   },
   {
    "duration": 35,
    "start_time": "2023-02-09T14:39:43.785Z"
   },
   {
    "duration": 30,
    "start_time": "2023-02-09T14:39:56.825Z"
   },
   {
    "duration": 43,
    "start_time": "2023-02-09T14:40:09.979Z"
   },
   {
    "duration": 17,
    "start_time": "2023-02-09T14:40:18.434Z"
   },
   {
    "duration": 27,
    "start_time": "2023-02-09T14:43:54.130Z"
   },
   {
    "duration": 40,
    "start_time": "2023-02-09T14:44:03.379Z"
   },
   {
    "duration": 30,
    "start_time": "2023-02-09T14:44:10.035Z"
   },
   {
    "duration": 40,
    "start_time": "2023-02-09T14:44:25.693Z"
   },
   {
    "duration": 30,
    "start_time": "2023-02-09T14:44:26.887Z"
   },
   {
    "duration": 48,
    "start_time": "2023-02-09T14:44:49.163Z"
   },
   {
    "duration": 33,
    "start_time": "2023-02-09T14:44:51.009Z"
   },
   {
    "duration": 38,
    "start_time": "2023-02-09T14:44:56.609Z"
   },
   {
    "duration": 30,
    "start_time": "2023-02-09T14:44:56.947Z"
   },
   {
    "duration": 6,
    "start_time": "2023-02-09T14:45:04.537Z"
   },
   {
    "duration": 1377,
    "start_time": "2023-02-09T14:45:29.674Z"
   },
   {
    "duration": 1570,
    "start_time": "2023-02-09T14:45:34.663Z"
   },
   {
    "duration": 17,
    "start_time": "2023-02-09T14:45:36.234Z"
   },
   {
    "duration": 12,
    "start_time": "2023-02-09T14:45:36.253Z"
   },
   {
    "duration": 20,
    "start_time": "2023-02-09T14:45:36.336Z"
   },
   {
    "duration": 11,
    "start_time": "2023-02-09T14:45:37.534Z"
   },
   {
    "duration": 5,
    "start_time": "2023-02-09T14:45:38.826Z"
   },
   {
    "duration": 6,
    "start_time": "2023-02-09T14:45:40.488Z"
   },
   {
    "duration": 27,
    "start_time": "2023-02-09T14:45:41.116Z"
   },
   {
    "duration": 38,
    "start_time": "2023-02-09T14:45:42.667Z"
   },
   {
    "duration": 7,
    "start_time": "2023-02-09T14:45:46.088Z"
   },
   {
    "duration": 19,
    "start_time": "2023-02-09T14:46:00.159Z"
   },
   {
    "duration": 17,
    "start_time": "2023-02-09T14:46:20.508Z"
   },
   {
    "duration": 31,
    "start_time": "2023-02-09T14:46:29.077Z"
   },
   {
    "duration": 6,
    "start_time": "2023-02-09T14:46:30.727Z"
   },
   {
    "duration": 37,
    "start_time": "2023-02-09T14:46:58.175Z"
   },
   {
    "duration": 6,
    "start_time": "2023-02-09T14:46:58.668Z"
   },
   {
    "duration": 1314,
    "start_time": "2023-02-09T14:47:10.137Z"
   },
   {
    "duration": 727,
    "start_time": "2023-02-09T14:47:12.955Z"
   },
   {
    "duration": 20,
    "start_time": "2023-02-09T14:47:13.684Z"
   },
   {
    "duration": 15,
    "start_time": "2023-02-09T14:47:13.905Z"
   },
   {
    "duration": 18,
    "start_time": "2023-02-09T14:47:14.284Z"
   },
   {
    "duration": 13,
    "start_time": "2023-02-09T14:47:15.976Z"
   },
   {
    "duration": 6,
    "start_time": "2023-02-09T14:47:17.154Z"
   },
   {
    "duration": 5,
    "start_time": "2023-02-09T14:47:18.696Z"
   },
   {
    "duration": 27,
    "start_time": "2023-02-09T14:47:19.228Z"
   },
   {
    "duration": 23,
    "start_time": "2023-02-09T14:47:22.465Z"
   },
   {
    "duration": 36,
    "start_time": "2023-02-09T14:47:23.346Z"
   },
   {
    "duration": 819,
    "start_time": "2023-02-09T14:47:24.277Z"
   },
   {
    "duration": 29,
    "start_time": "2023-02-09T14:47:50.036Z"
   },
   {
    "duration": 38,
    "start_time": "2023-02-09T14:48:00.278Z"
   },
   {
    "duration": 28,
    "start_time": "2023-02-09T14:48:07.296Z"
   },
   {
    "duration": 671,
    "start_time": "2023-02-09T14:48:24.346Z"
   },
   {
    "duration": 40,
    "start_time": "2023-02-09T14:48:40.229Z"
   },
   {
    "duration": 9,
    "start_time": "2023-02-09T14:48:42.268Z"
   },
   {
    "duration": 5,
    "start_time": "2023-02-09T14:48:48.378Z"
   },
   {
    "duration": 34,
    "start_time": "2023-02-09T14:49:28.875Z"
   },
   {
    "duration": 6,
    "start_time": "2023-02-09T14:49:48.716Z"
   },
   {
    "duration": 1324,
    "start_time": "2023-02-09T14:49:55.708Z"
   },
   {
    "duration": 708,
    "start_time": "2023-02-09T14:49:57.034Z"
   },
   {
    "duration": 17,
    "start_time": "2023-02-09T14:49:57.744Z"
   },
   {
    "duration": 27,
    "start_time": "2023-02-09T14:49:57.764Z"
   },
   {
    "duration": 19,
    "start_time": "2023-02-09T14:49:57.793Z"
   },
   {
    "duration": 11,
    "start_time": "2023-02-09T14:49:57.813Z"
   },
   {
    "duration": 6,
    "start_time": "2023-02-09T14:49:58.176Z"
   },
   {
    "duration": 5,
    "start_time": "2023-02-09T14:49:59.256Z"
   },
   {
    "duration": 28,
    "start_time": "2023-02-09T14:49:59.706Z"
   },
   {
    "duration": 23,
    "start_time": "2023-02-09T14:50:00.577Z"
   },
   {
    "duration": 38,
    "start_time": "2023-02-09T14:50:01.237Z"
   },
   {
    "duration": 6,
    "start_time": "2023-02-09T14:50:02.908Z"
   },
   {
    "duration": 1479,
    "start_time": "2023-02-09T18:24:00.583Z"
   },
   {
    "duration": 2273,
    "start_time": "2023-02-09T18:24:02.064Z"
   },
   {
    "duration": 21,
    "start_time": "2023-02-09T18:24:04.339Z"
   },
   {
    "duration": 17,
    "start_time": "2023-02-09T18:24:04.362Z"
   },
   {
    "duration": 16,
    "start_time": "2023-02-09T18:24:04.381Z"
   },
   {
    "duration": 11,
    "start_time": "2023-02-09T18:24:04.398Z"
   },
   {
    "duration": 5,
    "start_time": "2023-02-09T18:24:05.792Z"
   },
   {
    "duration": 5,
    "start_time": "2023-02-09T18:24:10.587Z"
   },
   {
    "duration": 35,
    "start_time": "2023-02-09T18:24:11.242Z"
   },
   {
    "duration": 36,
    "start_time": "2023-02-09T18:24:26.289Z"
   },
   {
    "duration": 3,
    "start_time": "2023-02-09T18:24:31.602Z"
   },
   {
    "duration": 7107,
    "start_time": "2023-02-09T18:24:32.713Z"
   },
   {
    "duration": 80,
    "start_time": "2023-02-09T18:24:43.984Z"
   },
   {
    "duration": 17,
    "start_time": "2023-02-09T18:25:21.894Z"
   },
   {
    "duration": 33,
    "start_time": "2023-02-09T18:25:37.184Z"
   },
   {
    "duration": 311,
    "start_time": "2023-02-09T18:25:46.360Z"
   },
   {
    "duration": 3,
    "start_time": "2023-02-09T18:25:51.584Z"
   },
   {
    "duration": 19,
    "start_time": "2023-02-09T18:25:52.286Z"
   },
   {
    "duration": 18,
    "start_time": "2023-02-09T18:25:53.329Z"
   },
   {
    "duration": 20,
    "start_time": "2023-02-09T18:25:53.920Z"
   },
   {
    "duration": 28,
    "start_time": "2023-02-09T18:28:34.633Z"
   },
   {
    "duration": 100,
    "start_time": "2023-02-09T18:32:59.185Z"
   },
   {
    "duration": 63,
    "start_time": "2023-02-09T18:34:03.487Z"
   },
   {
    "duration": 30,
    "start_time": "2023-02-09T18:34:11.000Z"
   },
   {
    "duration": 13,
    "start_time": "2023-02-09T18:34:17.694Z"
   },
   {
    "duration": 7,
    "start_time": "2023-02-09T18:34:36.449Z"
   },
   {
    "duration": 11,
    "start_time": "2023-02-09T18:35:06.786Z"
   },
   {
    "duration": 1476,
    "start_time": "2023-02-09T18:35:15.443Z"
   },
   {
    "duration": 647,
    "start_time": "2023-02-09T18:35:16.921Z"
   },
   {
    "duration": 18,
    "start_time": "2023-02-09T18:35:17.570Z"
   },
   {
    "duration": 12,
    "start_time": "2023-02-09T18:35:17.590Z"
   },
   {
    "duration": 41,
    "start_time": "2023-02-09T18:35:17.604Z"
   },
   {
    "duration": 10,
    "start_time": "2023-02-09T18:35:17.647Z"
   },
   {
    "duration": 5,
    "start_time": "2023-02-09T18:35:17.658Z"
   },
   {
    "duration": 6,
    "start_time": "2023-02-09T18:35:18.390Z"
   },
   {
    "duration": 36,
    "start_time": "2023-02-09T18:35:18.613Z"
   },
   {
    "duration": 58,
    "start_time": "2023-02-09T18:35:19.190Z"
   },
   {
    "duration": 5,
    "start_time": "2023-02-09T18:35:19.721Z"
   },
   {
    "duration": 7695,
    "start_time": "2023-02-09T18:35:20.078Z"
   },
   {
    "duration": 3,
    "start_time": "2023-02-09T18:35:27.776Z"
   },
   {
    "duration": 90,
    "start_time": "2023-02-09T18:35:27.782Z"
   },
   {
    "duration": 7,
    "start_time": "2023-02-09T18:35:27.875Z"
   },
   {
    "duration": 9,
    "start_time": "2023-02-09T18:35:43.936Z"
   },
   {
    "duration": 23,
    "start_time": "2023-02-09T18:35:45.020Z"
   },
   {
    "duration": 11,
    "start_time": "2023-02-09T18:35:45.794Z"
   },
   {
    "duration": 9,
    "start_time": "2023-02-09T18:36:00.591Z"
   },
   {
    "duration": 9,
    "start_time": "2023-02-09T18:36:10.729Z"
   },
   {
    "duration": 8,
    "start_time": "2023-02-09T18:36:18.378Z"
   },
   {
    "duration": 28,
    "start_time": "2023-02-09T18:39:13.490Z"
   },
   {
    "duration": 26,
    "start_time": "2023-02-09T18:39:21.433Z"
   },
   {
    "duration": 17,
    "start_time": "2023-02-09T18:39:54.540Z"
   },
   {
    "duration": 9,
    "start_time": "2023-02-09T18:39:55.206Z"
   },
   {
    "duration": 13,
    "start_time": "2023-02-09T18:40:03.122Z"
   },
   {
    "duration": 9,
    "start_time": "2023-02-09T18:40:03.791Z"
   },
   {
    "duration": 5,
    "start_time": "2023-02-09T18:44:11.123Z"
   },
   {
    "duration": 139,
    "start_time": "2023-02-09T18:44:19.035Z"
   },
   {
    "duration": 11,
    "start_time": "2023-02-09T18:45:29.300Z"
   },
   {
    "duration": 112,
    "start_time": "2023-02-09T18:45:30.053Z"
   },
   {
    "duration": 21,
    "start_time": "2023-02-09T18:46:49.935Z"
   },
   {
    "duration": 8,
    "start_time": "2023-02-09T18:46:52.434Z"
   },
   {
    "duration": 15,
    "start_time": "2023-02-09T18:47:14.083Z"
   },
   {
    "duration": 16,
    "start_time": "2023-02-09T18:47:25.516Z"
   },
   {
    "duration": 14,
    "start_time": "2023-02-09T18:47:31.828Z"
   },
   {
    "duration": 101,
    "start_time": "2023-02-09T19:01:46.465Z"
   },
   {
    "duration": 3,
    "start_time": "2023-02-09T19:01:52.138Z"
   },
   {
    "duration": 1311,
    "start_time": "2023-02-09T19:01:52.771Z"
   },
   {
    "duration": 1570,
    "start_time": "2023-02-09T19:02:19.489Z"
   },
   {
    "duration": 1173,
    "start_time": "2023-02-09T19:02:58.980Z"
   },
   {
    "duration": 2,
    "start_time": "2023-02-09T19:05:03.338Z"
   },
   {
    "duration": 161,
    "start_time": "2023-02-09T19:05:03.987Z"
   },
   {
    "duration": 453,
    "start_time": "2023-02-09T19:05:34.489Z"
   },
   {
    "duration": 167,
    "start_time": "2023-02-09T19:05:41.917Z"
   },
   {
    "duration": 93,
    "start_time": "2023-02-09T19:07:10.419Z"
   },
   {
    "duration": 543,
    "start_time": "2023-02-09T19:07:14.769Z"
   },
   {
    "duration": 622,
    "start_time": "2023-02-09T19:08:28.961Z"
   },
   {
    "duration": 543,
    "start_time": "2023-02-09T19:10:27.529Z"
   },
   {
    "duration": 579,
    "start_time": "2023-02-09T19:10:58.534Z"
   },
   {
    "duration": 7,
    "start_time": "2023-02-09T19:23:58.090Z"
   },
   {
    "duration": 523,
    "start_time": "2023-02-09T19:24:17.068Z"
   },
   {
    "duration": 655,
    "start_time": "2023-02-09T19:24:24.996Z"
   },
   {
    "duration": 674,
    "start_time": "2023-02-09T19:25:19.921Z"
   },
   {
    "duration": 135,
    "start_time": "2023-02-09T19:25:35.632Z"
   },
   {
    "duration": 123,
    "start_time": "2023-02-09T19:25:47.332Z"
   },
   {
    "duration": 11,
    "start_time": "2023-02-09T19:27:05.270Z"
   },
   {
    "duration": 143,
    "start_time": "2023-02-09T19:27:11.785Z"
   },
   {
    "duration": 214,
    "start_time": "2023-02-09T19:27:20.869Z"
   },
   {
    "duration": 134,
    "start_time": "2023-02-09T19:27:51.877Z"
   },
   {
    "duration": 124,
    "start_time": "2023-02-09T19:28:09.202Z"
   },
   {
    "duration": 135,
    "start_time": "2023-02-09T19:28:20.422Z"
   },
   {
    "duration": 97,
    "start_time": "2023-02-09T19:28:24.566Z"
   },
   {
    "duration": 99,
    "start_time": "2023-02-09T19:28:33.223Z"
   },
   {
    "duration": 135,
    "start_time": "2023-02-09T19:28:42.229Z"
   },
   {
    "duration": 1346,
    "start_time": "2023-02-09T19:31:47.566Z"
   },
   {
    "duration": 700,
    "start_time": "2023-02-09T19:31:50.145Z"
   },
   {
    "duration": 18,
    "start_time": "2023-02-09T19:31:50.847Z"
   },
   {
    "duration": 13,
    "start_time": "2023-02-09T19:31:50.867Z"
   },
   {
    "duration": 17,
    "start_time": "2023-02-09T19:31:50.882Z"
   },
   {
    "duration": 14,
    "start_time": "2023-02-09T19:31:51.135Z"
   },
   {
    "duration": 6,
    "start_time": "2023-02-09T19:31:51.490Z"
   },
   {
    "duration": 6,
    "start_time": "2023-02-09T19:31:52.071Z"
   },
   {
    "duration": 35,
    "start_time": "2023-02-09T19:31:52.275Z"
   },
   {
    "duration": 57,
    "start_time": "2023-02-09T19:31:52.683Z"
   },
   {
    "duration": 4,
    "start_time": "2023-02-09T19:31:53.035Z"
   },
   {
    "duration": 7284,
    "start_time": "2023-02-09T19:31:53.265Z"
   },
   {
    "duration": 4,
    "start_time": "2023-02-09T19:32:00.551Z"
   },
   {
    "duration": 91,
    "start_time": "2023-02-09T19:32:00.557Z"
   },
   {
    "duration": 28,
    "start_time": "2023-02-09T19:32:00.651Z"
   },
   {
    "duration": 27,
    "start_time": "2023-02-09T19:32:00.681Z"
   },
   {
    "duration": 35,
    "start_time": "2023-02-09T19:32:00.710Z"
   },
   {
    "duration": 1065,
    "start_time": "2023-02-09T19:32:00.747Z"
   },
   {
    "duration": 212,
    "start_time": "2023-02-09T19:32:01.814Z"
   },
   {
    "duration": 127,
    "start_time": "2023-02-09T19:32:02.028Z"
   },
   {
    "duration": 176,
    "start_time": "2023-02-09T19:32:38.584Z"
   },
   {
    "duration": 196,
    "start_time": "2023-02-09T19:32:44.575Z"
   },
   {
    "duration": 190,
    "start_time": "2023-02-09T19:32:51.273Z"
   },
   {
    "duration": 160,
    "start_time": "2023-02-09T19:34:17.305Z"
   },
   {
    "duration": 162,
    "start_time": "2023-02-09T19:34:22.905Z"
   },
   {
    "duration": 167,
    "start_time": "2023-02-09T19:34:25.646Z"
   },
   {
    "duration": 170,
    "start_time": "2023-02-09T19:34:29.986Z"
   },
   {
    "duration": 282,
    "start_time": "2023-02-09T19:34:42.146Z"
   },
   {
    "duration": 300,
    "start_time": "2023-02-09T19:35:39.183Z"
   },
   {
    "duration": 171,
    "start_time": "2023-02-09T19:35:44.429Z"
   },
   {
    "duration": 172,
    "start_time": "2023-02-09T19:35:57.882Z"
   },
   {
    "duration": 175,
    "start_time": "2023-02-09T19:36:04.598Z"
   },
   {
    "duration": 186,
    "start_time": "2023-02-09T19:36:08.896Z"
   },
   {
    "duration": 176,
    "start_time": "2023-02-09T19:37:13.749Z"
   },
   {
    "duration": 182,
    "start_time": "2023-02-09T19:37:19.075Z"
   },
   {
    "duration": 169,
    "start_time": "2023-02-09T19:37:38.473Z"
   },
   {
    "duration": 192,
    "start_time": "2023-02-09T19:37:42.637Z"
   },
   {
    "duration": 174,
    "start_time": "2023-02-09T19:37:49.253Z"
   },
   {
    "duration": 198,
    "start_time": "2023-02-09T19:38:15.968Z"
   },
   {
    "duration": 285,
    "start_time": "2023-02-09T19:38:18.746Z"
   },
   {
    "duration": 180,
    "start_time": "2023-02-09T19:38:34.598Z"
   },
   {
    "duration": 176,
    "start_time": "2023-02-09T19:39:33.110Z"
   },
   {
    "duration": 156,
    "start_time": "2023-02-09T19:39:41.061Z"
   },
   {
    "duration": 159,
    "start_time": "2023-02-09T19:39:54.788Z"
   },
   {
    "duration": 157,
    "start_time": "2023-02-09T19:40:03.727Z"
   },
   {
    "duration": 190,
    "start_time": "2023-02-09T19:40:17.776Z"
   },
   {
    "duration": 160,
    "start_time": "2023-02-09T19:40:21.254Z"
   },
   {
    "duration": 175,
    "start_time": "2023-02-09T19:40:28.233Z"
   },
   {
    "duration": 176,
    "start_time": "2023-02-09T19:40:34.266Z"
   },
   {
    "duration": 168,
    "start_time": "2023-02-09T19:40:44.995Z"
   },
   {
    "duration": 332,
    "start_time": "2023-02-09T19:41:30.375Z"
   },
   {
    "duration": 185,
    "start_time": "2023-02-09T19:41:35.432Z"
   },
   {
    "duration": 185,
    "start_time": "2023-02-09T19:42:11.527Z"
   },
   {
    "duration": 14,
    "start_time": "2023-02-09T19:42:31.737Z"
   },
   {
    "duration": 17,
    "start_time": "2023-02-09T19:44:29.476Z"
   },
   {
    "duration": 189,
    "start_time": "2023-02-09T19:44:39.736Z"
   },
   {
    "duration": 163,
    "start_time": "2023-02-09T19:44:44.675Z"
   },
   {
    "duration": 215,
    "start_time": "2023-02-09T19:45:55.588Z"
   },
   {
    "duration": 169,
    "start_time": "2023-02-09T19:46:01.586Z"
   },
   {
    "duration": 240,
    "start_time": "2023-02-09T19:46:11.586Z"
   },
   {
    "duration": 180,
    "start_time": "2023-02-09T19:46:26.008Z"
   },
   {
    "duration": 172,
    "start_time": "2023-02-09T19:46:32.237Z"
   },
   {
    "duration": 189,
    "start_time": "2023-02-09T19:46:54.807Z"
   },
   {
    "duration": 169,
    "start_time": "2023-02-09T19:47:00.816Z"
   },
   {
    "duration": 190,
    "start_time": "2023-02-09T19:47:07.688Z"
   },
   {
    "duration": 335,
    "start_time": "2023-02-09T19:47:13.850Z"
   },
   {
    "duration": 167,
    "start_time": "2023-02-09T19:48:46.495Z"
   },
   {
    "duration": 176,
    "start_time": "2023-02-09T19:48:50.137Z"
   },
   {
    "duration": 176,
    "start_time": "2023-02-09T19:48:53.820Z"
   },
   {
    "duration": 3,
    "start_time": "2023-02-09T19:49:18.237Z"
   },
   {
    "duration": 11,
    "start_time": "2023-02-09T19:49:21.291Z"
   },
   {
    "duration": 105,
    "start_time": "2023-02-09T19:49:31.340Z"
   },
   {
    "duration": 119,
    "start_time": "2023-02-09T19:49:45.066Z"
   },
   {
    "duration": 241,
    "start_time": "2023-02-09T19:49:58.473Z"
   },
   {
    "duration": 120,
    "start_time": "2023-02-09T19:50:03.471Z"
   },
   {
    "duration": 199,
    "start_time": "2023-02-09T19:51:55.073Z"
   },
   {
    "duration": 199,
    "start_time": "2023-02-09T19:53:07.940Z"
   },
   {
    "duration": 183,
    "start_time": "2023-02-09T19:53:16.750Z"
   },
   {
    "duration": 164,
    "start_time": "2023-02-09T19:53:22.849Z"
   },
   {
    "duration": 179,
    "start_time": "2023-02-09T19:53:32.942Z"
   },
   {
    "duration": 9,
    "start_time": "2023-02-09T19:53:41.580Z"
   },
   {
    "duration": 10,
    "start_time": "2023-02-09T19:53:53.530Z"
   },
   {
    "duration": 172,
    "start_time": "2023-02-09T19:56:17.362Z"
   },
   {
    "duration": 214,
    "start_time": "2023-02-09T19:56:25.728Z"
   },
   {
    "duration": 354,
    "start_time": "2023-02-09T19:56:33.239Z"
   },
   {
    "duration": 123,
    "start_time": "2023-02-09T19:56:40.968Z"
   },
   {
    "duration": 159,
    "start_time": "2023-02-09T19:56:46.338Z"
   },
   {
    "duration": 140,
    "start_time": "2023-02-09T19:56:50.161Z"
   },
   {
    "duration": 140,
    "start_time": "2023-02-09T19:56:56.943Z"
   },
   {
    "duration": 140,
    "start_time": "2023-02-09T19:57:03.799Z"
   },
   {
    "duration": 149,
    "start_time": "2023-02-09T19:57:36.070Z"
   },
   {
    "duration": 7,
    "start_time": "2023-02-09T20:09:07.712Z"
   },
   {
    "duration": 10,
    "start_time": "2023-02-09T20:11:43.091Z"
   },
   {
    "duration": 5,
    "start_time": "2023-02-09T20:12:49.467Z"
   },
   {
    "duration": 12,
    "start_time": "2023-02-09T20:13:17.772Z"
   },
   {
    "duration": 6,
    "start_time": "2023-02-09T20:13:33.556Z"
   },
   {
    "duration": 112,
    "start_time": "2023-02-09T20:13:48.192Z"
   },
   {
    "duration": 10,
    "start_time": "2023-02-09T20:14:10.464Z"
   },
   {
    "duration": 91,
    "start_time": "2023-02-09T20:14:22.066Z"
   },
   {
    "duration": 7,
    "start_time": "2023-02-09T20:15:34.301Z"
   },
   {
    "duration": 123,
    "start_time": "2023-02-09T20:16:13.028Z"
   },
   {
    "duration": 298,
    "start_time": "2023-02-09T20:16:26.413Z"
   },
   {
    "duration": 10,
    "start_time": "2023-02-09T20:27:35.404Z"
   },
   {
    "duration": 10,
    "start_time": "2023-02-09T20:27:53.235Z"
   },
   {
    "duration": 10,
    "start_time": "2023-02-09T20:28:20.984Z"
   },
   {
    "duration": 272,
    "start_time": "2023-02-09T20:28:43.742Z"
   },
   {
    "duration": 6,
    "start_time": "2023-02-09T20:28:56.134Z"
   },
   {
    "duration": 12,
    "start_time": "2023-02-09T20:29:06.003Z"
   },
   {
    "duration": 6,
    "start_time": "2023-02-09T20:29:19.376Z"
   },
   {
    "duration": 5,
    "start_time": "2023-02-09T20:29:22.685Z"
   },
   {
    "duration": 5,
    "start_time": "2023-02-09T20:29:24.973Z"
   },
   {
    "duration": 8,
    "start_time": "2023-02-09T20:29:26.804Z"
   },
   {
    "duration": 9,
    "start_time": "2023-02-09T20:29:29.518Z"
   },
   {
    "duration": 6,
    "start_time": "2023-02-09T20:29:32.083Z"
   },
   {
    "duration": 10,
    "start_time": "2023-02-09T20:30:43.842Z"
   },
   {
    "duration": 10,
    "start_time": "2023-02-09T20:30:56.706Z"
   },
   {
    "duration": 9,
    "start_time": "2023-02-09T20:31:01.145Z"
   },
   {
    "duration": 9,
    "start_time": "2023-02-09T20:31:16.175Z"
   },
   {
    "duration": 5,
    "start_time": "2023-02-09T20:31:24.647Z"
   },
   {
    "duration": 11,
    "start_time": "2023-02-09T20:31:50.043Z"
   },
   {
    "duration": 6,
    "start_time": "2023-02-09T20:31:51.624Z"
   },
   {
    "duration": 11,
    "start_time": "2023-02-09T20:32:03.417Z"
   },
   {
    "duration": 8,
    "start_time": "2023-02-09T20:32:09.547Z"
   },
   {
    "duration": 9,
    "start_time": "2023-02-09T20:32:29.276Z"
   },
   {
    "duration": 8,
    "start_time": "2023-02-09T20:32:34.143Z"
   },
   {
    "duration": 7,
    "start_time": "2023-02-09T20:32:37.486Z"
   },
   {
    "duration": 14,
    "start_time": "2023-02-09T20:33:13.767Z"
   },
   {
    "duration": 19,
    "start_time": "2023-02-09T20:33:23.504Z"
   },
   {
    "duration": 311,
    "start_time": "2023-02-09T20:33:42.533Z"
   },
   {
    "duration": 5,
    "start_time": "2023-02-09T20:34:02.704Z"
   },
   {
    "duration": 6,
    "start_time": "2023-02-09T20:34:05.133Z"
   },
   {
    "duration": 5,
    "start_time": "2023-02-09T20:34:07.081Z"
   },
   {
    "duration": 5,
    "start_time": "2023-02-09T20:34:09.276Z"
   },
   {
    "duration": 5,
    "start_time": "2023-02-09T20:34:10.883Z"
   },
   {
    "duration": 5,
    "start_time": "2023-02-09T20:34:13.977Z"
   },
   {
    "duration": 511,
    "start_time": "2023-02-09T20:34:55.435Z"
   },
   {
    "duration": 18,
    "start_time": "2023-02-09T20:35:42.924Z"
   },
   {
    "duration": 15,
    "start_time": "2023-02-09T20:35:51.225Z"
   },
   {
    "duration": 323,
    "start_time": "2023-02-09T20:36:00.077Z"
   },
   {
    "duration": 322,
    "start_time": "2023-02-09T20:36:35.489Z"
   },
   {
    "duration": 310,
    "start_time": "2023-02-09T20:36:48.445Z"
   },
   {
    "duration": 297,
    "start_time": "2023-02-09T20:37:01.580Z"
   },
   {
    "duration": 3,
    "start_time": "2023-02-09T20:37:57.946Z"
   },
   {
    "duration": 344,
    "start_time": "2023-02-09T20:38:13.877Z"
   },
   {
    "duration": 476,
    "start_time": "2023-02-09T20:38:24.624Z"
   },
   {
    "duration": 309,
    "start_time": "2023-02-09T20:38:42.645Z"
   },
   {
    "duration": 52,
    "start_time": "2023-02-09T20:59:20.879Z"
   },
   {
    "duration": 45,
    "start_time": "2023-02-09T20:59:25.773Z"
   },
   {
    "duration": 45,
    "start_time": "2023-02-09T20:59:30.723Z"
   },
   {
    "duration": 44,
    "start_time": "2023-02-09T20:59:34.470Z"
   },
   {
    "duration": 47,
    "start_time": "2023-02-09T20:59:36.794Z"
   },
   {
    "duration": 54,
    "start_time": "2023-02-09T20:59:41.611Z"
   },
   {
    "duration": 51,
    "start_time": "2023-02-09T20:59:47.830Z"
   },
   {
    "duration": 56,
    "start_time": "2023-02-09T21:00:13.555Z"
   },
   {
    "duration": 354,
    "start_time": "2023-02-09T21:01:24.466Z"
   },
   {
    "duration": 1456,
    "start_time": "2023-02-09T21:01:40.473Z"
   },
   {
    "duration": 316,
    "start_time": "2023-02-09T21:01:45.282Z"
   },
   {
    "duration": 368,
    "start_time": "2023-02-09T21:01:55.304Z"
   },
   {
    "duration": 26,
    "start_time": "2023-02-09T21:02:05.277Z"
   },
   {
    "duration": 16,
    "start_time": "2023-02-09T21:04:00.637Z"
   },
   {
    "duration": 1202,
    "start_time": "2023-02-09T21:04:36.835Z"
   },
   {
    "duration": 30,
    "start_time": "2023-02-09T21:05:18.110Z"
   },
   {
    "duration": 1000,
    "start_time": "2023-02-09T21:05:31.244Z"
   },
   {
    "duration": 1286,
    "start_time": "2023-02-09T21:05:41.783Z"
   },
   {
    "duration": 4,
    "start_time": "2023-02-09T21:06:12.695Z"
   },
   {
    "duration": 5,
    "start_time": "2023-02-09T21:06:19.170Z"
   },
   {
    "duration": 5,
    "start_time": "2023-02-09T21:06:37.801Z"
   },
   {
    "duration": 1049,
    "start_time": "2023-02-09T21:06:48.304Z"
   },
   {
    "duration": 4,
    "start_time": "2023-02-09T21:06:51.073Z"
   },
   {
    "duration": 516,
    "start_time": "2023-02-09T21:07:18.404Z"
   },
   {
    "duration": 359,
    "start_time": "2023-02-09T21:07:22.424Z"
   },
   {
    "duration": 5,
    "start_time": "2023-02-09T21:07:31.232Z"
   },
   {
    "duration": 20,
    "start_time": "2023-02-09T21:09:05.392Z"
   },
   {
    "duration": 13,
    "start_time": "2023-02-09T21:09:39.405Z"
   },
   {
    "duration": 5,
    "start_time": "2023-02-09T21:10:54.002Z"
   },
   {
    "duration": 1257,
    "start_time": "2023-02-09T21:11:22.575Z"
   },
   {
    "duration": 4,
    "start_time": "2023-02-09T21:13:46.944Z"
   },
   {
    "duration": 9,
    "start_time": "2023-02-09T21:16:14.474Z"
   },
   {
    "duration": 5,
    "start_time": "2023-02-09T21:16:18.506Z"
   },
   {
    "duration": 5,
    "start_time": "2023-02-09T21:16:46.474Z"
   },
   {
    "duration": 28,
    "start_time": "2023-02-09T21:16:52.085Z"
   },
   {
    "duration": 7,
    "start_time": "2023-02-09T21:18:03.103Z"
   },
   {
    "duration": 26,
    "start_time": "2023-02-09T21:18:03.855Z"
   },
   {
    "duration": 3,
    "start_time": "2023-02-09T21:18:55.554Z"
   },
   {
    "duration": 9,
    "start_time": "2023-02-09T21:18:58.783Z"
   },
   {
    "duration": 2,
    "start_time": "2023-02-09T21:19:58.354Z"
   },
   {
    "duration": 7,
    "start_time": "2023-02-09T21:20:04.788Z"
   },
   {
    "duration": 9,
    "start_time": "2023-02-09T21:20:35.914Z"
   },
   {
    "duration": 1557,
    "start_time": "2023-02-10T11:16:44.308Z"
   },
   {
    "duration": 2046,
    "start_time": "2023-02-10T11:16:45.867Z"
   },
   {
    "duration": 19,
    "start_time": "2023-02-10T11:16:47.915Z"
   },
   {
    "duration": 13,
    "start_time": "2023-02-10T11:16:47.936Z"
   },
   {
    "duration": 17,
    "start_time": "2023-02-10T11:16:47.950Z"
   },
   {
    "duration": 12,
    "start_time": "2023-02-10T11:16:47.968Z"
   },
   {
    "duration": 4,
    "start_time": "2023-02-10T11:16:47.982Z"
   },
   {
    "duration": 6,
    "start_time": "2023-02-10T11:16:47.988Z"
   },
   {
    "duration": 25,
    "start_time": "2023-02-10T11:16:48.046Z"
   },
   {
    "duration": 42,
    "start_time": "2023-02-10T11:16:48.504Z"
   },
   {
    "duration": 3,
    "start_time": "2023-02-10T11:16:48.985Z"
   },
   {
    "duration": 7481,
    "start_time": "2023-02-10T11:16:49.218Z"
   },
   {
    "duration": 4,
    "start_time": "2023-02-10T11:16:56.702Z"
   },
   {
    "duration": 71,
    "start_time": "2023-02-10T11:16:56.707Z"
   },
   {
    "duration": 30,
    "start_time": "2023-02-10T11:16:56.780Z"
   },
   {
    "duration": 15,
    "start_time": "2023-02-10T11:16:56.812Z"
   },
   {
    "duration": 2,
    "start_time": "2023-02-10T11:16:56.829Z"
   },
   {
    "duration": 1158,
    "start_time": "2023-02-10T11:16:56.853Z"
   },
   {
    "duration": 175,
    "start_time": "2023-02-10T11:16:58.013Z"
   },
   {
    "duration": 313,
    "start_time": "2023-02-10T11:16:58.190Z"
   },
   {
    "duration": 3,
    "start_time": "2023-02-10T11:16:58.507Z"
   },
   {
    "duration": 347,
    "start_time": "2023-02-10T11:16:58.512Z"
   },
   {
    "duration": 435,
    "start_time": "2023-02-10T11:16:58.861Z"
   },
   {
    "duration": 363,
    "start_time": "2023-02-10T11:16:59.298Z"
   },
   {
    "duration": 4,
    "start_time": "2023-02-10T11:16:59.662Z"
   },
   {
    "duration": 1161,
    "start_time": "2023-02-10T11:16:59.668Z"
   },
   {
    "duration": 3,
    "start_time": "2023-02-10T11:17:00.831Z"
   },
   {
    "duration": 49,
    "start_time": "2023-02-10T11:17:00.836Z"
   },
   {
    "duration": 1240,
    "start_time": "2023-02-10T11:19:57.344Z"
   },
   {
    "duration": 15,
    "start_time": "2023-02-10T11:20:23.755Z"
   },
   {
    "duration": 10,
    "start_time": "2023-02-10T11:20:32.336Z"
   },
   {
    "duration": 6,
    "start_time": "2023-02-10T11:21:39.682Z"
   },
   {
    "duration": 5,
    "start_time": "2023-02-10T11:22:04.957Z"
   },
   {
    "duration": 6,
    "start_time": "2023-02-10T11:22:32.888Z"
   },
   {
    "duration": 27,
    "start_time": "2023-02-10T11:24:59.106Z"
   },
   {
    "duration": 14,
    "start_time": "2023-02-10T11:25:38.304Z"
   },
   {
    "duration": 34,
    "start_time": "2023-02-10T11:25:47.135Z"
   },
   {
    "duration": 19,
    "start_time": "2023-02-10T11:26:12.797Z"
   },
   {
    "duration": 21,
    "start_time": "2023-02-10T11:26:25.045Z"
   },
   {
    "duration": 15,
    "start_time": "2023-02-10T11:26:31.176Z"
   },
   {
    "duration": 5,
    "start_time": "2023-02-10T11:26:45.981Z"
   },
   {
    "duration": 13,
    "start_time": "2023-02-10T11:27:09.957Z"
   },
   {
    "duration": 25,
    "start_time": "2023-02-10T11:27:17.437Z"
   },
   {
    "duration": 7,
    "start_time": "2023-02-10T11:27:21.502Z"
   },
   {
    "duration": 9,
    "start_time": "2023-02-10T11:27:58.411Z"
   },
   {
    "duration": 24,
    "start_time": "2023-02-10T11:28:03.743Z"
   },
   {
    "duration": 20,
    "start_time": "2023-02-10T11:28:57.426Z"
   },
   {
    "duration": 14,
    "start_time": "2023-02-10T11:29:06.346Z"
   },
   {
    "duration": 9,
    "start_time": "2023-02-10T11:29:28.488Z"
   },
   {
    "duration": 32,
    "start_time": "2023-02-10T11:29:33.100Z"
   },
   {
    "duration": 8,
    "start_time": "2023-02-10T11:29:38.381Z"
   },
   {
    "duration": 4,
    "start_time": "2023-02-10T11:29:48.947Z"
   },
   {
    "duration": 9,
    "start_time": "2023-02-10T11:29:53.689Z"
   },
   {
    "duration": 8,
    "start_time": "2023-02-10T11:29:58.005Z"
   },
   {
    "duration": 4,
    "start_time": "2023-02-10T11:30:06.154Z"
   },
   {
    "duration": 4,
    "start_time": "2023-02-10T11:30:08.609Z"
   },
   {
    "duration": 5,
    "start_time": "2023-02-10T11:30:21.909Z"
   },
   {
    "duration": 21,
    "start_time": "2023-02-10T11:33:32.959Z"
   },
   {
    "duration": 18,
    "start_time": "2023-02-10T11:34:07.130Z"
   },
   {
    "duration": 11,
    "start_time": "2023-02-10T11:34:18.931Z"
   },
   {
    "duration": 115,
    "start_time": "2023-02-10T11:37:44.141Z"
   },
   {
    "duration": 70,
    "start_time": "2023-02-10T11:37:59.576Z"
   },
   {
    "duration": 112,
    "start_time": "2023-02-10T11:38:05.289Z"
   },
   {
    "duration": 108,
    "start_time": "2023-02-10T11:38:13.111Z"
   },
   {
    "duration": 4,
    "start_time": "2023-02-10T11:38:19.394Z"
   },
   {
    "duration": 4,
    "start_time": "2023-02-10T11:47:05.491Z"
   },
   {
    "duration": 9,
    "start_time": "2023-02-10T11:48:09.621Z"
   },
   {
    "duration": 4,
    "start_time": "2023-02-10T11:48:33.022Z"
   },
   {
    "duration": 327,
    "start_time": "2023-02-10T11:48:39.228Z"
   },
   {
    "duration": 160,
    "start_time": "2023-02-10T11:53:08.712Z"
   },
   {
    "duration": 8,
    "start_time": "2023-02-10T11:54:31.601Z"
   },
   {
    "duration": 8,
    "start_time": "2023-02-10T11:54:34.721Z"
   },
   {
    "duration": 4,
    "start_time": "2023-02-10T11:55:07.691Z"
   },
   {
    "duration": 3,
    "start_time": "2023-02-10T11:55:13.773Z"
   },
   {
    "duration": 1009,
    "start_time": "2023-02-10T11:55:14.545Z"
   },
   {
    "duration": 914,
    "start_time": "2023-02-10T11:55:54.141Z"
   },
   {
    "duration": 552,
    "start_time": "2023-02-10T11:56:31.815Z"
   },
   {
    "duration": 353,
    "start_time": "2023-02-10T11:56:40.813Z"
   },
   {
    "duration": 71,
    "start_time": "2023-02-10T11:59:43.690Z"
   },
   {
    "duration": 3,
    "start_time": "2023-02-10T11:59:56.412Z"
   },
   {
    "duration": 439,
    "start_time": "2023-02-10T11:59:57.182Z"
   },
   {
    "duration": 73,
    "start_time": "2023-02-10T12:01:01.983Z"
   },
   {
    "duration": 3,
    "start_time": "2023-02-10T12:01:12.492Z"
   },
   {
    "duration": 454,
    "start_time": "2023-02-10T12:01:17.769Z"
   },
   {
    "duration": 5,
    "start_time": "2023-02-10T12:01:34.852Z"
   },
   {
    "duration": 316,
    "start_time": "2023-02-10T12:01:36.750Z"
   },
   {
    "duration": 725,
    "start_time": "2023-02-10T12:02:53.731Z"
   },
   {
    "duration": 3,
    "start_time": "2023-02-10T12:03:06.684Z"
   },
   {
    "duration": 867,
    "start_time": "2023-02-10T12:03:08.001Z"
   },
   {
    "duration": 875,
    "start_time": "2023-02-10T12:04:36.487Z"
   },
   {
    "duration": 93,
    "start_time": "2023-02-10T12:05:20.076Z"
   },
   {
    "duration": 75,
    "start_time": "2023-02-10T12:05:51.291Z"
   },
   {
    "duration": 12,
    "start_time": "2023-02-10T12:06:20.078Z"
   },
   {
    "duration": 961,
    "start_time": "2023-02-10T12:06:22.796Z"
   },
   {
    "duration": 5,
    "start_time": "2023-02-10T12:07:44.428Z"
   },
   {
    "duration": 4070,
    "start_time": "2023-02-10T12:16:59.197Z"
   },
   {
    "duration": 3922,
    "start_time": "2023-02-10T12:17:31.017Z"
   },
   {
    "duration": 25,
    "start_time": "2023-02-10T12:18:10.216Z"
   },
   {
    "duration": 3,
    "start_time": "2023-02-10T12:18:32.698Z"
   },
   {
    "duration": 33,
    "start_time": "2023-02-10T12:19:07.671Z"
   },
   {
    "duration": 88,
    "start_time": "2023-02-10T12:19:27.857Z"
   },
   {
    "duration": 27,
    "start_time": "2023-02-10T12:19:30.987Z"
   },
   {
    "duration": 1393,
    "start_time": "2023-02-10T12:27:48.219Z"
   },
   {
    "duration": 736,
    "start_time": "2023-02-10T12:27:51.110Z"
   },
   {
    "duration": 27,
    "start_time": "2023-02-10T12:27:51.848Z"
   },
   {
    "duration": 13,
    "start_time": "2023-02-10T12:27:51.877Z"
   },
   {
    "duration": 17,
    "start_time": "2023-02-10T12:27:51.892Z"
   },
   {
    "duration": 11,
    "start_time": "2023-02-10T12:27:52.123Z"
   },
   {
    "duration": 5,
    "start_time": "2023-02-10T12:27:52.668Z"
   },
   {
    "duration": 6,
    "start_time": "2023-02-10T12:27:53.181Z"
   },
   {
    "duration": 36,
    "start_time": "2023-02-10T12:27:53.540Z"
   },
   {
    "duration": 43,
    "start_time": "2023-02-10T12:27:53.890Z"
   },
   {
    "duration": 4,
    "start_time": "2023-02-10T12:27:54.463Z"
   },
   {
    "duration": 8140,
    "start_time": "2023-02-10T12:27:54.648Z"
   },
   {
    "duration": 4,
    "start_time": "2023-02-10T12:28:02.790Z"
   },
   {
    "duration": 80,
    "start_time": "2023-02-10T12:28:02.795Z"
   },
   {
    "duration": 28,
    "start_time": "2023-02-10T12:28:02.877Z"
   },
   {
    "duration": 14,
    "start_time": "2023-02-10T12:28:02.907Z"
   },
   {
    "duration": 3,
    "start_time": "2023-02-10T12:28:02.923Z"
   },
   {
    "duration": 1143,
    "start_time": "2023-02-10T12:28:02.928Z"
   },
   {
    "duration": 171,
    "start_time": "2023-02-10T12:28:04.073Z"
   },
   {
    "duration": 333,
    "start_time": "2023-02-10T12:28:04.246Z"
   },
   {
    "duration": 3,
    "start_time": "2023-02-10T12:28:04.582Z"
   },
   {
    "duration": 391,
    "start_time": "2023-02-10T12:28:04.586Z"
   },
   {
    "duration": 393,
    "start_time": "2023-02-10T12:28:04.979Z"
   },
   {
    "duration": 505,
    "start_time": "2023-02-10T12:28:05.374Z"
   },
   {
    "duration": 3,
    "start_time": "2023-02-10T12:28:05.881Z"
   },
   {
    "duration": 1247,
    "start_time": "2023-02-10T12:28:05.886Z"
   },
   {
    "duration": 4,
    "start_time": "2023-02-10T12:28:07.135Z"
   },
   {
    "duration": 31,
    "start_time": "2023-02-10T12:28:07.140Z"
   },
   {
    "duration": 6,
    "start_time": "2023-02-10T12:28:07.173Z"
   },
   {
    "duration": 881,
    "start_time": "2023-02-10T12:28:07.181Z"
   },
   {
    "duration": 1503,
    "start_time": "2023-02-10T12:28:08.066Z"
   },
   {
    "duration": 8,
    "start_time": "2023-02-10T12:28:09.653Z"
   },
   {
    "duration": 119,
    "start_time": "2023-02-10T12:28:12.572Z"
   },
   {
    "duration": 19,
    "start_time": "2023-02-10T12:28:20.950Z"
   },
   {
    "duration": 73,
    "start_time": "2023-02-10T12:28:35.691Z"
   },
   {
    "duration": 15,
    "start_time": "2023-02-10T12:28:39.850Z"
   },
   {
    "duration": 9,
    "start_time": "2023-02-10T12:31:21.923Z"
   },
   {
    "duration": 4,
    "start_time": "2023-02-10T12:32:53.541Z"
   },
   {
    "duration": 1279,
    "start_time": "2023-02-10T12:33:02.167Z"
   },
   {
    "duration": 12,
    "start_time": "2023-02-10T12:35:19.529Z"
   },
   {
    "duration": 16687,
    "start_time": "2023-02-10T12:35:29.749Z"
   },
   {
    "duration": 19235,
    "start_time": "2023-02-10T12:36:14.166Z"
   },
   {
    "duration": 23345,
    "start_time": "2023-02-10T12:36:53.849Z"
   },
   {
    "duration": 18122,
    "start_time": "2023-02-10T12:37:44.324Z"
   },
   {
    "duration": 18485,
    "start_time": "2023-02-10T12:40:46.909Z"
   },
   {
    "duration": 27034,
    "start_time": "2023-02-10T12:41:05.396Z"
   },
   {
    "duration": 18492,
    "start_time": "2023-02-10T12:46:31.829Z"
   },
   {
    "duration": 18894,
    "start_time": "2023-02-10T12:48:28.011Z"
   },
   {
    "duration": 25512,
    "start_time": "2023-02-10T12:48:46.907Z"
   },
   {
    "duration": 21391,
    "start_time": "2023-02-10T12:50:26.830Z"
   },
   {
    "duration": 29733,
    "start_time": "2023-02-10T12:50:48.223Z"
   },
   {
    "duration": 58228,
    "start_time": "2023-02-10T12:51:51.682Z"
   },
   {
    "duration": 29956,
    "start_time": "2023-02-10T12:54:31.441Z"
   },
   {
    "duration": 11,
    "start_time": "2023-02-10T12:55:31.192Z"
   },
   {
    "duration": 12,
    "start_time": "2023-02-10T12:55:49.981Z"
   },
   {
    "duration": 5,
    "start_time": "2023-02-10T12:56:01.337Z"
   },
   {
    "duration": 232408,
    "start_time": "2023-02-10T12:56:07.980Z"
   },
   {
    "duration": 12497,
    "start_time": "2023-02-10T13:00:22.243Z"
   },
   {
    "duration": 93561,
    "start_time": "2023-02-10T13:01:07.353Z"
   },
   {
    "duration": 6213,
    "start_time": "2023-02-10T13:02:43.021Z"
   },
   {
    "duration": 5,
    "start_time": "2023-02-10T13:02:55.444Z"
   },
   {
    "duration": 4,
    "start_time": "2023-02-10T13:03:01.932Z"
   },
   {
    "duration": 13924,
    "start_time": "2023-02-10T13:03:21.423Z"
   },
   {
    "duration": 24,
    "start_time": "2023-02-10T13:03:38.550Z"
   },
   {
    "duration": 99624,
    "start_time": "2023-02-10T13:03:49.221Z"
   },
   {
    "duration": 0,
    "start_time": "2023-02-10T13:05:28.857Z"
   },
   {
    "duration": 1435,
    "start_time": "2023-02-10T13:07:04.546Z"
   },
   {
    "duration": 698,
    "start_time": "2023-02-10T13:07:05.983Z"
   },
   {
    "duration": 16,
    "start_time": "2023-02-10T13:07:06.682Z"
   },
   {
    "duration": 11,
    "start_time": "2023-02-10T13:07:06.700Z"
   },
   {
    "duration": 16,
    "start_time": "2023-02-10T13:07:06.712Z"
   },
   {
    "duration": 38,
    "start_time": "2023-02-10T13:07:06.730Z"
   },
   {
    "duration": 15,
    "start_time": "2023-02-10T13:07:06.769Z"
   },
   {
    "duration": 6,
    "start_time": "2023-02-10T13:07:07.263Z"
   },
   {
    "duration": 36,
    "start_time": "2023-02-10T13:07:07.481Z"
   },
   {
    "duration": 48,
    "start_time": "2023-02-10T13:07:07.967Z"
   },
   {
    "duration": 3,
    "start_time": "2023-02-10T13:07:08.402Z"
   },
   {
    "duration": 7655,
    "start_time": "2023-02-10T13:07:08.640Z"
   },
   {
    "duration": 3,
    "start_time": "2023-02-10T13:07:16.297Z"
   },
   {
    "duration": 79,
    "start_time": "2023-02-10T13:07:16.302Z"
   },
   {
    "duration": 29,
    "start_time": "2023-02-10T13:07:16.384Z"
   },
   {
    "duration": 17,
    "start_time": "2023-02-10T13:07:16.414Z"
   },
   {
    "duration": 34,
    "start_time": "2023-02-10T13:07:16.433Z"
   },
   {
    "duration": 1113,
    "start_time": "2023-02-10T13:07:16.469Z"
   },
   {
    "duration": 180,
    "start_time": "2023-02-10T13:07:17.585Z"
   },
   {
    "duration": 329,
    "start_time": "2023-02-10T13:07:17.767Z"
   },
   {
    "duration": 4,
    "start_time": "2023-02-10T13:07:18.099Z"
   },
   {
    "duration": 364,
    "start_time": "2023-02-10T13:07:18.104Z"
   },
   {
    "duration": 342,
    "start_time": "2023-02-10T13:07:18.470Z"
   },
   {
    "duration": 459,
    "start_time": "2023-02-10T13:07:18.813Z"
   },
   {
    "duration": 4,
    "start_time": "2023-02-10T13:07:19.273Z"
   },
   {
    "duration": 1219,
    "start_time": "2023-02-10T13:07:19.279Z"
   },
   {
    "duration": 4,
    "start_time": "2023-02-10T13:07:20.500Z"
   },
   {
    "duration": 18,
    "start_time": "2023-02-10T13:07:20.506Z"
   },
   {
    "duration": 13,
    "start_time": "2023-02-10T13:07:20.526Z"
   },
   {
    "duration": 923,
    "start_time": "2023-02-10T13:07:20.541Z"
   },
   {
    "duration": 1090,
    "start_time": "2023-02-10T13:07:21.466Z"
   },
   {
    "duration": 14,
    "start_time": "2023-02-10T13:07:22.559Z"
   },
   {
    "duration": 21996,
    "start_time": "2023-02-10T13:07:22.576Z"
   },
   {
    "duration": 30062,
    "start_time": "2023-02-10T13:07:44.575Z"
   },
   {
    "duration": 739449,
    "start_time": "2023-02-10T13:08:14.638Z"
   },
   {
    "duration": 10,
    "start_time": "2023-02-10T16:01:06.228Z"
   },
   {
    "duration": 1270130,
    "start_time": "2023-02-10T16:03:06.287Z"
   },
   {
    "duration": 288,
    "start_time": "2023-02-10T16:24:16.419Z"
   },
   {
    "duration": 9,
    "start_time": "2023-02-10T16:25:55.452Z"
   },
   {
    "duration": 190386,
    "start_time": "2023-02-10T16:26:55.687Z"
   },
   {
    "duration": 404,
    "start_time": "2023-02-10T16:30:06.075Z"
   },
   {
    "duration": 67,
    "start_time": "2023-02-10T16:30:06.481Z"
   },
   {
    "duration": 3,
    "start_time": "2023-02-10T16:30:17.223Z"
   },
   {
    "duration": 9,
    "start_time": "2023-02-10T16:30:22.996Z"
   },
   {
    "duration": 823347,
    "start_time": "2023-02-10T16:33:48.867Z"
   },
   {
    "duration": 10,
    "start_time": "2023-02-10T16:48:55.466Z"
   },
   {
    "duration": 2997,
    "start_time": "2023-02-10T16:49:50.737Z"
   },
   {
    "duration": 12,
    "start_time": "2023-02-10T16:49:57.486Z"
   },
   {
    "duration": 3018,
    "start_time": "2023-02-10T16:50:13.672Z"
   },
   {
    "duration": 9,
    "start_time": "2023-02-10T16:50:17.637Z"
   },
   {
    "duration": 6953,
    "start_time": "2023-02-10T16:50:24.621Z"
   },
   {
    "duration": 12,
    "start_time": "2023-02-10T16:50:32.388Z"
   },
   {
    "duration": 93838,
    "start_time": "2023-02-10T16:50:42.897Z"
   },
   {
    "duration": 9,
    "start_time": "2023-02-10T16:56:07.302Z"
   },
   {
    "duration": 182414,
    "start_time": "2023-02-10T16:56:59.068Z"
   },
   {
    "duration": 10,
    "start_time": "2023-02-10T17:00:24.147Z"
   },
   {
    "duration": 65817,
    "start_time": "2023-02-10T17:00:39.306Z"
   },
   {
    "duration": 9,
    "start_time": "2023-02-10T17:01:51.850Z"
   },
   {
    "duration": 4,
    "start_time": "2023-02-10T17:02:13.297Z"
   },
   {
    "duration": 10,
    "start_time": "2023-02-10T17:02:19.053Z"
   },
   {
    "duration": 20520,
    "start_time": "2023-02-10T17:02:26.017Z"
   },
   {
    "duration": 28265,
    "start_time": "2023-02-10T17:02:46.538Z"
   },
   {
    "duration": 7,
    "start_time": "2023-02-10T17:03:18.537Z"
   },
   {
    "duration": 8,
    "start_time": "2023-02-10T17:03:35.056Z"
   },
   {
    "duration": 6,
    "start_time": "2023-02-10T17:03:46.415Z"
   },
   {
    "duration": 1169,
    "start_time": "2023-02-10T17:03:51.555Z"
   },
   {
    "duration": 4,
    "start_time": "2023-02-10T17:04:00.257Z"
   },
   {
    "duration": 4,
    "start_time": "2023-02-10T17:04:03.885Z"
   },
   {
    "duration": 4,
    "start_time": "2023-02-10T17:04:07.497Z"
   },
   {
    "duration": 4,
    "start_time": "2023-02-10T17:04:19.977Z"
   },
   {
    "duration": 5,
    "start_time": "2023-02-10T17:04:48.118Z"
   },
   {
    "duration": 6,
    "start_time": "2023-02-10T17:05:04.607Z"
   },
   {
    "duration": 4,
    "start_time": "2023-02-10T17:05:11.228Z"
   },
   {
    "duration": 5,
    "start_time": "2023-02-10T17:05:15.015Z"
   },
   {
    "duration": 1119,
    "start_time": "2023-02-10T17:05:25.741Z"
   },
   {
    "duration": 1174,
    "start_time": "2023-02-10T17:05:29.687Z"
   },
   {
    "duration": 6,
    "start_time": "2023-02-10T17:05:47.056Z"
   },
   {
    "duration": 593,
    "start_time": "2023-02-10T17:06:00.365Z"
   },
   {
    "duration": 1093,
    "start_time": "2023-02-10T17:06:00.961Z"
   },
   {
    "duration": 3,
    "start_time": "2023-02-10T17:06:02.056Z"
   },
   {
    "duration": 9,
    "start_time": "2023-02-10T17:07:34.187Z"
   },
   {
    "duration": 17,
    "start_time": "2023-02-10T17:07:40.489Z"
   },
   {
    "duration": 476,
    "start_time": "2023-02-10T17:07:45.886Z"
   },
   {
    "duration": 543,
    "start_time": "2023-02-10T17:07:48.215Z"
   },
   {
    "duration": 3,
    "start_time": "2023-02-10T17:08:08.777Z"
   },
   {
    "duration": 2150,
    "start_time": "2023-02-11T15:25:38.557Z"
   },
   {
    "duration": 855,
    "start_time": "2023-02-11T15:25:40.709Z"
   },
   {
    "duration": 18,
    "start_time": "2023-02-11T15:25:41.565Z"
   },
   {
    "duration": 11,
    "start_time": "2023-02-11T15:25:41.585Z"
   },
   {
    "duration": 17,
    "start_time": "2023-02-11T15:25:41.598Z"
   },
   {
    "duration": 9,
    "start_time": "2023-02-11T15:25:41.638Z"
   },
   {
    "duration": 5,
    "start_time": "2023-02-11T15:25:41.649Z"
   },
   {
    "duration": 6,
    "start_time": "2023-02-11T15:25:41.655Z"
   },
   {
    "duration": 28,
    "start_time": "2023-02-11T15:25:41.662Z"
   },
   {
    "duration": 67,
    "start_time": "2023-02-11T15:25:41.692Z"
   },
   {
    "duration": 3,
    "start_time": "2023-02-11T15:25:41.762Z"
   },
   {
    "duration": 6983,
    "start_time": "2023-02-11T15:25:41.767Z"
   },
   {
    "duration": 4,
    "start_time": "2023-02-11T15:25:48.752Z"
   },
   {
    "duration": 56,
    "start_time": "2023-02-11T15:25:48.758Z"
   },
   {
    "duration": 36,
    "start_time": "2023-02-11T15:25:48.815Z"
   },
   {
    "duration": 13,
    "start_time": "2023-02-11T15:25:48.852Z"
   },
   {
    "duration": 3,
    "start_time": "2023-02-11T15:25:48.866Z"
   },
   {
    "duration": 980,
    "start_time": "2023-02-11T15:25:48.870Z"
   },
   {
    "duration": 145,
    "start_time": "2023-02-11T15:25:49.852Z"
   },
   {
    "duration": 298,
    "start_time": "2023-02-11T15:25:49.998Z"
   },
   {
    "duration": 4,
    "start_time": "2023-02-11T15:25:50.298Z"
   },
   {
    "duration": 357,
    "start_time": "2023-02-11T15:25:50.303Z"
   },
   {
    "duration": 343,
    "start_time": "2023-02-11T15:25:50.661Z"
   },
   {
    "duration": 448,
    "start_time": "2023-02-11T15:25:51.006Z"
   },
   {
    "duration": 4,
    "start_time": "2023-02-11T15:25:51.456Z"
   },
   {
    "duration": 1150,
    "start_time": "2023-02-11T15:25:51.461Z"
   },
   {
    "duration": 4,
    "start_time": "2023-02-11T15:25:52.614Z"
   },
   {
    "duration": 28,
    "start_time": "2023-02-11T15:25:52.621Z"
   },
   {
    "duration": 10,
    "start_time": "2023-02-11T15:25:52.651Z"
   },
   {
    "duration": 12,
    "start_time": "2023-02-11T15:26:41.928Z"
   },
   {
    "duration": 2015,
    "start_time": "2023-02-11T15:55:07.552Z"
   },
   {
    "duration": 3295,
    "start_time": "2023-02-11T15:55:09.570Z"
   },
   {
    "duration": 25,
    "start_time": "2023-02-11T15:55:12.867Z"
   },
   {
    "duration": 13,
    "start_time": "2023-02-11T15:55:12.895Z"
   },
   {
    "duration": 17,
    "start_time": "2023-02-11T15:55:12.909Z"
   },
   {
    "duration": 24,
    "start_time": "2023-02-11T15:55:12.927Z"
   },
   {
    "duration": 8,
    "start_time": "2023-02-11T15:55:12.953Z"
   },
   {
    "duration": 5,
    "start_time": "2023-02-11T15:55:12.963Z"
   },
   {
    "duration": 29,
    "start_time": "2023-02-11T15:55:12.970Z"
   },
   {
    "duration": 67,
    "start_time": "2023-02-11T15:55:13.002Z"
   },
   {
    "duration": 4,
    "start_time": "2023-02-11T15:55:13.071Z"
   },
   {
    "duration": 7586,
    "start_time": "2023-02-11T15:55:13.154Z"
   },
   {
    "duration": 4,
    "start_time": "2023-02-11T15:55:20.743Z"
   },
   {
    "duration": 78,
    "start_time": "2023-02-11T15:55:20.749Z"
   },
   {
    "duration": 31,
    "start_time": "2023-02-11T15:55:20.829Z"
   },
   {
    "duration": 16,
    "start_time": "2023-02-11T15:55:20.862Z"
   },
   {
    "duration": 3,
    "start_time": "2023-02-11T15:55:20.880Z"
   },
   {
    "duration": 1166,
    "start_time": "2023-02-11T15:55:20.884Z"
   },
   {
    "duration": 158,
    "start_time": "2023-02-11T15:55:22.052Z"
   },
   {
    "duration": 413,
    "start_time": "2023-02-11T15:55:23.036Z"
   },
   {
    "duration": 4,
    "start_time": "2023-02-11T15:59:53.854Z"
   },
   {
    "duration": 115,
    "start_time": "2023-02-11T16:00:02.055Z"
   },
   {
    "duration": 11,
    "start_time": "2023-02-11T16:00:05.198Z"
   },
   {
    "duration": 6,
    "start_time": "2023-02-11T16:01:13.781Z"
   },
   {
    "duration": 47,
    "start_time": "2023-02-11T16:01:14.849Z"
   },
   {
    "duration": 83,
    "start_time": "2023-02-11T16:01:23.784Z"
   },
   {
    "duration": 4,
    "start_time": "2023-02-11T16:01:24.614Z"
   },
   {
    "duration": 24,
    "start_time": "2023-02-11T16:01:34.301Z"
   },
   {
    "duration": 10,
    "start_time": "2023-02-11T16:01:43.316Z"
   },
   {
    "duration": 32,
    "start_time": "2023-02-11T16:01:56.939Z"
   },
   {
    "duration": 1427,
    "start_time": "2023-02-11T16:02:27.223Z"
   },
   {
    "duration": 684,
    "start_time": "2023-02-11T16:02:28.653Z"
   },
   {
    "duration": 22,
    "start_time": "2023-02-11T16:02:29.339Z"
   },
   {
    "duration": 17,
    "start_time": "2023-02-11T16:02:29.363Z"
   },
   {
    "duration": 23,
    "start_time": "2023-02-11T16:02:29.382Z"
   },
   {
    "duration": 38,
    "start_time": "2023-02-11T16:02:29.407Z"
   },
   {
    "duration": 6,
    "start_time": "2023-02-11T16:02:29.447Z"
   },
   {
    "duration": 5,
    "start_time": "2023-02-11T16:02:30.006Z"
   },
   {
    "duration": 26,
    "start_time": "2023-02-11T16:02:30.215Z"
   },
   {
    "duration": 44,
    "start_time": "2023-02-11T16:02:31.525Z"
   },
   {
    "duration": 3,
    "start_time": "2023-02-11T16:02:31.646Z"
   },
   {
    "duration": 7559,
    "start_time": "2023-02-11T16:02:31.943Z"
   },
   {
    "duration": 3,
    "start_time": "2023-02-11T16:02:39.504Z"
   },
   {
    "duration": 78,
    "start_time": "2023-02-11T16:02:39.509Z"
   },
   {
    "duration": 28,
    "start_time": "2023-02-11T16:02:39.589Z"
   },
   {
    "duration": 24,
    "start_time": "2023-02-11T16:02:39.619Z"
   },
   {
    "duration": 3,
    "start_time": "2023-02-11T16:02:39.645Z"
   },
   {
    "duration": 1131,
    "start_time": "2023-02-11T16:02:39.649Z"
   },
   {
    "duration": 170,
    "start_time": "2023-02-11T16:02:40.782Z"
   },
   {
    "duration": 434,
    "start_time": "2023-02-11T16:02:40.954Z"
   },
   {
    "duration": 4,
    "start_time": "2023-02-11T16:02:47.892Z"
   },
   {
    "duration": 116,
    "start_time": "2023-02-11T16:02:48.776Z"
   },
   {
    "duration": 36,
    "start_time": "2023-02-11T16:02:50.542Z"
   },
   {
    "duration": 57,
    "start_time": "2023-02-11T16:03:02.171Z"
   },
   {
    "duration": 33,
    "start_time": "2023-02-11T16:03:10.018Z"
   },
   {
    "duration": 51,
    "start_time": "2023-02-11T16:03:17.847Z"
   },
   {
    "duration": 40,
    "start_time": "2023-02-11T16:03:25.848Z"
   },
   {
    "duration": 1293,
    "start_time": "2023-02-11T16:20:55.059Z"
   },
   {
    "duration": 656,
    "start_time": "2023-02-11T16:20:56.354Z"
   },
   {
    "duration": 26,
    "start_time": "2023-02-11T16:20:57.011Z"
   },
   {
    "duration": 12,
    "start_time": "2023-02-11T16:20:57.039Z"
   },
   {
    "duration": 17,
    "start_time": "2023-02-11T16:20:57.052Z"
   },
   {
    "duration": 9,
    "start_time": "2023-02-11T16:20:57.070Z"
   },
   {
    "duration": 6,
    "start_time": "2023-02-11T16:20:57.710Z"
   },
   {
    "duration": 4,
    "start_time": "2023-02-11T16:20:59.628Z"
   },
   {
    "duration": 26,
    "start_time": "2023-02-11T16:21:00.240Z"
   },
   {
    "duration": 45,
    "start_time": "2023-02-11T16:21:01.020Z"
   },
   {
    "duration": 3,
    "start_time": "2023-02-11T16:21:01.920Z"
   },
   {
    "duration": 7730,
    "start_time": "2023-02-11T16:21:02.358Z"
   },
   {
    "duration": 3,
    "start_time": "2023-02-11T16:21:10.091Z"
   },
   {
    "duration": 68,
    "start_time": "2023-02-11T16:21:10.095Z"
   },
   {
    "duration": 27,
    "start_time": "2023-02-11T16:21:10.166Z"
   },
   {
    "duration": 15,
    "start_time": "2023-02-11T16:21:10.195Z"
   },
   {
    "duration": 25,
    "start_time": "2023-02-11T16:21:10.212Z"
   },
   {
    "duration": 1073,
    "start_time": "2023-02-11T16:21:10.239Z"
   },
   {
    "duration": 163,
    "start_time": "2023-02-11T16:21:11.314Z"
   },
   {
    "duration": 423,
    "start_time": "2023-02-11T16:21:11.478Z"
   },
   {
    "duration": 4,
    "start_time": "2023-02-11T16:21:17.020Z"
   },
   {
    "duration": 55,
    "start_time": "2023-02-11T16:21:18.632Z"
   },
   {
    "duration": 50,
    "start_time": "2023-02-11T16:21:28.029Z"
   },
   {
    "duration": 424,
    "start_time": "2023-02-11T16:21:53.281Z"
   },
   {
    "duration": 432,
    "start_time": "2023-02-11T16:22:07.128Z"
   },
   {
    "duration": 51,
    "start_time": "2023-02-11T16:22:19.641Z"
   },
   {
    "duration": 52,
    "start_time": "2023-02-11T16:22:25.090Z"
   },
   {
    "duration": 48,
    "start_time": "2023-02-11T16:22:31.943Z"
   },
   {
    "duration": 33,
    "start_time": "2023-02-11T16:22:37.747Z"
   },
   {
    "duration": 140,
    "start_time": "2023-02-11T16:23:06.959Z"
   },
   {
    "duration": 5,
    "start_time": "2023-02-11T16:23:13.433Z"
   },
   {
    "duration": 4,
    "start_time": "2023-02-11T16:24:37.640Z"
   },
   {
    "duration": 1437,
    "start_time": "2023-02-11T16:45:18.889Z"
   },
   {
    "duration": 743,
    "start_time": "2023-02-11T16:45:20.328Z"
   },
   {
    "duration": 21,
    "start_time": "2023-02-11T16:45:21.074Z"
   },
   {
    "duration": 12,
    "start_time": "2023-02-11T16:45:21.098Z"
   },
   {
    "duration": 39,
    "start_time": "2023-02-11T16:45:21.112Z"
   },
   {
    "duration": 13,
    "start_time": "2023-02-11T16:45:21.153Z"
   },
   {
    "duration": 6,
    "start_time": "2023-02-11T16:45:21.288Z"
   },
   {
    "duration": 8,
    "start_time": "2023-02-11T16:45:22.268Z"
   },
   {
    "duration": 30,
    "start_time": "2023-02-11T16:45:22.467Z"
   },
   {
    "duration": 53,
    "start_time": "2023-02-11T16:45:23.254Z"
   },
   {
    "duration": 3,
    "start_time": "2023-02-11T16:45:23.826Z"
   },
   {
    "duration": 8789,
    "start_time": "2023-02-11T16:45:23.986Z"
   },
   {
    "duration": 4,
    "start_time": "2023-02-11T16:45:32.778Z"
   },
   {
    "duration": 105,
    "start_time": "2023-02-11T16:45:32.784Z"
   },
   {
    "duration": 49,
    "start_time": "2023-02-11T16:45:32.891Z"
   },
   {
    "duration": 43,
    "start_time": "2023-02-11T16:45:32.944Z"
   },
   {
    "duration": 3,
    "start_time": "2023-02-11T16:45:32.989Z"
   },
   {
    "duration": 1227,
    "start_time": "2023-02-11T16:45:32.993Z"
   },
   {
    "duration": 184,
    "start_time": "2023-02-11T16:45:34.223Z"
   },
   {
    "duration": 531,
    "start_time": "2023-02-11T16:45:34.412Z"
   },
   {
    "duration": 6,
    "start_time": "2023-02-11T16:45:37.735Z"
   },
   {
    "duration": 179,
    "start_time": "2023-02-11T16:45:38.548Z"
   },
   {
    "duration": 5,
    "start_time": "2023-02-11T16:45:39.416Z"
   },
   {
    "duration": 21,
    "start_time": "2023-02-11T16:45:44.512Z"
   },
   {
    "duration": 3,
    "start_time": "2023-02-11T16:45:46.706Z"
   },
   {
    "duration": 3,
    "start_time": "2023-02-11T16:45:49.686Z"
   },
   {
    "duration": 969,
    "start_time": "2023-02-11T16:45:59.987Z"
   },
   {
    "duration": 1416,
    "start_time": "2023-02-11T16:46:03.264Z"
   },
   {
    "duration": 4,
    "start_time": "2023-02-11T16:46:04.901Z"
   },
   {
    "duration": 180,
    "start_time": "2023-02-11T16:46:22.265Z"
   },
   {
    "duration": 269,
    "start_time": "2023-02-11T16:46:26.871Z"
   },
   {
    "duration": 214,
    "start_time": "2023-02-11T16:46:53.332Z"
   },
   {
    "duration": 7,
    "start_time": "2023-02-11T16:46:55.664Z"
   },
   {
    "duration": 9,
    "start_time": "2023-02-11T16:47:00.410Z"
   },
   {
    "duration": 11,
    "start_time": "2023-02-11T16:47:01.273Z"
   },
   {
    "duration": 7,
    "start_time": "2023-02-11T16:47:02.161Z"
   },
   {
    "duration": 1499,
    "start_time": "2023-02-11T18:40:44.845Z"
   },
   {
    "duration": 1910,
    "start_time": "2023-02-11T18:40:49.648Z"
   },
   {
    "duration": 19,
    "start_time": "2023-02-11T18:40:51.559Z"
   },
   {
    "duration": 13,
    "start_time": "2023-02-11T18:40:51.579Z"
   },
   {
    "duration": 17,
    "start_time": "2023-02-11T18:40:51.594Z"
   },
   {
    "duration": 25,
    "start_time": "2023-02-11T18:40:51.613Z"
   },
   {
    "duration": 6,
    "start_time": "2023-02-11T18:40:51.850Z"
   },
   {
    "duration": 5,
    "start_time": "2023-02-11T18:40:53.192Z"
   },
   {
    "duration": 26,
    "start_time": "2023-02-11T18:40:53.480Z"
   },
   {
    "duration": 41,
    "start_time": "2023-02-11T18:40:54.330Z"
   },
   {
    "duration": 4,
    "start_time": "2023-02-11T18:40:55.211Z"
   },
   {
    "duration": 7591,
    "start_time": "2023-02-11T18:40:55.464Z"
   },
   {
    "duration": 4,
    "start_time": "2023-02-11T18:41:03.058Z"
   },
   {
    "duration": 70,
    "start_time": "2023-02-11T18:41:03.064Z"
   },
   {
    "duration": 29,
    "start_time": "2023-02-11T18:41:03.136Z"
   },
   {
    "duration": 17,
    "start_time": "2023-02-11T18:41:03.167Z"
   },
   {
    "duration": 2,
    "start_time": "2023-02-11T18:41:03.187Z"
   },
   {
    "duration": 1033,
    "start_time": "2023-02-11T18:41:03.191Z"
   },
   {
    "duration": 150,
    "start_time": "2023-02-11T18:41:04.227Z"
   },
   {
    "duration": 417,
    "start_time": "2023-02-11T18:41:04.379Z"
   },
   {
    "duration": 4,
    "start_time": "2023-02-11T18:41:07.888Z"
   },
   {
    "duration": 140,
    "start_time": "2023-02-11T18:41:08.743Z"
   },
   {
    "duration": 4,
    "start_time": "2023-02-11T18:41:09.400Z"
   },
   {
    "duration": 20,
    "start_time": "2023-02-11T18:41:20.121Z"
   },
   {
    "duration": 4,
    "start_time": "2023-02-11T18:41:22.041Z"
   },
   {
    "duration": 3,
    "start_time": "2023-02-11T18:41:27.031Z"
   },
   {
    "duration": 22155,
    "start_time": "2023-02-11T18:41:38.520Z"
   },
   {
    "duration": 30573,
    "start_time": "2023-02-11T18:42:18.402Z"
   },
   {
    "duration": 4,
    "start_time": "2023-02-11T18:42:56.754Z"
   },
   {
    "duration": 413017,
    "start_time": "2023-02-11T18:43:13.591Z"
   },
   {
    "duration": 9,
    "start_time": "2023-02-11T18:50:06.610Z"
   },
   {
    "duration": 15,
    "start_time": "2023-02-11T18:52:09.937Z"
   },
   {
    "duration": 69516,
    "start_time": "2023-02-11T18:54:02.990Z"
   },
   {
    "duration": 11,
    "start_time": "2023-02-11T18:56:32.733Z"
   },
   {
    "duration": 4,
    "start_time": "2023-02-11T18:57:42.397Z"
   },
   {
    "duration": 851,
    "start_time": "2023-02-11T18:57:59.786Z"
   },
   {
    "duration": 922,
    "start_time": "2023-02-11T18:58:01.618Z"
   },
   {
    "duration": 4,
    "start_time": "2023-02-11T18:58:03.296Z"
   },
   {
    "duration": 19,
    "start_time": "2023-02-11T18:58:53.992Z"
   },
   {
    "duration": 77,
    "start_time": "2023-02-11T18:58:55.551Z"
   },
   {
    "duration": 4,
    "start_time": "2023-02-11T18:58:56.253Z"
   },
   {
    "duration": 1554,
    "start_time": "2024-04-11T13:57:27.989Z"
   },
   {
    "duration": 3284,
    "start_time": "2024-04-11T13:57:35.189Z"
   },
   {
    "duration": 18,
    "start_time": "2024-04-11T13:57:41.178Z"
   },
   {
    "duration": 32,
    "start_time": "2024-04-11T13:59:24.690Z"
   },
   {
    "duration": 2636,
    "start_time": "2024-04-11T14:00:15.500Z"
   },
   {
    "duration": 700,
    "start_time": "2024-04-11T14:00:35.290Z"
   },
   {
    "duration": 3428,
    "start_time": "2024-04-11T14:00:58.210Z"
   }
  ],
  "kernelspec": {
   "display_name": "Python 3 (ipykernel)",
   "language": "python",
   "name": "python3"
  },
  "language_info": {
   "codemirror_mode": {
    "name": "ipython",
    "version": 3
   },
   "file_extension": ".py",
   "mimetype": "text/x-python",
   "name": "python",
   "nbconvert_exporter": "python",
   "pygments_lexer": "ipython3",
   "version": "3.9.5"
  },
  "toc": {
   "base_numbering": 1,
   "nav_menu": {},
   "number_sections": true,
   "sideBar": true,
   "skip_h1_title": true,
   "title_cell": "Содержание",
   "title_sidebar": "Contents",
   "toc_cell": true,
   "toc_position": {
    "height": "calc(100% - 180px)",
    "left": "10px",
    "top": "150px",
    "width": "165px"
   },
   "toc_section_display": true,
   "toc_window_display": true
  }
 },
 "nbformat": 4,
 "nbformat_minor": 2
}
